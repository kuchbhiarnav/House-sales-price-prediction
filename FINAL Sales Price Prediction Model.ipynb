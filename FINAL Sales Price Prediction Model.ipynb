{
 "cells": [
  {
   "cell_type": "markdown",
   "id": "403e83f8",
   "metadata": {},
   "source": [
    "# Problem Statement¶\n",
    "    Predict the sales price for each house || For each Id in the test set, you must predict the value of the SalePrice variable."
   ]
  },
  {
   "cell_type": "code",
   "execution_count": 1,
   "id": "4dfb596b",
   "metadata": {},
   "outputs": [],
   "source": [
    "from warnings import filterwarnings\n",
    "filterwarnings(\"ignore\")"
   ]
  },
  {
   "cell_type": "markdown",
   "id": "f3dd77d7",
   "metadata": {},
   "source": [
    "# Reading Datasets"
   ]
  },
  {
   "cell_type": "code",
   "execution_count": 2,
   "id": "a9167529",
   "metadata": {},
   "outputs": [],
   "source": [
    "import pandas as pd\n",
    "import os\n",
    "os.chdir(\"/Users/Arnav/Desktop/vb classes/PROJECTS/P1 (HOUSE PREDICTION)/\")\n",
    "train=pd.read_csv(\"training_set.csv\")\n",
    "test= pd.read_csv(\"testing_set.csv\")"
   ]
  },
  {
   "cell_type": "markdown",
   "id": "26192b86",
   "metadata": {},
   "source": [
    "Replacing the NA values (NA != null values)"
   ]
  },
  {
   "cell_type": "code",
   "execution_count": 3,
   "id": "e123e1b6",
   "metadata": {},
   "outputs": [],
   "source": [
    "train[\"Alley\"].fillna(value=\"noAcess\", inplace=True)\n",
    "train[\"BsmtQual\"].fillna(value=\"noBasement\", inplace=True)\n",
    "train[\"BsmtCond\"].fillna(value=\"noBasement\", inplace=True)\n",
    "train[\"BsmtExposure\"].fillna(value=\"noBasement\", inplace=True)\n",
    "train[\"BsmtFinType1\"].fillna(value=\"noBasement\", inplace=True)\n",
    "train[\"BsmtFinType2\"].fillna(value=\"noBasement\", inplace=True)\n",
    "train[\"FireplaceQu\"].fillna(value=\"noFireplace\", inplace=True)\n",
    "train[\"GarageType\"].fillna(value=\"noGarage\", inplace=True)\n",
    "train[\"GarageFinish\"].fillna(value=\"noGarage\", inplace=True)\n",
    "train[\"GarageQual\"].fillna(value=\"noGarage\", inplace=True)\n",
    "train[\"GarageCond\"].fillna(value=\"noGarage\", inplace=True)\n",
    "train[\"PoolQC\"].fillna(value=\"noPool\", inplace=True)\n",
    "train[\"Fence\"].fillna(value=\"noFence\", inplace=True)\n",
    "train[\"MiscFeature\"].fillna(value=\"None\", inplace=True)"
   ]
  },
  {
   "cell_type": "code",
   "execution_count": 4,
   "id": "7e1583f2",
   "metadata": {},
   "outputs": [],
   "source": [
    "test[\"Alley\"].fillna(value=\"noAcess\", inplace=True)\n",
    "test[\"BsmtQual\"].fillna(value=\"noBasement\", inplace=True)\n",
    "test[\"BsmtCond\"].fillna(value=\"noBasement\", inplace=True)\n",
    "test[\"BsmtExposure\"].fillna(value=\"noBasement\", inplace=True)\n",
    "test[\"BsmtFinType1\"].fillna(value=\"noBasement\", inplace=True)\n",
    "test[\"BsmtFinType2\"].fillna(value=\"noBasement\", inplace=True)\n",
    "test[\"FireplaceQu\"].fillna(value=\"noFireplace\", inplace=True)\n",
    "test[\"GarageType\"].fillna(value=\"noGarage\", inplace=True)\n",
    "test[\"GarageFinish\"].fillna(value=\"noGarage\", inplace=True)\n",
    "test[\"GarageQual\"].fillna(value=\"noGarage\", inplace=True)\n",
    "test[\"GarageCond\"].fillna(value=\"noGarage\", inplace=True)\n",
    "test[\"PoolQC\"].fillna(value=\"noPool\", inplace=True)\n",
    "test[\"Fence\"].fillna(value=\"noFence\", inplace=True)\n",
    "test[\"MiscFeature\"].fillna(value=\"None\", inplace=True)"
   ]
  },
  {
   "cell_type": "markdown",
   "id": "1c7d08e6",
   "metadata": {},
   "source": [
    "# Data Profiling"
   ]
  },
  {
   "cell_type": "code",
   "execution_count": 5,
   "id": "f3d29118",
   "metadata": {},
   "outputs": [
    {
     "data": {
      "text/html": [
       "<div>\n",
       "<style scoped>\n",
       "    .dataframe tbody tr th:only-of-type {\n",
       "        vertical-align: middle;\n",
       "    }\n",
       "\n",
       "    .dataframe tbody tr th {\n",
       "        vertical-align: top;\n",
       "    }\n",
       "\n",
       "    .dataframe thead th {\n",
       "        text-align: right;\n",
       "    }\n",
       "</style>\n",
       "<table border=\"1\" class=\"dataframe\">\n",
       "  <thead>\n",
       "    <tr style=\"text-align: right;\">\n",
       "      <th></th>\n",
       "      <th>Id</th>\n",
       "      <th>MSSubClass</th>\n",
       "      <th>MSZoning</th>\n",
       "      <th>LotFrontage</th>\n",
       "      <th>LotArea</th>\n",
       "      <th>Street</th>\n",
       "      <th>Alley</th>\n",
       "      <th>LotShape</th>\n",
       "      <th>LandContour</th>\n",
       "      <th>Utilities</th>\n",
       "      <th>...</th>\n",
       "      <th>PoolArea</th>\n",
       "      <th>PoolQC</th>\n",
       "      <th>Fence</th>\n",
       "      <th>MiscFeature</th>\n",
       "      <th>MiscVal</th>\n",
       "      <th>MoSold</th>\n",
       "      <th>YrSold</th>\n",
       "      <th>SaleType</th>\n",
       "      <th>SaleCondition</th>\n",
       "      <th>SalePrice</th>\n",
       "    </tr>\n",
       "  </thead>\n",
       "  <tbody>\n",
       "    <tr>\n",
       "      <th>0</th>\n",
       "      <td>1</td>\n",
       "      <td>60</td>\n",
       "      <td>RL</td>\n",
       "      <td>65.0</td>\n",
       "      <td>8450</td>\n",
       "      <td>Pave</td>\n",
       "      <td>noAcess</td>\n",
       "      <td>Reg</td>\n",
       "      <td>Lvl</td>\n",
       "      <td>AllPub</td>\n",
       "      <td>...</td>\n",
       "      <td>0</td>\n",
       "      <td>noPool</td>\n",
       "      <td>noFence</td>\n",
       "      <td>None</td>\n",
       "      <td>0</td>\n",
       "      <td>2</td>\n",
       "      <td>2008</td>\n",
       "      <td>WD</td>\n",
       "      <td>Normal</td>\n",
       "      <td>208500</td>\n",
       "    </tr>\n",
       "    <tr>\n",
       "      <th>1</th>\n",
       "      <td>2</td>\n",
       "      <td>20</td>\n",
       "      <td>RL</td>\n",
       "      <td>80.0</td>\n",
       "      <td>9600</td>\n",
       "      <td>Pave</td>\n",
       "      <td>noAcess</td>\n",
       "      <td>Reg</td>\n",
       "      <td>Lvl</td>\n",
       "      <td>AllPub</td>\n",
       "      <td>...</td>\n",
       "      <td>0</td>\n",
       "      <td>noPool</td>\n",
       "      <td>noFence</td>\n",
       "      <td>None</td>\n",
       "      <td>0</td>\n",
       "      <td>5</td>\n",
       "      <td>2007</td>\n",
       "      <td>WD</td>\n",
       "      <td>Normal</td>\n",
       "      <td>181500</td>\n",
       "    </tr>\n",
       "    <tr>\n",
       "      <th>2</th>\n",
       "      <td>3</td>\n",
       "      <td>60</td>\n",
       "      <td>RL</td>\n",
       "      <td>68.0</td>\n",
       "      <td>11250</td>\n",
       "      <td>Pave</td>\n",
       "      <td>noAcess</td>\n",
       "      <td>IR1</td>\n",
       "      <td>Lvl</td>\n",
       "      <td>AllPub</td>\n",
       "      <td>...</td>\n",
       "      <td>0</td>\n",
       "      <td>noPool</td>\n",
       "      <td>noFence</td>\n",
       "      <td>None</td>\n",
       "      <td>0</td>\n",
       "      <td>9</td>\n",
       "      <td>2008</td>\n",
       "      <td>WD</td>\n",
       "      <td>Normal</td>\n",
       "      <td>223500</td>\n",
       "    </tr>\n",
       "  </tbody>\n",
       "</table>\n",
       "<p>3 rows × 81 columns</p>\n",
       "</div>"
      ],
      "text/plain": [
       "   Id  MSSubClass MSZoning  LotFrontage  LotArea Street    Alley LotShape  \\\n",
       "0   1          60       RL         65.0     8450   Pave  noAcess      Reg   \n",
       "1   2          20       RL         80.0     9600   Pave  noAcess      Reg   \n",
       "2   3          60       RL         68.0    11250   Pave  noAcess      IR1   \n",
       "\n",
       "  LandContour Utilities  ... PoolArea  PoolQC    Fence MiscFeature MiscVal  \\\n",
       "0         Lvl    AllPub  ...        0  noPool  noFence        None       0   \n",
       "1         Lvl    AllPub  ...        0  noPool  noFence        None       0   \n",
       "2         Lvl    AllPub  ...        0  noPool  noFence        None       0   \n",
       "\n",
       "  MoSold YrSold  SaleType  SaleCondition  SalePrice  \n",
       "0      2   2008        WD         Normal     208500  \n",
       "1      5   2007        WD         Normal     181500  \n",
       "2      9   2008        WD         Normal     223500  \n",
       "\n",
       "[3 rows x 81 columns]"
      ]
     },
     "execution_count": 5,
     "metadata": {},
     "output_type": "execute_result"
    }
   ],
   "source": [
    "train.head(3)"
   ]
  },
  {
   "cell_type": "code",
   "execution_count": 6,
   "id": "e8a7fe47",
   "metadata": {},
   "outputs": [
    {
     "data": {
      "text/plain": [
       "(1460, 81)"
      ]
     },
     "execution_count": 6,
     "metadata": {},
     "output_type": "execute_result"
    }
   ],
   "source": [
    "train.shape"
   ]
  },
  {
   "cell_type": "code",
   "execution_count": 7,
   "id": "bd79ba14",
   "metadata": {},
   "outputs": [
    {
     "name": "stdout",
     "output_type": "stream",
     "text": [
      "<class 'pandas.core.frame.DataFrame'>\n",
      "RangeIndex: 1460 entries, 0 to 1459\n",
      "Data columns (total 81 columns):\n",
      " #   Column         Non-Null Count  Dtype  \n",
      "---  ------         --------------  -----  \n",
      " 0   Id             1460 non-null   int64  \n",
      " 1   MSSubClass     1460 non-null   int64  \n",
      " 2   MSZoning       1460 non-null   object \n",
      " 3   LotFrontage    1201 non-null   float64\n",
      " 4   LotArea        1460 non-null   int64  \n",
      " 5   Street         1460 non-null   object \n",
      " 6   Alley          1460 non-null   object \n",
      " 7   LotShape       1460 non-null   object \n",
      " 8   LandContour    1460 non-null   object \n",
      " 9   Utilities      1460 non-null   object \n",
      " 10  LotConfig      1460 non-null   object \n",
      " 11  LandSlope      1460 non-null   object \n",
      " 12  Neighborhood   1460 non-null   object \n",
      " 13  Condition1     1460 non-null   object \n",
      " 14  Condition2     1460 non-null   object \n",
      " 15  BldgType       1460 non-null   object \n",
      " 16  HouseStyle     1460 non-null   object \n",
      " 17  OverallQual    1460 non-null   int64  \n",
      " 18  OverallCond    1460 non-null   int64  \n",
      " 19  YearBuilt      1460 non-null   int64  \n",
      " 20  YearRemodAdd   1460 non-null   int64  \n",
      " 21  RoofStyle      1460 non-null   object \n",
      " 22  RoofMatl       1460 non-null   object \n",
      " 23  Exterior1st    1460 non-null   object \n",
      " 24  Exterior2nd    1460 non-null   object \n",
      " 25  MasVnrType     1452 non-null   object \n",
      " 26  MasVnrArea     1452 non-null   float64\n",
      " 27  ExterQual      1460 non-null   object \n",
      " 28  ExterCond      1460 non-null   object \n",
      " 29  Foundation     1460 non-null   object \n",
      " 30  BsmtQual       1460 non-null   object \n",
      " 31  BsmtCond       1460 non-null   object \n",
      " 32  BsmtExposure   1460 non-null   object \n",
      " 33  BsmtFinType1   1460 non-null   object \n",
      " 34  BsmtFinSF1     1460 non-null   int64  \n",
      " 35  BsmtFinType2   1460 non-null   object \n",
      " 36  BsmtFinSF2     1460 non-null   int64  \n",
      " 37  BsmtUnfSF      1460 non-null   int64  \n",
      " 38  TotalBsmtSF    1460 non-null   int64  \n",
      " 39  Heating        1460 non-null   object \n",
      " 40  HeatingQC      1460 non-null   object \n",
      " 41  CentralAir     1460 non-null   object \n",
      " 42  Electrical     1459 non-null   object \n",
      " 43  1stFlrSF       1460 non-null   int64  \n",
      " 44  2ndFlrSF       1460 non-null   int64  \n",
      " 45  LowQualFinSF   1460 non-null   int64  \n",
      " 46  GrLivArea      1460 non-null   int64  \n",
      " 47  BsmtFullBath   1460 non-null   int64  \n",
      " 48  BsmtHalfBath   1460 non-null   int64  \n",
      " 49  FullBath       1460 non-null   int64  \n",
      " 50  HalfBath       1460 non-null   int64  \n",
      " 51  BedroomAbvGr   1460 non-null   int64  \n",
      " 52  KitchenAbvGr   1460 non-null   int64  \n",
      " 53  KitchenQual    1460 non-null   object \n",
      " 54  TotRmsAbvGrd   1460 non-null   int64  \n",
      " 55  Functional     1460 non-null   object \n",
      " 56  Fireplaces     1460 non-null   int64  \n",
      " 57  FireplaceQu    1460 non-null   object \n",
      " 58  GarageType     1460 non-null   object \n",
      " 59  GarageYrBlt    1379 non-null   float64\n",
      " 60  GarageFinish   1460 non-null   object \n",
      " 61  GarageCars     1460 non-null   int64  \n",
      " 62  GarageArea     1460 non-null   int64  \n",
      " 63  GarageQual     1460 non-null   object \n",
      " 64  GarageCond     1460 non-null   object \n",
      " 65  PavedDrive     1460 non-null   object \n",
      " 66  WoodDeckSF     1460 non-null   int64  \n",
      " 67  OpenPorchSF    1460 non-null   int64  \n",
      " 68  EnclosedPorch  1460 non-null   int64  \n",
      " 69  3SsnPorch      1460 non-null   int64  \n",
      " 70  ScreenPorch    1460 non-null   int64  \n",
      " 71  PoolArea       1460 non-null   int64  \n",
      " 72  PoolQC         1460 non-null   object \n",
      " 73  Fence          1460 non-null   object \n",
      " 74  MiscFeature    1460 non-null   object \n",
      " 75  MiscVal        1460 non-null   int64  \n",
      " 76  MoSold         1460 non-null   int64  \n",
      " 77  YrSold         1460 non-null   int64  \n",
      " 78  SaleType       1460 non-null   object \n",
      " 79  SaleCondition  1460 non-null   object \n",
      " 80  SalePrice      1460 non-null   int64  \n",
      "dtypes: float64(3), int64(35), object(43)\n",
      "memory usage: 924.0+ KB\n"
     ]
    }
   ],
   "source": [
    "train.info()"
   ]
  },
  {
   "cell_type": "code",
   "execution_count": 8,
   "id": "222739a5",
   "metadata": {},
   "outputs": [
    {
     "data": {
      "text/html": [
       "<div>\n",
       "<style scoped>\n",
       "    .dataframe tbody tr th:only-of-type {\n",
       "        vertical-align: middle;\n",
       "    }\n",
       "\n",
       "    .dataframe tbody tr th {\n",
       "        vertical-align: top;\n",
       "    }\n",
       "\n",
       "    .dataframe thead th {\n",
       "        text-align: right;\n",
       "    }\n",
       "</style>\n",
       "<table border=\"1\" class=\"dataframe\">\n",
       "  <thead>\n",
       "    <tr style=\"text-align: right;\">\n",
       "      <th></th>\n",
       "      <th>Id</th>\n",
       "      <th>MSSubClass</th>\n",
       "      <th>MSZoning</th>\n",
       "      <th>LotFrontage</th>\n",
       "      <th>LotArea</th>\n",
       "      <th>Street</th>\n",
       "      <th>Alley</th>\n",
       "      <th>LotShape</th>\n",
       "      <th>LandContour</th>\n",
       "      <th>Utilities</th>\n",
       "      <th>...</th>\n",
       "      <th>ScreenPorch</th>\n",
       "      <th>PoolArea</th>\n",
       "      <th>PoolQC</th>\n",
       "      <th>Fence</th>\n",
       "      <th>MiscFeature</th>\n",
       "      <th>MiscVal</th>\n",
       "      <th>MoSold</th>\n",
       "      <th>YrSold</th>\n",
       "      <th>SaleType</th>\n",
       "      <th>SaleCondition</th>\n",
       "    </tr>\n",
       "  </thead>\n",
       "  <tbody>\n",
       "    <tr>\n",
       "      <th>0</th>\n",
       "      <td>1461</td>\n",
       "      <td>20</td>\n",
       "      <td>RH</td>\n",
       "      <td>80.0</td>\n",
       "      <td>11622</td>\n",
       "      <td>Pave</td>\n",
       "      <td>noAcess</td>\n",
       "      <td>Reg</td>\n",
       "      <td>Lvl</td>\n",
       "      <td>AllPub</td>\n",
       "      <td>...</td>\n",
       "      <td>120</td>\n",
       "      <td>0</td>\n",
       "      <td>noPool</td>\n",
       "      <td>MnPrv</td>\n",
       "      <td>None</td>\n",
       "      <td>0</td>\n",
       "      <td>6</td>\n",
       "      <td>2010</td>\n",
       "      <td>WD</td>\n",
       "      <td>Normal</td>\n",
       "    </tr>\n",
       "    <tr>\n",
       "      <th>1</th>\n",
       "      <td>1462</td>\n",
       "      <td>20</td>\n",
       "      <td>RL</td>\n",
       "      <td>81.0</td>\n",
       "      <td>14267</td>\n",
       "      <td>Pave</td>\n",
       "      <td>noAcess</td>\n",
       "      <td>IR1</td>\n",
       "      <td>Lvl</td>\n",
       "      <td>AllPub</td>\n",
       "      <td>...</td>\n",
       "      <td>0</td>\n",
       "      <td>0</td>\n",
       "      <td>noPool</td>\n",
       "      <td>noFence</td>\n",
       "      <td>Gar2</td>\n",
       "      <td>12500</td>\n",
       "      <td>6</td>\n",
       "      <td>2010</td>\n",
       "      <td>WD</td>\n",
       "      <td>Normal</td>\n",
       "    </tr>\n",
       "    <tr>\n",
       "      <th>2</th>\n",
       "      <td>1463</td>\n",
       "      <td>60</td>\n",
       "      <td>RL</td>\n",
       "      <td>74.0</td>\n",
       "      <td>13830</td>\n",
       "      <td>Pave</td>\n",
       "      <td>noAcess</td>\n",
       "      <td>IR1</td>\n",
       "      <td>Lvl</td>\n",
       "      <td>AllPub</td>\n",
       "      <td>...</td>\n",
       "      <td>0</td>\n",
       "      <td>0</td>\n",
       "      <td>noPool</td>\n",
       "      <td>MnPrv</td>\n",
       "      <td>None</td>\n",
       "      <td>0</td>\n",
       "      <td>3</td>\n",
       "      <td>2010</td>\n",
       "      <td>WD</td>\n",
       "      <td>Normal</td>\n",
       "    </tr>\n",
       "  </tbody>\n",
       "</table>\n",
       "<p>3 rows × 80 columns</p>\n",
       "</div>"
      ],
      "text/plain": [
       "     Id  MSSubClass MSZoning  LotFrontage  LotArea Street    Alley LotShape  \\\n",
       "0  1461          20       RH         80.0    11622   Pave  noAcess      Reg   \n",
       "1  1462          20       RL         81.0    14267   Pave  noAcess      IR1   \n",
       "2  1463          60       RL         74.0    13830   Pave  noAcess      IR1   \n",
       "\n",
       "  LandContour Utilities  ... ScreenPorch PoolArea  PoolQC    Fence  \\\n",
       "0         Lvl    AllPub  ...         120        0  noPool    MnPrv   \n",
       "1         Lvl    AllPub  ...           0        0  noPool  noFence   \n",
       "2         Lvl    AllPub  ...           0        0  noPool    MnPrv   \n",
       "\n",
       "  MiscFeature MiscVal MoSold  YrSold  SaleType  SaleCondition  \n",
       "0        None       0      6    2010        WD         Normal  \n",
       "1        Gar2   12500      6    2010        WD         Normal  \n",
       "2        None       0      3    2010        WD         Normal  \n",
       "\n",
       "[3 rows x 80 columns]"
      ]
     },
     "execution_count": 8,
     "metadata": {},
     "output_type": "execute_result"
    }
   ],
   "source": [
    "test.head(3)"
   ]
  },
  {
   "cell_type": "code",
   "execution_count": 9,
   "id": "9ff46758",
   "metadata": {},
   "outputs": [
    {
     "data": {
      "text/plain": [
       "(1459, 80)"
      ]
     },
     "execution_count": 9,
     "metadata": {},
     "output_type": "execute_result"
    }
   ],
   "source": [
    "test.shape"
   ]
  },
  {
   "cell_type": "code",
   "execution_count": 10,
   "id": "41a606aa",
   "metadata": {},
   "outputs": [],
   "source": [
    "# test.info()"
   ]
  },
  {
   "cell_type": "markdown",
   "id": "a1fefc12",
   "metadata": {},
   "source": [
    "# Missing value treatment"
   ]
  },
  {
   "cell_type": "code",
   "execution_count": 11,
   "id": "2c3a1624",
   "metadata": {},
   "outputs": [
    {
     "data": {
      "text/plain": [
       "Id                0\n",
       "MSSubClass        0\n",
       "MSZoning          0\n",
       "LotFrontage     259\n",
       "LotArea           0\n",
       "Street            0\n",
       "Alley             0\n",
       "LotShape          0\n",
       "LandContour       0\n",
       "Utilities         0\n",
       "LotConfig         0\n",
       "LandSlope         0\n",
       "Neighborhood      0\n",
       "Condition1        0\n",
       "Condition2        0\n",
       "BldgType          0\n",
       "HouseStyle        0\n",
       "OverallQual       0\n",
       "OverallCond       0\n",
       "YearBuilt         0\n",
       "YearRemodAdd      0\n",
       "RoofStyle         0\n",
       "RoofMatl          0\n",
       "Exterior1st       0\n",
       "Exterior2nd       0\n",
       "MasVnrType        8\n",
       "MasVnrArea        8\n",
       "ExterQual         0\n",
       "ExterCond         0\n",
       "Foundation        0\n",
       "BsmtQual          0\n",
       "BsmtCond          0\n",
       "BsmtExposure      0\n",
       "BsmtFinType1      0\n",
       "BsmtFinSF1        0\n",
       "BsmtFinType2      0\n",
       "BsmtFinSF2        0\n",
       "BsmtUnfSF         0\n",
       "TotalBsmtSF       0\n",
       "Heating           0\n",
       "HeatingQC         0\n",
       "CentralAir        0\n",
       "Electrical        1\n",
       "1stFlrSF          0\n",
       "2ndFlrSF          0\n",
       "LowQualFinSF      0\n",
       "GrLivArea         0\n",
       "BsmtFullBath      0\n",
       "BsmtHalfBath      0\n",
       "FullBath          0\n",
       "HalfBath          0\n",
       "BedroomAbvGr      0\n",
       "KitchenAbvGr      0\n",
       "KitchenQual       0\n",
       "TotRmsAbvGrd      0\n",
       "Functional        0\n",
       "Fireplaces        0\n",
       "FireplaceQu       0\n",
       "GarageType        0\n",
       "GarageYrBlt      81\n",
       "dtype: int64"
      ]
     },
     "execution_count": 11,
     "metadata": {},
     "output_type": "execute_result"
    }
   ],
   "source": [
    "train.isna().sum().iloc[0:60]"
   ]
  },
  {
   "cell_type": "code",
   "execution_count": 12,
   "id": "3a8354f8",
   "metadata": {},
   "outputs": [
    {
     "data": {
      "text/plain": [
       "GarageFinish     0\n",
       "GarageCars       0\n",
       "GarageArea       0\n",
       "GarageQual       0\n",
       "GarageCond       0\n",
       "PavedDrive       0\n",
       "WoodDeckSF       0\n",
       "OpenPorchSF      0\n",
       "EnclosedPorch    0\n",
       "3SsnPorch        0\n",
       "ScreenPorch      0\n",
       "PoolArea         0\n",
       "PoolQC           0\n",
       "Fence            0\n",
       "MiscFeature      0\n",
       "MiscVal          0\n",
       "MoSold           0\n",
       "YrSold           0\n",
       "SaleType         0\n",
       "SaleCondition    0\n",
       "SalePrice        0\n",
       "dtype: int64"
      ]
     },
     "execution_count": 12,
     "metadata": {},
     "output_type": "execute_result"
    }
   ],
   "source": [
    "train.isna().sum().iloc[60:81]"
   ]
  },
  {
   "cell_type": "code",
   "execution_count": 13,
   "id": "96ddf6d3",
   "metadata": {},
   "outputs": [],
   "source": [
    "cat = []\n",
    "con = []\n",
    "\n",
    "for i in train.columns:\n",
    "    if(train[i].dtypes == \"object\"):\n",
    "        cat.append(i)\n",
    "        x = train[i].mode()[0]\n",
    "        train[i] = train[i].fillna(x)\n",
    "    else:\n",
    "        con.append(i)\n",
    "        x = train[i].mean()\n",
    "        train[i] = train[i].fillna(x)"
   ]
  },
  {
   "cell_type": "code",
   "execution_count": 14,
   "id": "be773366",
   "metadata": {},
   "outputs": [],
   "source": [
    "for i in test.columns:\n",
    "    if(test[i].dtypes == \"object\"):\n",
    "        cat.append(i)\n",
    "        x = test[i].mode()[0]\n",
    "        test[i] = test[i].fillna(x)\n",
    "    else:\n",
    "        con.append(i)\n",
    "        x = test[i].mean()\n",
    "        test[i] = test[i].fillna(x)"
   ]
  },
  {
   "cell_type": "code",
   "execution_count": 15,
   "id": "fd6fedbf",
   "metadata": {},
   "outputs": [],
   "source": [
    "# train.isna().sum().iloc[0:60]\n",
    "# train.isna().sum().iloc[60:81]"
   ]
  },
  {
   "cell_type": "markdown",
   "id": "aa918443",
   "metadata": {},
   "source": [
    "Missing values of train & test set have been treated!"
   ]
  },
  {
   "cell_type": "markdown",
   "id": "614e764c",
   "metadata": {},
   "source": [
    "# Initialize X & Y"
   ]
  },
  {
   "cell_type": "code",
   "execution_count": 16,
   "id": "1469e159",
   "metadata": {},
   "outputs": [],
   "source": [
    "X= train.drop(labels=[\"Id\",\"SalePrice\"],axis=1)\n",
    "Y=train[[\"SalePrice\"]]"
   ]
  },
  {
   "cell_type": "markdown",
   "id": "6d9c3370",
   "metadata": {},
   "source": [
    "# removing outliers"
   ]
  },
  {
   "cell_type": "code",
   "execution_count": 17,
   "id": "f8ad025f",
   "metadata": {},
   "outputs": [],
   "source": [
    "# con"
   ]
  },
  {
   "cell_type": "code",
   "execution_count": 18,
   "id": "c1d4b821",
   "metadata": {},
   "outputs": [],
   "source": [
    "cat = []\n",
    "con = []\n",
    "\n",
    "for i in X.columns:\n",
    "    if(X[i].dtypes == \"object\"):\n",
    "        cat.append(i)\n",
    "    else:\n",
    "        con.append(i)"
   ]
  },
  {
   "cell_type": "code",
   "execution_count": 19,
   "id": "7e8d5133",
   "metadata": {},
   "outputs": [],
   "source": [
    "Q = X[con].skew().sort_values()\n",
    "cols_with_skew = Q[Q > 2].index"
   ]
  },
  {
   "cell_type": "code",
   "execution_count": 20,
   "id": "02e91196",
   "metadata": {},
   "outputs": [
    {
     "data": {
      "text/plain": [
       "OpenPorchSF       2.364342\n",
       "LotFrontage       2.384950\n",
       "MasVnrArea        2.676412\n",
       "EnclosedPorch     3.089872\n",
       "BsmtHalfBath      4.103403\n",
       "ScreenPorch       4.122214\n",
       "BsmtFinSF2        4.255261\n",
       "KitchenAbvGr      4.488397\n",
       "LowQualFinSF      9.011341\n",
       "3SsnPorch        10.304342\n",
       "LotArea          12.207688\n",
       "PoolArea         14.828374\n",
       "MiscVal          24.476794\n",
       "dtype: float64"
      ]
     },
     "execution_count": 20,
     "metadata": {},
     "output_type": "execute_result"
    }
   ],
   "source": [
    "X[cols_with_skew].skew()"
   ]
  },
  {
   "cell_type": "code",
   "execution_count": 21,
   "id": "a127df72",
   "metadata": {},
   "outputs": [],
   "source": [
    "#deal with continuous data\n",
    "from sklearn.preprocessing import StandardScaler\n",
    "ss = StandardScaler()\n",
    "X1 = pd.DataFrame(ss.fit_transform(X[con]),columns=con)"
   ]
  },
  {
   "cell_type": "code",
   "execution_count": 22,
   "id": "487154f8",
   "metadata": {},
   "outputs": [],
   "source": [
    "# X1['MSSubClass']"
   ]
  },
  {
   "cell_type": "code",
   "execution_count": 23,
   "id": "4c95999d",
   "metadata": {},
   "outputs": [],
   "source": [
    "out_index = []\n",
    "for i in X1.columns:\n",
    "    out_index.extend(list(X1[(X1[i]>3) | (X1[i]<-3)].index))\n",
    "    \n",
    "import numpy as np\n",
    "outliers = np.unique(out_index)\n",
    "\n",
    "X = X.drop(index=outliers,axis=0)\n",
    "Y = Y.drop(index=outliers,axis=0)"
   ]
  },
  {
   "cell_type": "code",
   "execution_count": 24,
   "id": "3d44d03f",
   "metadata": {},
   "outputs": [
    {
     "data": {
      "text/plain": [
       "(1021, 79)"
      ]
     },
     "execution_count": 24,
     "metadata": {},
     "output_type": "execute_result"
    }
   ],
   "source": [
    "X.shape"
   ]
  },
  {
   "cell_type": "code",
   "execution_count": 25,
   "id": "5e064815",
   "metadata": {},
   "outputs": [
    {
     "data": {
      "text/plain": [
       "(1460, 36)"
      ]
     },
     "execution_count": 25,
     "metadata": {},
     "output_type": "execute_result"
    }
   ],
   "source": [
    "X1.shape"
   ]
  },
  {
   "cell_type": "code",
   "execution_count": 26,
   "id": "d480aab9",
   "metadata": {},
   "outputs": [],
   "source": [
    "X.index= range(0,1021,1)\n",
    "Y.index= range(0,1021,1)"
   ]
  },
  {
   "cell_type": "markdown",
   "id": "d5af9e49",
   "metadata": {},
   "source": [
    "# Exploratory Data Analysis"
   ]
  },
  {
   "cell_type": "markdown",
   "id": "9523903a",
   "metadata": {},
   "source": [
    "ANOVA test for categorical features"
   ]
  },
  {
   "cell_type": "code",
   "execution_count": 27,
   "id": "d6c37e83",
   "metadata": {},
   "outputs": [
    {
     "name": "stdout",
     "output_type": "stream",
     "text": [
      "SalePrice ~ MSZoning --->   0.0\n",
      "SalePrice ~ Street --->   0.117\n",
      "SalePrice ~ Alley --->   0.0\n",
      "SalePrice ~ LotShape --->   0.0\n",
      "SalePrice ~ LandContour --->   0.0\n",
      "SalePrice ~ Utilities --->   0.5847\n",
      "SalePrice ~ LotConfig --->   0.0\n",
      "SalePrice ~ LandSlope --->   0.1414\n",
      "SalePrice ~ Neighborhood --->   0.0\n",
      "SalePrice ~ Condition1 --->   0.0\n",
      "SalePrice ~ Condition2 --->   0.0434\n",
      "SalePrice ~ BldgType --->   0.0\n",
      "SalePrice ~ HouseStyle --->   0.0\n",
      "SalePrice ~ RoofStyle --->   0.0\n",
      "SalePrice ~ RoofMatl --->   0.0\n",
      "SalePrice ~ Exterior1st --->   0.0\n",
      "SalePrice ~ Exterior2nd --->   0.0\n",
      "SalePrice ~ MasVnrType --->   0.0\n",
      "SalePrice ~ ExterQual --->   0.0\n",
      "SalePrice ~ ExterCond --->   0.0\n",
      "SalePrice ~ Foundation --->   0.0\n",
      "SalePrice ~ BsmtQual --->   0.0\n",
      "SalePrice ~ BsmtCond --->   0.0\n",
      "SalePrice ~ BsmtExposure --->   0.0\n",
      "SalePrice ~ BsmtFinType1 --->   0.0\n",
      "SalePrice ~ BsmtFinType2 --->   0.0\n",
      "SalePrice ~ Heating --->   0.0008\n",
      "SalePrice ~ HeatingQC --->   0.0\n",
      "SalePrice ~ CentralAir --->   0.0\n",
      "SalePrice ~ Electrical --->   0.0\n",
      "SalePrice ~ KitchenQual --->   0.0\n",
      "SalePrice ~ Functional --->   0.0005\n",
      "SalePrice ~ FireplaceQu --->   0.0\n",
      "SalePrice ~ GarageType --->   0.0\n",
      "SalePrice ~ GarageFinish --->   0.0\n",
      "SalePrice ~ GarageQual --->   0.0\n",
      "SalePrice ~ GarageCond --->   0.0\n",
      "SalePrice ~ PavedDrive --->   0.0\n",
      "SalePrice ~ PoolQC --->   0.0\n",
      "SalePrice ~ Fence --->   0.0\n",
      "SalePrice ~ MiscFeature --->   0.035\n",
      "SalePrice ~ SaleType --->   0.0\n",
      "SalePrice ~ SaleCondition --->   0.0\n"
     ]
    }
   ],
   "source": [
    "for i in cat:\n",
    "    import pandas as pd\n",
    "    from statsmodels.formula.api import ols\n",
    "    rel = \"SalePrice ~ \" + str(i)\n",
    "    model = ols(rel,train).fit()\n",
    "    from statsmodels.stats.anova import anova_lm\n",
    "    anova_results = anova_lm(model)\n",
    "    print(rel,\"--->  \",round(anova_results.iloc[0,4],4))"
   ]
  },
  {
   "cell_type": "markdown",
   "id": "e1f9ad8a",
   "metadata": {},
   "source": [
    "SalePrice ~ Street - 0.117 || SalePrice ~ Utilities - 0.5847 || SalePrice ~ LandSlope - 0.1414"
   ]
  },
  {
   "cell_type": "code",
   "execution_count": 28,
   "id": "7deda7f0",
   "metadata": {},
   "outputs": [],
   "source": [
    "cat.remove(\"Street\")\n",
    "cat.remove(\"Utilities\")\n",
    "cat.remove(\"LandSlope\")"
   ]
  },
  {
   "cell_type": "markdown",
   "id": "76cc1ca4",
   "metadata": {},
   "source": [
    "Checking for highest correlation"
   ]
  },
  {
   "cell_type": "code",
   "execution_count": 29,
   "id": "233db964",
   "metadata": {},
   "outputs": [
    {
     "data": {
      "text/plain": [
       "KitchenAbvGr    -0.135907\n",
       "EnclosedPorch   -0.128578\n",
       "MSSubClass      -0.084284\n",
       "OverallCond     -0.077856\n",
       "YrSold          -0.028923\n",
       "LowQualFinSF    -0.025606\n",
       "Id              -0.021917\n",
       "MiscVal         -0.021190\n",
       "BsmtHalfBath    -0.016844\n",
       "BsmtFinSF2      -0.011378\n",
       "3SsnPorch        0.044584\n",
       "MoSold           0.046432\n",
       "PoolArea         0.092404\n",
       "ScreenPorch      0.111447\n",
       "BedroomAbvGr     0.168213\n",
       "BsmtUnfSF        0.214479\n",
       "BsmtFullBath     0.227122\n",
       "LotArea          0.263843\n",
       "HalfBath         0.284108\n",
       "OpenPorchSF      0.315856\n",
       "2ndFlrSF         0.319334\n",
       "WoodDeckSF       0.324413\n",
       "LotFrontage      0.334901\n",
       "BsmtFinSF1       0.386420\n",
       "Fireplaces       0.466929\n",
       "GarageYrBlt      0.470177\n",
       "MasVnrArea       0.475241\n",
       "YearRemodAdd     0.507101\n",
       "YearBuilt        0.522897\n",
       "TotRmsAbvGrd     0.533723\n",
       "FullBath         0.560664\n",
       "1stFlrSF         0.605852\n",
       "TotalBsmtSF      0.613581\n",
       "GarageArea       0.623431\n",
       "GarageCars       0.640409\n",
       "GrLivArea        0.708624\n",
       "OverallQual      0.790982\n",
       "SalePrice        1.000000\n",
       "Name: SalePrice, dtype: float64"
      ]
     },
     "execution_count": 29,
     "metadata": {},
     "output_type": "execute_result"
    }
   ],
   "source": [
    "train.corr()[\"SalePrice\"].sort_values()"
   ]
  },
  {
   "cell_type": "code",
   "execution_count": 30,
   "id": "46f5be1b",
   "metadata": {},
   "outputs": [
    {
     "data": {
      "text/plain": [
       "Index(['KitchenAbvGr', 'EnclosedPorch', 'MSSubClass', 'OverallCond', 'YrSold',\n",
       "       'LowQualFinSF', 'Id', 'MiscVal', 'BsmtHalfBath', 'BsmtFinSF2',\n",
       "       '3SsnPorch', 'MoSold', 'PoolArea'],\n",
       "      dtype='object')"
      ]
     },
     "execution_count": 30,
     "metadata": {},
     "output_type": "execute_result"
    }
   ],
   "source": [
    "train.corr()[\"SalePrice\"].sort_values().index[0:13]"
   ]
  },
  {
   "cell_type": "code",
   "execution_count": 31,
   "id": "dac1bace",
   "metadata": {},
   "outputs": [],
   "source": [
    "# con"
   ]
  },
  {
   "cell_type": "code",
   "execution_count": 32,
   "id": "820c7d56",
   "metadata": {},
   "outputs": [],
   "source": [
    "u = ['KitchenAbvGr', 'EnclosedPorch', 'MSSubClass', 'OverallCond', 'YrSold',\n",
    "       'LowQualFinSF', 'MiscVal', 'BsmtHalfBath', 'BsmtFinSF2',\n",
    "       '3SsnPorch', 'MoSold', 'PoolArea']\n",
    "\n",
    "for i in u:\n",
    "    con.remove(i)"
   ]
  },
  {
   "cell_type": "markdown",
   "id": "285321a1",
   "metadata": {},
   "source": [
    "# Preprocessing"
   ]
  },
  {
   "cell_type": "code",
   "execution_count": 33,
   "id": "24bde10d",
   "metadata": {},
   "outputs": [],
   "source": [
    "X1 = pd.DataFrame(ss.fit_transform(X[con]),columns=con)\n",
    "X2 = pd.get_dummies(X[cat])\n",
    "\n",
    "Xnew = X1.join(X2)"
   ]
  },
  {
   "cell_type": "code",
   "execution_count": 34,
   "id": "4f12cfcb",
   "metadata": {},
   "outputs": [
    {
     "data": {
      "text/plain": [
       "(1021, 255)"
      ]
     },
     "execution_count": 34,
     "metadata": {},
     "output_type": "execute_result"
    }
   ],
   "source": [
    "Xnew.shape"
   ]
  },
  {
   "cell_type": "code",
   "execution_count": 35,
   "id": "84704441",
   "metadata": {},
   "outputs": [
    {
     "data": {
      "text/plain": [
       "(1021, 1)"
      ]
     },
     "execution_count": 35,
     "metadata": {},
     "output_type": "execute_result"
    }
   ],
   "source": [
    "Y.shape"
   ]
  },
  {
   "cell_type": "code",
   "execution_count": 36,
   "id": "dce94cf8",
   "metadata": {},
   "outputs": [],
   "source": [
    "from sklearn.model_selection import train_test_split\n",
    "xtrain,xtest,ytrain,ytest=train_test_split(Xnew,Y,test_size=0.2,random_state=31)"
   ]
  },
  {
   "cell_type": "markdown",
   "id": "f0355c57",
   "metadata": {},
   "source": [
    "# MODEL 1- OLS BACKWARD ELIMINATION MODEL"
   ]
  },
  {
   "cell_type": "markdown",
   "id": "bab7e598",
   "metadata": {},
   "source": [
    "# MODEL-1"
   ]
  },
  {
   "cell_type": "code",
   "execution_count": 37,
   "id": "b4e7bf1e",
   "metadata": {},
   "outputs": [
    {
     "data": {
      "text/html": [
       "<table class=\"simpletable\">\n",
       "<caption>OLS Regression Results</caption>\n",
       "<tr>\n",
       "  <th>Dep. Variable:</th>        <td>SalePrice</td>    <th>  R-squared:         </th> <td>   0.944</td> \n",
       "</tr>\n",
       "<tr>\n",
       "  <th>Model:</th>                   <td>OLS</td>       <th>  Adj. R-squared:    </th> <td>   0.926</td> \n",
       "</tr>\n",
       "<tr>\n",
       "  <th>Method:</th>             <td>Least Squares</td>  <th>  F-statistic:       </th> <td>   52.02</td> \n",
       "</tr>\n",
       "<tr>\n",
       "  <th>Date:</th>             <td>Thu, 30 Jun 2022</td> <th>  Prob (F-statistic):</th> <td>6.08e-292</td>\n",
       "</tr>\n",
       "<tr>\n",
       "  <th>Time:</th>                 <td>15:59:22</td>     <th>  Log-Likelihood:    </th> <td> -9054.5</td> \n",
       "</tr>\n",
       "<tr>\n",
       "  <th>No. Observations:</th>      <td>   816</td>      <th>  AIC:               </th> <td>1.851e+04</td>\n",
       "</tr>\n",
       "<tr>\n",
       "  <th>Df Residuals:</th>          <td>   616</td>      <th>  BIC:               </th> <td>1.945e+04</td>\n",
       "</tr>\n",
       "<tr>\n",
       "  <th>Df Model:</th>              <td>   199</td>      <th>                     </th>     <td> </td>    \n",
       "</tr>\n",
       "<tr>\n",
       "  <th>Covariance Type:</th>      <td>nonrobust</td>    <th>                     </th>     <td> </td>    \n",
       "</tr>\n",
       "</table>\n",
       "<table class=\"simpletable\">\n",
       "<tr>\n",
       "             <td></td>                <th>coef</th>     <th>std err</th>      <th>t</th>      <th>P>|t|</th>  <th>[0.025</th>    <th>0.975]</th>  \n",
       "</tr>\n",
       "<tr>\n",
       "  <th>const</th>                   <td> 1.333e+04</td> <td> 2178.289</td> <td>    6.117</td> <td> 0.000</td> <td> 9047.767</td> <td> 1.76e+04</td>\n",
       "</tr>\n",
       "<tr>\n",
       "  <th>LotFrontage</th>             <td> -266.4234</td> <td> 1146.443</td> <td>   -0.232</td> <td> 0.816</td> <td>-2517.834</td> <td> 1984.987</td>\n",
       "</tr>\n",
       "<tr>\n",
       "  <th>LotArea</th>                 <td> 5142.1528</td> <td> 1239.017</td> <td>    4.150</td> <td> 0.000</td> <td> 2708.943</td> <td> 7575.363</td>\n",
       "</tr>\n",
       "<tr>\n",
       "  <th>OverallQual</th>             <td> 8225.7712</td> <td> 1600.579</td> <td>    5.139</td> <td> 0.000</td> <td> 5082.518</td> <td> 1.14e+04</td>\n",
       "</tr>\n",
       "<tr>\n",
       "  <th>YearBuilt</th>               <td> 6684.8539</td> <td> 2824.732</td> <td>    2.367</td> <td> 0.018</td> <td> 1137.582</td> <td> 1.22e+04</td>\n",
       "</tr>\n",
       "<tr>\n",
       "  <th>YearRemodAdd</th>            <td> 5781.0515</td> <td> 1373.400</td> <td>    4.209</td> <td> 0.000</td> <td> 3083.937</td> <td> 8478.166</td>\n",
       "</tr>\n",
       "<tr>\n",
       "  <th>MasVnrArea</th>              <td> -861.0929</td> <td> 1280.920</td> <td>   -0.672</td> <td> 0.502</td> <td>-3376.593</td> <td> 1654.407</td>\n",
       "</tr>\n",
       "<tr>\n",
       "  <th>BsmtFinSF1</th>              <td> -464.0527</td> <td> 8501.900</td> <td>   -0.055</td> <td> 0.956</td> <td>-1.72e+04</td> <td> 1.62e+04</td>\n",
       "</tr>\n",
       "<tr>\n",
       "  <th>BsmtUnfSF</th>               <td>-7112.4247</td> <td> 8957.034</td> <td>   -0.794</td> <td> 0.427</td> <td>-2.47e+04</td> <td> 1.05e+04</td>\n",
       "</tr>\n",
       "<tr>\n",
       "  <th>TotalBsmtSF</th>             <td> 1.422e+04</td> <td> 7908.073</td> <td>    1.799</td> <td> 0.073</td> <td>-1306.003</td> <td> 2.98e+04</td>\n",
       "</tr>\n",
       "<tr>\n",
       "  <th>1stFlrSF</th>                <td> 7202.5910</td> <td> 4.76e+04</td> <td>    0.151</td> <td> 0.880</td> <td>-8.63e+04</td> <td> 1.01e+05</td>\n",
       "</tr>\n",
       "<tr>\n",
       "  <th>2ndFlrSF</th>                <td> 1.771e+04</td> <td> 5.82e+04</td> <td>    0.304</td> <td> 0.761</td> <td>-9.67e+04</td> <td> 1.32e+05</td>\n",
       "</tr>\n",
       "<tr>\n",
       "  <th>GrLivArea</th>               <td> 9592.0690</td> <td> 6.22e+04</td> <td>    0.154</td> <td> 0.878</td> <td>-1.13e+05</td> <td> 1.32e+05</td>\n",
       "</tr>\n",
       "<tr>\n",
       "  <th>BsmtFullBath</th>            <td> -278.2838</td> <td> 1143.314</td> <td>   -0.243</td> <td> 0.808</td> <td>-2523.549</td> <td> 1966.982</td>\n",
       "</tr>\n",
       "<tr>\n",
       "  <th>FullBath</th>                <td> -583.2270</td> <td> 1492.683</td> <td>   -0.391</td> <td> 0.696</td> <td>-3514.591</td> <td> 2348.137</td>\n",
       "</tr>\n",
       "<tr>\n",
       "  <th>HalfBath</th>                <td>  251.2975</td> <td> 1257.040</td> <td>    0.200</td> <td> 0.842</td> <td>-2217.306</td> <td> 2719.901</td>\n",
       "</tr>\n",
       "<tr>\n",
       "  <th>BedroomAbvGr</th>            <td>-1100.1183</td> <td> 1255.045</td> <td>   -0.877</td> <td> 0.381</td> <td>-3564.805</td> <td> 1364.568</td>\n",
       "</tr>\n",
       "<tr>\n",
       "  <th>TotRmsAbvGrd</th>            <td>  426.2810</td> <td> 1655.399</td> <td>    0.258</td> <td> 0.797</td> <td>-2824.629</td> <td> 3677.191</td>\n",
       "</tr>\n",
       "<tr>\n",
       "  <th>Fireplaces</th>              <td> -418.4423</td> <td> 2049.280</td> <td>   -0.204</td> <td> 0.838</td> <td>-4442.865</td> <td> 3605.981</td>\n",
       "</tr>\n",
       "<tr>\n",
       "  <th>GarageYrBlt</th>             <td>-2394.4321</td> <td> 1933.744</td> <td>   -1.238</td> <td> 0.216</td> <td>-6191.961</td> <td> 1403.097</td>\n",
       "</tr>\n",
       "<tr>\n",
       "  <th>GarageCars</th>              <td> 2667.5872</td> <td> 1911.611</td> <td>    1.395</td> <td> 0.163</td> <td>-1086.477</td> <td> 6421.651</td>\n",
       "</tr>\n",
       "<tr>\n",
       "  <th>GarageArea</th>              <td> 4431.6804</td> <td> 1858.717</td> <td>    2.384</td> <td> 0.017</td> <td>  781.489</td> <td> 8081.871</td>\n",
       "</tr>\n",
       "<tr>\n",
       "  <th>WoodDeckSF</th>              <td> 3440.2774</td> <td>  813.520</td> <td>    4.229</td> <td> 0.000</td> <td> 1842.669</td> <td> 5037.886</td>\n",
       "</tr>\n",
       "<tr>\n",
       "  <th>OpenPorchSF</th>             <td> 2182.2625</td> <td>  862.036</td> <td>    2.532</td> <td> 0.012</td> <td>  489.376</td> <td> 3875.149</td>\n",
       "</tr>\n",
       "<tr>\n",
       "  <th>ScreenPorch</th>             <td> 1094.1591</td> <td>  723.836</td> <td>    1.512</td> <td> 0.131</td> <td> -327.326</td> <td> 2515.644</td>\n",
       "</tr>\n",
       "<tr>\n",
       "  <th>MSZoning_C (all)</th>        <td>-2.305e+04</td> <td> 1.02e+04</td> <td>   -2.251</td> <td> 0.025</td> <td>-4.32e+04</td> <td>-2940.858</td>\n",
       "</tr>\n",
       "<tr>\n",
       "  <th>MSZoning_FV</th>             <td> 2.347e+04</td> <td> 6684.528</td> <td>    3.511</td> <td> 0.000</td> <td> 1.03e+04</td> <td> 3.66e+04</td>\n",
       "</tr>\n",
       "<tr>\n",
       "  <th>MSZoning_RH</th>             <td>-1383.8499</td> <td> 8738.917</td> <td>   -0.158</td> <td> 0.874</td> <td>-1.85e+04</td> <td> 1.58e+04</td>\n",
       "</tr>\n",
       "<tr>\n",
       "  <th>MSZoning_RL</th>             <td> 6009.6136</td> <td> 4114.647</td> <td>    1.461</td> <td> 0.145</td> <td>-2070.823</td> <td> 1.41e+04</td>\n",
       "</tr>\n",
       "<tr>\n",
       "  <th>MSZoning_RM</th>             <td> 8278.5218</td> <td> 4796.828</td> <td>    1.726</td> <td> 0.085</td> <td>-1141.596</td> <td> 1.77e+04</td>\n",
       "</tr>\n",
       "<tr>\n",
       "  <th>Alley_Grvl</th>              <td> 6168.4584</td> <td> 4127.275</td> <td>    1.495</td> <td> 0.136</td> <td>-1936.777</td> <td> 1.43e+04</td>\n",
       "</tr>\n",
       "<tr>\n",
       "  <th>Alley_Pave</th>              <td> 2480.7563</td> <td> 3989.321</td> <td>    0.622</td> <td> 0.534</td> <td>-5353.562</td> <td> 1.03e+04</td>\n",
       "</tr>\n",
       "<tr>\n",
       "  <th>Alley_noAcess</th>           <td> 4676.3258</td> <td> 2603.904</td> <td>    1.796</td> <td> 0.073</td> <td> -437.280</td> <td> 9789.931</td>\n",
       "</tr>\n",
       "<tr>\n",
       "  <th>LotShape_IR1</th>            <td> 8072.9466</td> <td> 3431.747</td> <td>    2.352</td> <td> 0.019</td> <td> 1333.604</td> <td> 1.48e+04</td>\n",
       "</tr>\n",
       "<tr>\n",
       "  <th>LotShape_IR2</th>            <td> 6544.2355</td> <td> 4875.612</td> <td>    1.342</td> <td> 0.180</td> <td>-3030.601</td> <td> 1.61e+04</td>\n",
       "</tr>\n",
       "<tr>\n",
       "  <th>LotShape_IR3</th>            <td>-8377.3749</td> <td> 9047.254</td> <td>   -0.926</td> <td> 0.355</td> <td>-2.61e+04</td> <td> 9389.826</td>\n",
       "</tr>\n",
       "<tr>\n",
       "  <th>LotShape_Reg</th>            <td> 7085.7332</td> <td> 3569.262</td> <td>    1.985</td> <td> 0.048</td> <td>   76.337</td> <td> 1.41e+04</td>\n",
       "</tr>\n",
       "<tr>\n",
       "  <th>LandContour_Bnk</th>         <td> 5819.6067</td> <td> 4444.299</td> <td>    1.309</td> <td> 0.191</td> <td>-2908.208</td> <td> 1.45e+04</td>\n",
       "</tr>\n",
       "<tr>\n",
       "  <th>LandContour_HLS</th>         <td> 8573.0028</td> <td> 3943.517</td> <td>    2.174</td> <td> 0.030</td> <td>  828.634</td> <td> 1.63e+04</td>\n",
       "</tr>\n",
       "<tr>\n",
       "  <th>LandContour_Low</th>         <td>-6148.3569</td> <td> 6215.337</td> <td>   -0.989</td> <td> 0.323</td> <td>-1.84e+04</td> <td> 6057.463</td>\n",
       "</tr>\n",
       "<tr>\n",
       "  <th>LandContour_Lvl</th>         <td> 5081.2880</td> <td> 2736.468</td> <td>    1.857</td> <td> 0.064</td> <td> -292.649</td> <td> 1.05e+04</td>\n",
       "</tr>\n",
       "<tr>\n",
       "  <th>LotConfig_Corner</th>        <td> 6895.2156</td> <td> 3074.720</td> <td>    2.243</td> <td> 0.025</td> <td>  857.012</td> <td> 1.29e+04</td>\n",
       "</tr>\n",
       "<tr>\n",
       "  <th>LotConfig_CulDSac</th>       <td> 1.031e+04</td> <td> 3660.739</td> <td>    2.817</td> <td> 0.005</td> <td> 3123.873</td> <td> 1.75e+04</td>\n",
       "</tr>\n",
       "<tr>\n",
       "  <th>LotConfig_FR2</th>           <td> -657.1570</td> <td> 4183.800</td> <td>   -0.157</td> <td> 0.875</td> <td>-8873.398</td> <td> 7559.084</td>\n",
       "</tr>\n",
       "<tr>\n",
       "  <th>LotConfig_FR3</th>           <td>-8557.7844</td> <td> 9112.539</td> <td>   -0.939</td> <td> 0.348</td> <td>-2.65e+04</td> <td> 9337.625</td>\n",
       "</tr>\n",
       "<tr>\n",
       "  <th>LotConfig_Inside</th>        <td> 5332.3513</td> <td> 2739.536</td> <td>    1.946</td> <td> 0.052</td> <td>  -47.612</td> <td> 1.07e+04</td>\n",
       "</tr>\n",
       "<tr>\n",
       "  <th>Neighborhood_Blmngtn</th>    <td> 1.301e+04</td> <td> 7342.270</td> <td>    1.772</td> <td> 0.077</td> <td>-1405.883</td> <td> 2.74e+04</td>\n",
       "</tr>\n",
       "<tr>\n",
       "  <th>Neighborhood_Blueste</th>    <td>-3987.1472</td> <td> 1.95e+04</td> <td>   -0.204</td> <td> 0.838</td> <td>-4.23e+04</td> <td> 3.43e+04</td>\n",
       "</tr>\n",
       "<tr>\n",
       "  <th>Neighborhood_BrDale</th>     <td> 1.291e+04</td> <td> 8643.301</td> <td>    1.494</td> <td> 0.136</td> <td>-4062.842</td> <td> 2.99e+04</td>\n",
       "</tr>\n",
       "<tr>\n",
       "  <th>Neighborhood_BrkSide</th>    <td>-1630.8760</td> <td> 6475.764</td> <td>   -0.252</td> <td> 0.801</td> <td>-1.43e+04</td> <td> 1.11e+04</td>\n",
       "</tr>\n",
       "<tr>\n",
       "  <th>Neighborhood_ClearCr</th>    <td>-1.133e+04</td> <td> 7861.716</td> <td>   -1.441</td> <td> 0.150</td> <td>-2.68e+04</td> <td> 4113.714</td>\n",
       "</tr>\n",
       "<tr>\n",
       "  <th>Neighborhood_CollgCr</th>    <td>-5219.1265</td> <td> 3266.575</td> <td>   -1.598</td> <td> 0.111</td> <td>-1.16e+04</td> <td> 1195.847</td>\n",
       "</tr>\n",
       "<tr>\n",
       "  <th>Neighborhood_Crawfor</th>    <td> 2.627e+04</td> <td> 6609.171</td> <td>    3.975</td> <td> 0.000</td> <td> 1.33e+04</td> <td> 3.92e+04</td>\n",
       "</tr>\n",
       "<tr>\n",
       "  <th>Neighborhood_Edwards</th>    <td>-1.336e+04</td> <td> 3680.315</td> <td>   -3.631</td> <td> 0.000</td> <td>-2.06e+04</td> <td>-6135.109</td>\n",
       "</tr>\n",
       "<tr>\n",
       "  <th>Neighborhood_Gilbert</th>    <td>-5798.4551</td> <td> 4403.101</td> <td>   -1.317</td> <td> 0.188</td> <td>-1.44e+04</td> <td> 2848.453</td>\n",
       "</tr>\n",
       "<tr>\n",
       "  <th>Neighborhood_IDOTRR</th>     <td>-5797.9857</td> <td> 7695.283</td> <td>   -0.753</td> <td> 0.451</td> <td>-2.09e+04</td> <td> 9314.185</td>\n",
       "</tr>\n",
       "<tr>\n",
       "  <th>Neighborhood_MeadowV</th>    <td>-1.156e+04</td> <td> 9382.908</td> <td>   -1.232</td> <td> 0.218</td> <td>   -3e+04</td> <td> 6866.205</td>\n",
       "</tr>\n",
       "<tr>\n",
       "  <th>Neighborhood_Mitchel</th>    <td>-1.066e+04</td> <td> 4813.483</td> <td>   -2.214</td> <td> 0.027</td> <td>-2.01e+04</td> <td>-1204.718</td>\n",
       "</tr>\n",
       "<tr>\n",
       "  <th>Neighborhood_NAmes</th>      <td>-6699.8945</td> <td> 3355.145</td> <td>   -1.997</td> <td> 0.046</td> <td>-1.33e+04</td> <td> -110.986</td>\n",
       "</tr>\n",
       "<tr>\n",
       "  <th>Neighborhood_NPkVill</th>    <td> 2.025e+04</td> <td> 1.44e+04</td> <td>    1.405</td> <td> 0.160</td> <td>-8048.270</td> <td> 4.86e+04</td>\n",
       "</tr>\n",
       "<tr>\n",
       "  <th>Neighborhood_NWAmes</th>     <td>-9890.7964</td> <td> 4281.629</td> <td>   -2.310</td> <td> 0.021</td> <td>-1.83e+04</td> <td>-1482.438</td>\n",
       "</tr>\n",
       "<tr>\n",
       "  <th>Neighborhood_NoRidge</th>    <td> 6732.0909</td> <td> 6162.427</td> <td>    1.092</td> <td> 0.275</td> <td>-5369.822</td> <td> 1.88e+04</td>\n",
       "</tr>\n",
       "<tr>\n",
       "  <th>Neighborhood_NridgHt</th>    <td> 1.365e+04</td> <td> 4874.324</td> <td>    2.801</td> <td> 0.005</td> <td> 4080.406</td> <td> 2.32e+04</td>\n",
       "</tr>\n",
       "<tr>\n",
       "  <th>Neighborhood_OldTown</th>    <td>-9852.7258</td> <td> 6341.064</td> <td>   -1.554</td> <td> 0.121</td> <td>-2.23e+04</td> <td> 2599.998</td>\n",
       "</tr>\n",
       "<tr>\n",
       "  <th>Neighborhood_SWISU</th>      <td>-1.276e+04</td> <td> 8238.537</td> <td>   -1.549</td> <td> 0.122</td> <td>-2.89e+04</td> <td> 3420.751</td>\n",
       "</tr>\n",
       "<tr>\n",
       "  <th>Neighborhood_Sawyer</th>     <td>-5095.8926</td> <td> 3959.619</td> <td>   -1.287</td> <td> 0.199</td> <td>-1.29e+04</td> <td> 2680.097</td>\n",
       "</tr>\n",
       "<tr>\n",
       "  <th>Neighborhood_SawyerW</th>    <td>   -8.8973</td> <td> 4511.766</td> <td>   -0.002</td> <td> 0.998</td> <td>-8869.206</td> <td> 8851.411</td>\n",
       "</tr>\n",
       "<tr>\n",
       "  <th>Neighborhood_Somerst</th>    <td>-6422.9675</td> <td> 6530.078</td> <td>   -0.984</td> <td> 0.326</td> <td>-1.92e+04</td> <td> 6400.947</td>\n",
       "</tr>\n",
       "<tr>\n",
       "  <th>Neighborhood_StoneBr</th>    <td> 4.472e+04</td> <td> 6436.249</td> <td>    6.949</td> <td> 0.000</td> <td> 3.21e+04</td> <td> 5.74e+04</td>\n",
       "</tr>\n",
       "<tr>\n",
       "  <th>Neighborhood_Timber</th>     <td>-8672.2353</td> <td> 5346.982</td> <td>   -1.622</td> <td> 0.105</td> <td>-1.92e+04</td> <td> 1828.288</td>\n",
       "</tr>\n",
       "<tr>\n",
       "  <th>Neighborhood_Veenker</th>    <td> 4510.2553</td> <td> 9657.133</td> <td>    0.467</td> <td> 0.641</td> <td>-1.45e+04</td> <td> 2.35e+04</td>\n",
       "</tr>\n",
       "<tr>\n",
       "  <th>Condition1_Artery</th>       <td>-3157.2630</td> <td> 6177.245</td> <td>   -0.511</td> <td> 0.609</td> <td>-1.53e+04</td> <td> 8973.751</td>\n",
       "</tr>\n",
       "<tr>\n",
       "  <th>Condition1_Feedr</th>        <td> 2747.3632</td> <td> 4800.957</td> <td>    0.572</td> <td> 0.567</td> <td>-6680.865</td> <td> 1.22e+04</td>\n",
       "</tr>\n",
       "<tr>\n",
       "  <th>Condition1_Norm</th>         <td> 9393.5095</td> <td> 3755.077</td> <td>    2.502</td> <td> 0.013</td> <td> 2019.205</td> <td> 1.68e+04</td>\n",
       "</tr>\n",
       "<tr>\n",
       "  <th>Condition1_PosA</th>         <td>-8188.7011</td> <td> 1.12e+04</td> <td>   -0.728</td> <td> 0.467</td> <td>-3.03e+04</td> <td> 1.39e+04</td>\n",
       "</tr>\n",
       "<tr>\n",
       "  <th>Condition1_PosN</th>         <td> 1.872e+04</td> <td> 9321.359</td> <td>    2.008</td> <td> 0.045</td> <td>  409.959</td> <td>  3.7e+04</td>\n",
       "</tr>\n",
       "<tr>\n",
       "  <th>Condition1_RRAe</th>         <td>-1.938e+04</td> <td> 7641.144</td> <td>   -2.536</td> <td> 0.011</td> <td>-3.44e+04</td> <td>-4374.979</td>\n",
       "</tr>\n",
       "<tr>\n",
       "  <th>Condition1_RRAn</th>         <td> 3353.5207</td> <td> 6594.816</td> <td>    0.509</td> <td> 0.611</td> <td>-9597.528</td> <td> 1.63e+04</td>\n",
       "</tr>\n",
       "<tr>\n",
       "  <th>Condition1_RRNe</th>         <td> 7.448e-11</td> <td> 2.36e-10</td> <td>    0.316</td> <td> 0.752</td> <td>-3.88e-10</td> <td> 5.37e-10</td>\n",
       "</tr>\n",
       "<tr>\n",
       "  <th>Condition1_RRNn</th>         <td> 9842.4860</td> <td> 1.79e+04</td> <td>    0.549</td> <td> 0.583</td> <td>-2.53e+04</td> <td>  4.5e+04</td>\n",
       "</tr>\n",
       "<tr>\n",
       "  <th>Condition2_Feedr</th>        <td> 1.129e+04</td> <td> 1.72e+04</td> <td>    0.656</td> <td> 0.512</td> <td>-2.25e+04</td> <td> 4.51e+04</td>\n",
       "</tr>\n",
       "<tr>\n",
       "  <th>Condition2_Norm</th>         <td> 2034.2369</td> <td> 1.59e+04</td> <td>    0.128</td> <td> 0.898</td> <td>-2.92e+04</td> <td> 3.33e+04</td>\n",
       "</tr>\n",
       "<tr>\n",
       "  <th>Condition2_RRNn</th>         <td>-3.708e-11</td> <td> 1.13e-10</td> <td>   -0.328</td> <td> 0.743</td> <td>-2.59e-10</td> <td> 1.85e-10</td>\n",
       "</tr>\n",
       "<tr>\n",
       "  <th>BldgType_1Fam</th>           <td> 2.318e+04</td> <td> 6474.453</td> <td>    3.580</td> <td> 0.000</td> <td> 1.05e+04</td> <td> 3.59e+04</td>\n",
       "</tr>\n",
       "<tr>\n",
       "  <th>BldgType_2fmCon</th>         <td> -1.82e+04</td> <td> 2.35e+04</td> <td>   -0.775</td> <td> 0.439</td> <td>-6.43e+04</td> <td> 2.79e+04</td>\n",
       "</tr>\n",
       "<tr>\n",
       "  <th>BldgType_Duplex</th>         <td> 5618.5177</td> <td> 1.05e+04</td> <td>    0.536</td> <td> 0.592</td> <td> -1.5e+04</td> <td> 2.62e+04</td>\n",
       "</tr>\n",
       "<tr>\n",
       "  <th>BldgType_Twnhs</th>          <td> -407.0778</td> <td> 7620.940</td> <td>   -0.053</td> <td> 0.957</td> <td>-1.54e+04</td> <td> 1.46e+04</td>\n",
       "</tr>\n",
       "<tr>\n",
       "  <th>BldgType_TwnhsE</th>         <td> 3138.1674</td> <td> 6735.720</td> <td>    0.466</td> <td> 0.641</td> <td>-1.01e+04</td> <td> 1.64e+04</td>\n",
       "</tr>\n",
       "<tr>\n",
       "  <th>HouseStyle_1.5Fin</th>       <td>  533.9378</td> <td> 3926.815</td> <td>    0.136</td> <td> 0.892</td> <td>-7177.629</td> <td> 8245.505</td>\n",
       "</tr>\n",
       "<tr>\n",
       "  <th>HouseStyle_1.5Unf</th>       <td>  1.78e+04</td> <td> 9389.569</td> <td>    1.895</td> <td> 0.059</td> <td> -643.557</td> <td> 3.62e+04</td>\n",
       "</tr>\n",
       "<tr>\n",
       "  <th>HouseStyle_1Story</th>       <td> 1.032e+04</td> <td> 3730.655</td> <td>    2.767</td> <td> 0.006</td> <td> 2996.999</td> <td> 1.76e+04</td>\n",
       "</tr>\n",
       "<tr>\n",
       "  <th>HouseStyle_2.5Unf</th>       <td>-1.777e+04</td> <td>  1.3e+04</td> <td>   -1.364</td> <td> 0.173</td> <td>-4.34e+04</td> <td> 7813.419</td>\n",
       "</tr>\n",
       "<tr>\n",
       "  <th>HouseStyle_2Story</th>       <td>-3270.9491</td> <td> 4419.260</td> <td>   -0.740</td> <td> 0.459</td> <td>-1.19e+04</td> <td> 5407.692</td>\n",
       "</tr>\n",
       "<tr>\n",
       "  <th>HouseStyle_SFoyer</th>       <td> 3999.6181</td> <td> 5572.050</td> <td>    0.718</td> <td> 0.473</td> <td>-6942.898</td> <td> 1.49e+04</td>\n",
       "</tr>\n",
       "<tr>\n",
       "  <th>HouseStyle_SLvl</th>         <td> 1717.1830</td> <td> 4605.704</td> <td>    0.373</td> <td> 0.709</td> <td>-7327.602</td> <td> 1.08e+04</td>\n",
       "</tr>\n",
       "<tr>\n",
       "  <th>RoofStyle_Flat</th>          <td>-3109.8707</td> <td> 8543.276</td> <td>   -0.364</td> <td> 0.716</td> <td>-1.99e+04</td> <td> 1.37e+04</td>\n",
       "</tr>\n",
       "<tr>\n",
       "  <th>RoofStyle_Gable</th>         <td>  985.1958</td> <td> 6746.479</td> <td>    0.146</td> <td> 0.884</td> <td>-1.23e+04</td> <td> 1.42e+04</td>\n",
       "</tr>\n",
       "<tr>\n",
       "  <th>RoofStyle_Gambrel</th>       <td> 5733.9531</td> <td> 1.06e+04</td> <td>    0.542</td> <td> 0.588</td> <td> -1.5e+04</td> <td> 2.65e+04</td>\n",
       "</tr>\n",
       "<tr>\n",
       "  <th>RoofStyle_Hip</th>           <td> 3129.1640</td> <td> 7000.077</td> <td>    0.447</td> <td> 0.655</td> <td>-1.06e+04</td> <td> 1.69e+04</td>\n",
       "</tr>\n",
       "<tr>\n",
       "  <th>RoofStyle_Mansard</th>       <td> 6587.0984</td> <td> 1.67e+04</td> <td>    0.396</td> <td> 0.693</td> <td>-2.61e+04</td> <td> 3.93e+04</td>\n",
       "</tr>\n",
       "<tr>\n",
       "  <th>RoofMatl_CompShg</th>        <td> 1.705e+04</td> <td>  1.2e+04</td> <td>    1.420</td> <td> 0.156</td> <td>-6536.289</td> <td> 4.06e+04</td>\n",
       "</tr>\n",
       "<tr>\n",
       "  <th>RoofMatl_Tar&Grv</th>        <td>-3109.8707</td> <td> 8543.276</td> <td>   -0.364</td> <td> 0.716</td> <td>-1.99e+04</td> <td> 1.37e+04</td>\n",
       "</tr>\n",
       "<tr>\n",
       "  <th>RoofMatl_WdShake</th>        <td>-5347.4232</td> <td> 2.34e+04</td> <td>   -0.228</td> <td> 0.820</td> <td>-5.14e+04</td> <td> 4.07e+04</td>\n",
       "</tr>\n",
       "<tr>\n",
       "  <th>RoofMatl_WdShngl</th>        <td> 4730.3218</td> <td> 1.85e+04</td> <td>    0.255</td> <td> 0.799</td> <td>-3.17e+04</td> <td> 4.11e+04</td>\n",
       "</tr>\n",
       "<tr>\n",
       "  <th>Exterior1st_AsbShng</th>     <td> 2.743e+04</td> <td> 2.27e+04</td> <td>    1.207</td> <td> 0.228</td> <td>-1.72e+04</td> <td> 7.21e+04</td>\n",
       "</tr>\n",
       "<tr>\n",
       "  <th>Exterior1st_BrkComm</th>     <td> 2.184e+04</td> <td> 2.51e+04</td> <td>    0.870</td> <td> 0.385</td> <td>-2.75e+04</td> <td> 7.11e+04</td>\n",
       "</tr>\n",
       "<tr>\n",
       "  <th>Exterior1st_BrkFace</th>     <td> 1.608e+04</td> <td> 7468.631</td> <td>    2.153</td> <td> 0.032</td> <td> 1412.222</td> <td> 3.07e+04</td>\n",
       "</tr>\n",
       "<tr>\n",
       "  <th>Exterior1st_CBlock</th>      <td>-7014.5326</td> <td>  1.3e+04</td> <td>   -0.540</td> <td> 0.589</td> <td>-3.25e+04</td> <td> 1.85e+04</td>\n",
       "</tr>\n",
       "<tr>\n",
       "  <th>Exterior1st_CemntBd</th>     <td>-1.934e+04</td> <td> 2.05e+04</td> <td>   -0.943</td> <td> 0.346</td> <td>-5.96e+04</td> <td>  2.1e+04</td>\n",
       "</tr>\n",
       "<tr>\n",
       "  <th>Exterior1st_HdBoard</th>     <td>-8521.9769</td> <td> 6131.057</td> <td>   -1.390</td> <td> 0.165</td> <td>-2.06e+04</td> <td> 3518.331</td>\n",
       "</tr>\n",
       "<tr>\n",
       "  <th>Exterior1st_ImStucc</th>     <td> 1.832e+04</td> <td> 2.26e+04</td> <td>    0.811</td> <td> 0.418</td> <td> -2.6e+04</td> <td> 6.27e+04</td>\n",
       "</tr>\n",
       "<tr>\n",
       "  <th>Exterior1st_MetalSd</th>     <td> -812.9814</td> <td> 1.02e+04</td> <td>   -0.080</td> <td> 0.937</td> <td>-2.09e+04</td> <td> 1.93e+04</td>\n",
       "</tr>\n",
       "<tr>\n",
       "  <th>Exterior1st_Plywood</th>     <td>-7092.3521</td> <td> 6376.576</td> <td>   -1.112</td> <td> 0.266</td> <td>-1.96e+04</td> <td> 5430.112</td>\n",
       "</tr>\n",
       "<tr>\n",
       "  <th>Exterior1st_Stucco</th>      <td>-7367.6945</td> <td> 1.19e+04</td> <td>   -0.619</td> <td> 0.536</td> <td>-3.07e+04</td> <td>  1.6e+04</td>\n",
       "</tr>\n",
       "<tr>\n",
       "  <th>Exterior1st_VinylSd</th>     <td>-9051.2886</td> <td> 8370.531</td> <td>   -1.081</td> <td> 0.280</td> <td>-2.55e+04</td> <td> 7386.949</td>\n",
       "</tr>\n",
       "<tr>\n",
       "  <th>Exterior1st_Wd Sdng</th>     <td>-1.135e+04</td> <td> 6025.353</td> <td>   -1.883</td> <td> 0.060</td> <td>-2.32e+04</td> <td>  486.906</td>\n",
       "</tr>\n",
       "<tr>\n",
       "  <th>Exterior1st_WdShing</th>     <td>  193.6051</td> <td> 8122.547</td> <td>    0.024</td> <td> 0.981</td> <td>-1.58e+04</td> <td> 1.61e+04</td>\n",
       "</tr>\n",
       "<tr>\n",
       "  <th>Exterior2nd_AsbShng</th>     <td>-1.967e+04</td> <td> 2.06e+04</td> <td>   -0.953</td> <td> 0.341</td> <td>-6.02e+04</td> <td> 2.09e+04</td>\n",
       "</tr>\n",
       "<tr>\n",
       "  <th>Exterior2nd_Brk Cmn</th>     <td> 3057.2500</td> <td>  1.8e+04</td> <td>    0.170</td> <td> 0.865</td> <td>-3.23e+04</td> <td> 3.84e+04</td>\n",
       "</tr>\n",
       "<tr>\n",
       "  <th>Exterior2nd_BrkFace</th>     <td>-6543.6566</td> <td> 9316.969</td> <td>   -0.702</td> <td> 0.483</td> <td>-2.48e+04</td> <td> 1.18e+04</td>\n",
       "</tr>\n",
       "<tr>\n",
       "  <th>Exterior2nd_CBlock</th>      <td>-7014.5326</td> <td>  1.3e+04</td> <td>   -0.540</td> <td> 0.589</td> <td>-3.25e+04</td> <td> 1.85e+04</td>\n",
       "</tr>\n",
       "<tr>\n",
       "  <th>Exterior2nd_CmentBd</th>     <td> 2.561e+04</td> <td> 2.12e+04</td> <td>    1.208</td> <td> 0.228</td> <td> -1.6e+04</td> <td> 6.72e+04</td>\n",
       "</tr>\n",
       "<tr>\n",
       "  <th>Exterior2nd_HdBoard</th>     <td> 2540.0998</td> <td> 6234.430</td> <td>    0.407</td> <td> 0.684</td> <td>-9703.215</td> <td> 1.48e+04</td>\n",
       "</tr>\n",
       "<tr>\n",
       "  <th>Exterior2nd_ImStucc</th>     <td>-4079.7713</td> <td> 1.21e+04</td> <td>   -0.338</td> <td> 0.736</td> <td>-2.78e+04</td> <td> 1.96e+04</td>\n",
       "</tr>\n",
       "<tr>\n",
       "  <th>Exterior2nd_MetalSd</th>     <td> 6399.5011</td> <td> 1.06e+04</td> <td>    0.606</td> <td> 0.545</td> <td>-1.43e+04</td> <td> 2.71e+04</td>\n",
       "</tr>\n",
       "<tr>\n",
       "  <th>Exterior2nd_Other</th>       <td>-2.088e+04</td> <td> 2.07e+04</td> <td>   -1.010</td> <td> 0.313</td> <td>-6.15e+04</td> <td> 1.97e+04</td>\n",
       "</tr>\n",
       "<tr>\n",
       "  <th>Exterior2nd_Plywood</th>     <td> -444.8060</td> <td> 5877.955</td> <td>   -0.076</td> <td> 0.940</td> <td> -1.2e+04</td> <td> 1.11e+04</td>\n",
       "</tr>\n",
       "<tr>\n",
       "  <th>Exterior2nd_Stone</th>       <td>-1.587e+04</td> <td> 2.09e+04</td> <td>   -0.759</td> <td> 0.448</td> <td>-5.69e+04</td> <td> 2.52e+04</td>\n",
       "</tr>\n",
       "<tr>\n",
       "  <th>Exterior2nd_Stucco</th>      <td> 3.409e+04</td> <td> 1.17e+04</td> <td>    2.921</td> <td> 0.004</td> <td> 1.12e+04</td> <td>  5.7e+04</td>\n",
       "</tr>\n",
       "<tr>\n",
       "  <th>Exterior2nd_VinylSd</th>     <td> 7634.1682</td> <td> 7945.595</td> <td>    0.961</td> <td> 0.337</td> <td>-7969.571</td> <td> 2.32e+04</td>\n",
       "</tr>\n",
       "<tr>\n",
       "  <th>Exterior2nd_Wd Sdng</th>     <td> 9585.4223</td> <td> 5881.970</td> <td>    1.630</td> <td> 0.104</td> <td>-1965.722</td> <td> 2.11e+04</td>\n",
       "</tr>\n",
       "<tr>\n",
       "  <th>Exterior2nd_Wd Shng</th>     <td>-1078.4074</td> <td> 7163.692</td> <td>   -0.151</td> <td> 0.880</td> <td>-1.51e+04</td> <td>  1.3e+04</td>\n",
       "</tr>\n",
       "<tr>\n",
       "  <th>MasVnrType_BrkCmn</th>       <td>-1599.9672</td> <td> 6873.784</td> <td>   -0.233</td> <td> 0.816</td> <td>-1.51e+04</td> <td> 1.19e+04</td>\n",
       "</tr>\n",
       "<tr>\n",
       "  <th>MasVnrType_BrkFace</th>      <td> 2896.4574</td> <td> 2638.929</td> <td>    1.098</td> <td> 0.273</td> <td>-2285.931</td> <td> 8078.846</td>\n",
       "</tr>\n",
       "<tr>\n",
       "  <th>MasVnrType_None</th>         <td>  977.4928</td> <td> 2939.770</td> <td>    0.333</td> <td> 0.740</td> <td>-4795.694</td> <td> 6750.680</td>\n",
       "</tr>\n",
       "<tr>\n",
       "  <th>MasVnrType_Stone</th>        <td> 1.105e+04</td> <td> 3139.499</td> <td>    3.520</td> <td> 0.000</td> <td> 4886.139</td> <td> 1.72e+04</td>\n",
       "</tr>\n",
       "<tr>\n",
       "  <th>ExterQual_Ex</th>            <td> 6303.0862</td> <td> 6386.713</td> <td>    0.987</td> <td> 0.324</td> <td>-6239.284</td> <td> 1.88e+04</td>\n",
       "</tr>\n",
       "<tr>\n",
       "  <th>ExterQual_Fa</th>            <td> 1.588e+04</td> <td> 1.24e+04</td> <td>    1.284</td> <td> 0.200</td> <td>-8416.498</td> <td> 4.02e+04</td>\n",
       "</tr>\n",
       "<tr>\n",
       "  <th>ExterQual_Gd</th>            <td>-3579.3249</td> <td> 4650.266</td> <td>   -0.770</td> <td> 0.442</td> <td>-1.27e+04</td> <td> 5552.971</td>\n",
       "</tr>\n",
       "<tr>\n",
       "  <th>ExterQual_TA</th>            <td>-5281.8471</td> <td> 4765.960</td> <td>   -1.108</td> <td> 0.268</td> <td>-1.46e+04</td> <td> 4077.653</td>\n",
       "</tr>\n",
       "<tr>\n",
       "  <th>ExterCond_Fa</th>            <td>-9783.8124</td> <td> 6120.102</td> <td>   -1.599</td> <td> 0.110</td> <td>-2.18e+04</td> <td> 2234.982</td>\n",
       "</tr>\n",
       "<tr>\n",
       "  <th>ExterCond_Gd</th>            <td> 9054.0107</td> <td> 3490.659</td> <td>    2.594</td> <td> 0.010</td> <td> 2198.976</td> <td> 1.59e+04</td>\n",
       "</tr>\n",
       "<tr>\n",
       "  <th>ExterCond_TA</th>            <td> 1.406e+04</td> <td> 3101.689</td> <td>    4.532</td> <td> 0.000</td> <td> 7964.175</td> <td> 2.01e+04</td>\n",
       "</tr>\n",
       "<tr>\n",
       "  <th>Foundation_BrkTil</th>       <td>-4461.4204</td> <td> 4776.184</td> <td>   -0.934</td> <td> 0.351</td> <td>-1.38e+04</td> <td> 4918.158</td>\n",
       "</tr>\n",
       "<tr>\n",
       "  <th>Foundation_CBlock</th>       <td> -696.8587</td> <td> 4026.804</td> <td>   -0.173</td> <td> 0.863</td> <td>-8604.787</td> <td> 7211.069</td>\n",
       "</tr>\n",
       "<tr>\n",
       "  <th>Foundation_PConc</th>        <td>  -59.4027</td> <td> 4408.590</td> <td>   -0.013</td> <td> 0.989</td> <td>-8717.091</td> <td> 8598.286</td>\n",
       "</tr>\n",
       "<tr>\n",
       "  <th>Foundation_Slab</th>         <td>  390.0649</td> <td> 9530.595</td> <td>    0.041</td> <td> 0.967</td> <td>-1.83e+04</td> <td> 1.91e+04</td>\n",
       "</tr>\n",
       "<tr>\n",
       "  <th>Foundation_Stone</th>        <td> 1.815e+04</td> <td> 1.29e+04</td> <td>    1.410</td> <td> 0.159</td> <td>-7134.962</td> <td> 4.34e+04</td>\n",
       "</tr>\n",
       "<tr>\n",
       "  <th>Foundation_Wood</th>         <td> 1.024e-11</td> <td> 2.74e-11</td> <td>    0.374</td> <td> 0.708</td> <td>-4.35e-11</td> <td>  6.4e-11</td>\n",
       "</tr>\n",
       "<tr>\n",
       "  <th>BsmtQual_Ex</th>             <td> 1.583e+04</td> <td> 3862.241</td> <td>    4.099</td> <td> 0.000</td> <td> 8247.455</td> <td> 2.34e+04</td>\n",
       "</tr>\n",
       "<tr>\n",
       "  <th>BsmtQual_Fa</th>             <td> 4986.2571</td> <td> 5706.792</td> <td>    0.874</td> <td> 0.383</td> <td>-6220.869</td> <td> 1.62e+04</td>\n",
       "</tr>\n",
       "<tr>\n",
       "  <th>BsmtQual_Gd</th>             <td>-5700.6222</td> <td> 2651.078</td> <td>   -2.150</td> <td> 0.032</td> <td>-1.09e+04</td> <td> -494.376</td>\n",
       "</tr>\n",
       "<tr>\n",
       "  <th>BsmtQual_TA</th>             <td>-4145.8236</td> <td> 2755.382</td> <td>   -1.505</td> <td> 0.133</td> <td>-9556.904</td> <td> 1265.257</td>\n",
       "</tr>\n",
       "<tr>\n",
       "  <th>BsmtQual_noBasement</th>     <td> 2353.5174</td> <td> 2044.784</td> <td>    1.151</td> <td> 0.250</td> <td>-1662.076</td> <td> 6369.111</td>\n",
       "</tr>\n",
       "<tr>\n",
       "  <th>BsmtCond_Fa</th>             <td>-1547.2992</td> <td> 3466.331</td> <td>   -0.446</td> <td> 0.655</td> <td>-8354.557</td> <td> 5259.959</td>\n",
       "</tr>\n",
       "<tr>\n",
       "  <th>BsmtCond_Gd</th>             <td> 5527.5401</td> <td> 3066.606</td> <td>    1.802</td> <td> 0.072</td> <td> -494.729</td> <td> 1.15e+04</td>\n",
       "</tr>\n",
       "<tr>\n",
       "  <th>BsmtCond_TA</th>             <td> 6991.7822</td> <td> 2157.382</td> <td>    3.241</td> <td> 0.001</td> <td> 2755.066</td> <td> 1.12e+04</td>\n",
       "</tr>\n",
       "<tr>\n",
       "  <th>BsmtCond_noBasement</th>     <td> 2353.5174</td> <td> 2044.784</td> <td>    1.151</td> <td> 0.250</td> <td>-1662.076</td> <td> 6369.111</td>\n",
       "</tr>\n",
       "<tr>\n",
       "  <th>BsmtExposure_Av</th>         <td>  854.9878</td> <td> 1916.049</td> <td>    0.446</td> <td> 0.656</td> <td>-2907.792</td> <td> 4617.768</td>\n",
       "</tr>\n",
       "<tr>\n",
       "  <th>BsmtExposure_Gd</th>         <td> 1.641e+04</td> <td> 2681.451</td> <td>    6.122</td> <td> 0.000</td> <td> 1.11e+04</td> <td> 2.17e+04</td>\n",
       "</tr>\n",
       "<tr>\n",
       "  <th>BsmtExposure_Mn</th>         <td>-3393.2818</td> <td> 2492.803</td> <td>   -1.361</td> <td> 0.174</td> <td>-8288.704</td> <td> 1502.141</td>\n",
       "</tr>\n",
       "<tr>\n",
       "  <th>BsmtExposure_No</th>         <td>-2904.3277</td> <td> 1662.240</td> <td>   -1.747</td> <td> 0.081</td> <td>-6168.673</td> <td>  360.017</td>\n",
       "</tr>\n",
       "<tr>\n",
       "  <th>BsmtExposure_noBasement</th> <td> 2353.5174</td> <td> 2044.784</td> <td>    1.151</td> <td> 0.250</td> <td>-1662.076</td> <td> 6369.111</td>\n",
       "</tr>\n",
       "<tr>\n",
       "  <th>BsmtFinType1_ALQ</th>        <td> 3046.6588</td> <td> 2168.611</td> <td>    1.405</td> <td> 0.161</td> <td>-1212.109</td> <td> 7305.427</td>\n",
       "</tr>\n",
       "<tr>\n",
       "  <th>BsmtFinType1_BLQ</th>        <td>  -65.2475</td> <td> 2421.781</td> <td>   -0.027</td> <td> 0.979</td> <td>-4821.195</td> <td> 4690.700</td>\n",
       "</tr>\n",
       "<tr>\n",
       "  <th>BsmtFinType1_GLQ</th>        <td> 9564.1344</td> <td> 2243.199</td> <td>    4.264</td> <td> 0.000</td> <td> 5158.889</td> <td>  1.4e+04</td>\n",
       "</tr>\n",
       "<tr>\n",
       "  <th>BsmtFinType1_LwQ</th>        <td>-2689.9877</td> <td> 3855.870</td> <td>   -0.698</td> <td> 0.486</td> <td>-1.03e+04</td> <td> 4882.256</td>\n",
       "</tr>\n",
       "<tr>\n",
       "  <th>BsmtFinType1_Rec</th>        <td> -546.2892</td> <td> 2579.077</td> <td>   -0.212</td> <td> 0.832</td> <td>-5611.139</td> <td> 4518.561</td>\n",
       "</tr>\n",
       "<tr>\n",
       "  <th>BsmtFinType1_Unf</th>        <td> 1662.7544</td> <td> 2345.231</td> <td>    0.709</td> <td> 0.479</td> <td>-2942.863</td> <td> 6268.371</td>\n",
       "</tr>\n",
       "<tr>\n",
       "  <th>BsmtFinType1_noBasement</th> <td> 2353.5174</td> <td> 2044.784</td> <td>    1.151</td> <td> 0.250</td> <td>-1662.076</td> <td> 6369.111</td>\n",
       "</tr>\n",
       "<tr>\n",
       "  <th>BsmtFinType2_ALQ</th>        <td> 6184.7192</td> <td> 1.18e+04</td> <td>    0.522</td> <td> 0.602</td> <td>-1.71e+04</td> <td> 2.94e+04</td>\n",
       "</tr>\n",
       "<tr>\n",
       "  <th>BsmtFinType2_BLQ</th>        <td>-5844.7143</td> <td> 5791.580</td> <td>   -1.009</td> <td> 0.313</td> <td>-1.72e+04</td> <td> 5528.921</td>\n",
       "</tr>\n",
       "<tr>\n",
       "  <th>BsmtFinType2_GLQ</th>        <td> 1.797e+04</td> <td> 1.14e+04</td> <td>    1.570</td> <td> 0.117</td> <td>-4504.037</td> <td> 4.05e+04</td>\n",
       "</tr>\n",
       "<tr>\n",
       "  <th>BsmtFinType2_LwQ</th>        <td>-3876.3278</td> <td> 5301.441</td> <td>   -0.731</td> <td> 0.465</td> <td>-1.43e+04</td> <td> 6534.762</td>\n",
       "</tr>\n",
       "<tr>\n",
       "  <th>BsmtFinType2_Rec</th>        <td>-3321.1712</td> <td> 5309.788</td> <td>   -0.625</td> <td> 0.532</td> <td>-1.37e+04</td> <td> 7106.311</td>\n",
       "</tr>\n",
       "<tr>\n",
       "  <th>BsmtFinType2_Unf</th>        <td> -144.3715</td> <td> 5653.815</td> <td>   -0.026</td> <td> 0.980</td> <td>-1.12e+04</td> <td>  1.1e+04</td>\n",
       "</tr>\n",
       "<tr>\n",
       "  <th>BsmtFinType2_noBasement</th> <td> 2353.5174</td> <td> 2044.784</td> <td>    1.151</td> <td> 0.250</td> <td>-1662.076</td> <td> 6369.111</td>\n",
       "</tr>\n",
       "<tr>\n",
       "  <th>Heating_Floor</th>           <td>-1.597e-11</td> <td> 7.11e-12</td> <td>   -2.247</td> <td> 0.025</td> <td>-2.99e-11</td> <td>-2.01e-12</td>\n",
       "</tr>\n",
       "<tr>\n",
       "  <th>Heating_GasA</th>            <td>-4721.5264</td> <td> 8779.689</td> <td>   -0.538</td> <td> 0.591</td> <td> -2.2e+04</td> <td> 1.25e+04</td>\n",
       "</tr>\n",
       "<tr>\n",
       "  <th>Heating_GasW</th>            <td> 1373.6506</td> <td>  1.1e+04</td> <td>    0.125</td> <td> 0.901</td> <td>-2.03e+04</td> <td>  2.3e+04</td>\n",
       "</tr>\n",
       "<tr>\n",
       "  <th>Heating_Grav</th>            <td>-3247.9598</td> <td> 1.42e+04</td> <td>   -0.229</td> <td> 0.819</td> <td>-3.11e+04</td> <td> 2.46e+04</td>\n",
       "</tr>\n",
       "<tr>\n",
       "  <th>Heating_Wall</th>            <td> 1.992e+04</td> <td> 1.86e+04</td> <td>    1.072</td> <td> 0.284</td> <td>-1.66e+04</td> <td> 5.64e+04</td>\n",
       "</tr>\n",
       "<tr>\n",
       "  <th>HeatingQC_Ex</th>            <td> 5822.4359</td> <td> 2185.979</td> <td>    2.664</td> <td> 0.008</td> <td> 1529.561</td> <td> 1.01e+04</td>\n",
       "</tr>\n",
       "<tr>\n",
       "  <th>HeatingQC_Fa</th>            <td> 1033.9240</td> <td> 4540.369</td> <td>    0.228</td> <td> 0.820</td> <td>-7882.555</td> <td> 9950.403</td>\n",
       "</tr>\n",
       "<tr>\n",
       "  <th>HeatingQC_Gd</th>            <td> 2419.0448</td> <td> 2247.963</td> <td>    1.076</td> <td> 0.282</td> <td>-1995.556</td> <td> 6833.646</td>\n",
       "</tr>\n",
       "<tr>\n",
       "  <th>HeatingQC_TA</th>            <td> 4050.1359</td> <td> 2027.738</td> <td>    1.997</td> <td> 0.046</td> <td>   68.019</td> <td> 8032.253</td>\n",
       "</tr>\n",
       "<tr>\n",
       "  <th>CentralAir_N</th>            <td> 7484.9129</td> <td> 2911.741</td> <td>    2.571</td> <td> 0.010</td> <td> 1766.771</td> <td> 1.32e+04</td>\n",
       "</tr>\n",
       "<tr>\n",
       "  <th>CentralAir_Y</th>            <td> 5840.6277</td> <td> 3052.670</td> <td>    1.913</td> <td> 0.056</td> <td> -154.274</td> <td> 1.18e+04</td>\n",
       "</tr>\n",
       "<tr>\n",
       "  <th>Electrical_FuseA</th>        <td> 3809.9121</td> <td> 3272.165</td> <td>    1.164</td> <td> 0.245</td> <td>-2616.039</td> <td> 1.02e+04</td>\n",
       "</tr>\n",
       "<tr>\n",
       "  <th>Electrical_FuseF</th>        <td> 4694.3183</td> <td> 4897.294</td> <td>    0.959</td> <td> 0.338</td> <td>-4923.097</td> <td> 1.43e+04</td>\n",
       "</tr>\n",
       "<tr>\n",
       "  <th>Electrical_FuseP</th>        <td>-8.303e-12</td> <td>  6.1e-12</td> <td>   -1.361</td> <td> 0.174</td> <td>-2.03e-11</td> <td> 3.67e-12</td>\n",
       "</tr>\n",
       "<tr>\n",
       "  <th>Electrical_SBrkr</th>        <td> 4821.3101</td> <td> 3036.003</td> <td>    1.588</td> <td> 0.113</td> <td>-1140.860</td> <td> 1.08e+04</td>\n",
       "</tr>\n",
       "<tr>\n",
       "  <th>KitchenQual_Ex</th>          <td> 1.556e+04</td> <td> 3658.840</td> <td>    4.251</td> <td> 0.000</td> <td> 8369.952</td> <td> 2.27e+04</td>\n",
       "</tr>\n",
       "<tr>\n",
       "  <th>KitchenQual_Fa</th>          <td> 1411.9852</td> <td> 5024.981</td> <td>    0.281</td> <td> 0.779</td> <td>-8456.185</td> <td> 1.13e+04</td>\n",
       "</tr>\n",
       "<tr>\n",
       "  <th>KitchenQual_Gd</th>          <td>-3233.2238</td> <td> 2376.988</td> <td>   -1.360</td> <td> 0.174</td> <td>-7901.207</td> <td> 1434.759</td>\n",
       "</tr>\n",
       "<tr>\n",
       "  <th>KitchenQual_TA</th>          <td> -408.4849</td> <td> 2312.634</td> <td>   -0.177</td> <td> 0.860</td> <td>-4950.087</td> <td> 4133.117</td>\n",
       "</tr>\n",
       "<tr>\n",
       "  <th>Functional_Maj1</th>         <td> 8645.1665</td> <td> 9533.667</td> <td>    0.907</td> <td> 0.365</td> <td>-1.01e+04</td> <td> 2.74e+04</td>\n",
       "</tr>\n",
       "<tr>\n",
       "  <th>Functional_Maj2</th>         <td>-2097.9765</td> <td> 1.78e+04</td> <td>   -0.118</td> <td> 0.906</td> <td>-3.71e+04</td> <td> 3.29e+04</td>\n",
       "</tr>\n",
       "<tr>\n",
       "  <th>Functional_Min1</th>         <td>-1107.7500</td> <td> 6229.040</td> <td>   -0.178</td> <td> 0.859</td> <td>-1.33e+04</td> <td> 1.11e+04</td>\n",
       "</tr>\n",
       "<tr>\n",
       "  <th>Functional_Min2</th>         <td> 1.017e+04</td> <td> 6100.429</td> <td>    1.668</td> <td> 0.096</td> <td>-1806.719</td> <td> 2.22e+04</td>\n",
       "</tr>\n",
       "<tr>\n",
       "  <th>Functional_Mod</th>          <td>-1.916e+04</td> <td> 9460.476</td> <td>   -2.025</td> <td> 0.043</td> <td>-3.77e+04</td> <td> -581.096</td>\n",
       "</tr>\n",
       "<tr>\n",
       "  <th>Functional_Typ</th>          <td> 1.687e+04</td> <td> 4592.630</td> <td>    3.674</td> <td> 0.000</td> <td> 7853.341</td> <td> 2.59e+04</td>\n",
       "</tr>\n",
       "<tr>\n",
       "  <th>FireplaceQu_Ex</th>          <td> 5940.2637</td> <td> 6045.509</td> <td>    0.983</td> <td> 0.326</td> <td>-5932.043</td> <td> 1.78e+04</td>\n",
       "</tr>\n",
       "<tr>\n",
       "  <th>FireplaceQu_Fa</th>          <td>-8197.8330</td> <td> 4653.630</td> <td>   -1.762</td> <td> 0.079</td> <td>-1.73e+04</td> <td>  941.071</td>\n",
       "</tr>\n",
       "<tr>\n",
       "  <th>FireplaceQu_Gd</th>          <td> 2565.9767</td> <td> 2492.026</td> <td>    1.030</td> <td> 0.304</td> <td>-2327.920</td> <td> 7459.873</td>\n",
       "</tr>\n",
       "<tr>\n",
       "  <th>FireplaceQu_Po</th>          <td> 1.206e+04</td> <td> 5979.305</td> <td>    2.018</td> <td> 0.044</td> <td>  322.169</td> <td> 2.38e+04</td>\n",
       "</tr>\n",
       "<tr>\n",
       "  <th>FireplaceQu_TA</th>          <td> 2297.7707</td> <td> 2693.773</td> <td>    0.853</td> <td> 0.394</td> <td>-2992.321</td> <td> 7587.862</td>\n",
       "</tr>\n",
       "<tr>\n",
       "  <th>FireplaceQu_noFireplace</th> <td>-1345.0997</td> <td> 3803.861</td> <td>   -0.354</td> <td> 0.724</td> <td>-8815.207</td> <td> 6125.008</td>\n",
       "</tr>\n",
       "<tr>\n",
       "  <th>GarageType_Attchd</th>       <td>-5968.5709</td> <td> 4384.025</td> <td>   -1.361</td> <td> 0.174</td> <td>-1.46e+04</td> <td> 2640.877</td>\n",
       "</tr>\n",
       "<tr>\n",
       "  <th>GarageType_Basment</th>      <td>-4667.8096</td> <td> 6742.089</td> <td>   -0.692</td> <td> 0.489</td> <td>-1.79e+04</td> <td> 8572.456</td>\n",
       "</tr>\n",
       "<tr>\n",
       "  <th>GarageType_BuiltIn</th>      <td>-2681.8729</td> <td> 5317.296</td> <td>   -0.504</td> <td> 0.614</td> <td>-1.31e+04</td> <td> 7760.353</td>\n",
       "</tr>\n",
       "<tr>\n",
       "  <th>GarageType_CarPort</th>      <td> 2.862e+04</td> <td> 1.67e+04</td> <td>    1.718</td> <td> 0.086</td> <td>-4088.351</td> <td> 6.13e+04</td>\n",
       "</tr>\n",
       "<tr>\n",
       "  <th>GarageType_Detchd</th>       <td>-3586.7209</td> <td> 4487.261</td> <td>   -0.799</td> <td> 0.424</td> <td>-1.24e+04</td> <td> 5225.464</td>\n",
       "</tr>\n",
       "<tr>\n",
       "  <th>GarageType_noGarage</th>     <td> 1611.6819</td> <td> 1769.009</td> <td>    0.911</td> <td> 0.363</td> <td>-1862.337</td> <td> 5085.701</td>\n",
       "</tr>\n",
       "<tr>\n",
       "  <th>GarageFinish_Fin</th>        <td> 2566.2981</td> <td> 1718.576</td> <td>    1.493</td> <td> 0.136</td> <td> -808.680</td> <td> 5941.276</td>\n",
       "</tr>\n",
       "<tr>\n",
       "  <th>GarageFinish_RFn</th>        <td> 5360.0572</td> <td> 1560.773</td> <td>    3.434</td> <td> 0.001</td> <td> 2294.975</td> <td> 8425.139</td>\n",
       "</tr>\n",
       "<tr>\n",
       "  <th>GarageFinish_Unf</th>        <td> 3787.5034</td> <td> 1800.045</td> <td>    2.104</td> <td> 0.036</td> <td>  252.534</td> <td> 7322.473</td>\n",
       "</tr>\n",
       "<tr>\n",
       "  <th>GarageFinish_noGarage</th>   <td> 1611.6819</td> <td> 1769.009</td> <td>    0.911</td> <td> 0.363</td> <td>-1862.337</td> <td> 5085.701</td>\n",
       "</tr>\n",
       "<tr>\n",
       "  <th>GarageQual_Ex</th>           <td> 3857.7955</td> <td> 6395.272</td> <td>    0.603</td> <td> 0.547</td> <td>-8701.383</td> <td> 1.64e+04</td>\n",
       "</tr>\n",
       "<tr>\n",
       "  <th>GarageQual_Fa</th>           <td>-5711.7959</td> <td> 5227.798</td> <td>   -1.093</td> <td> 0.275</td> <td> -1.6e+04</td> <td> 4554.671</td>\n",
       "</tr>\n",
       "<tr>\n",
       "  <th>GarageQual_Gd</th>           <td> 1.087e+04</td> <td> 7405.503</td> <td>    1.467</td> <td> 0.143</td> <td>-3676.547</td> <td> 2.54e+04</td>\n",
       "</tr>\n",
       "<tr>\n",
       "  <th>GarageQual_Po</th>           <td>         0</td> <td>        0</td> <td>      nan</td> <td>   nan</td> <td>        0</td> <td>        0</td>\n",
       "</tr>\n",
       "<tr>\n",
       "  <th>GarageQual_TA</th>           <td> 2701.3121</td> <td> 3870.065</td> <td>    0.698</td> <td> 0.485</td> <td>-4898.808</td> <td> 1.03e+04</td>\n",
       "</tr>\n",
       "<tr>\n",
       "  <th>GarageQual_noGarage</th>     <td> 1611.6819</td> <td> 1769.009</td> <td>    0.911</td> <td> 0.363</td> <td>-1862.337</td> <td> 5085.701</td>\n",
       "</tr>\n",
       "<tr>\n",
       "  <th>GarageCond_Ex</th>           <td> 3857.7955</td> <td> 6395.272</td> <td>    0.603</td> <td> 0.547</td> <td>-8701.383</td> <td> 1.64e+04</td>\n",
       "</tr>\n",
       "<tr>\n",
       "  <th>GarageCond_Fa</th>           <td>-5931.6330</td> <td> 6931.791</td> <td>   -0.856</td> <td> 0.392</td> <td>-1.95e+04</td> <td> 7681.175</td>\n",
       "</tr>\n",
       "<tr>\n",
       "  <th>GarageCond_Gd</th>           <td> 3917.5329</td> <td> 9387.020</td> <td>    0.417</td> <td> 0.677</td> <td>-1.45e+04</td> <td> 2.24e+04</td>\n",
       "</tr>\n",
       "<tr>\n",
       "  <th>GarageCond_Po</th>           <td> 9405.3035</td> <td>  1.5e+04</td> <td>    0.627</td> <td> 0.531</td> <td>-2.01e+04</td> <td> 3.89e+04</td>\n",
       "</tr>\n",
       "<tr>\n",
       "  <th>GarageCond_TA</th>           <td>  464.8597</td> <td> 5380.312</td> <td>    0.086</td> <td> 0.931</td> <td>-1.01e+04</td> <td>  1.1e+04</td>\n",
       "</tr>\n",
       "<tr>\n",
       "  <th>GarageCond_noGarage</th>     <td> 1611.6819</td> <td> 1769.009</td> <td>    0.911</td> <td> 0.363</td> <td>-1862.337</td> <td> 5085.701</td>\n",
       "</tr>\n",
       "<tr>\n",
       "  <th>PavedDrive_N</th>            <td> 7064.5998</td> <td> 3269.168</td> <td>    2.161</td> <td> 0.031</td> <td>  644.535</td> <td> 1.35e+04</td>\n",
       "</tr>\n",
       "<tr>\n",
       "  <th>PavedDrive_P</th>            <td>  918.7327</td> <td> 4147.904</td> <td>    0.221</td> <td> 0.825</td> <td>-7227.016</td> <td> 9064.481</td>\n",
       "</tr>\n",
       "<tr>\n",
       "  <th>PavedDrive_Y</th>            <td> 5342.2081</td> <td> 2706.584</td> <td>    1.974</td> <td> 0.049</td> <td>   26.957</td> <td> 1.07e+04</td>\n",
       "</tr>\n",
       "<tr>\n",
       "  <th>PoolQC_noPool</th>           <td> 1.333e+04</td> <td> 2178.289</td> <td>    6.117</td> <td> 0.000</td> <td> 9047.767</td> <td> 1.76e+04</td>\n",
       "</tr>\n",
       "<tr>\n",
       "  <th>Fence_GdPrv</th>             <td> 2420.8675</td> <td> 4093.444</td> <td>    0.591</td> <td> 0.554</td> <td>-5617.931</td> <td> 1.05e+04</td>\n",
       "</tr>\n",
       "<tr>\n",
       "  <th>Fence_GdWo</th>              <td> 3508.6482</td> <td> 3570.629</td> <td>    0.983</td> <td> 0.326</td> <td>-3503.433</td> <td> 1.05e+04</td>\n",
       "</tr>\n",
       "<tr>\n",
       "  <th>Fence_MnPrv</th>             <td> 5796.2026</td> <td> 2777.244</td> <td>    2.087</td> <td> 0.037</td> <td>  342.189</td> <td> 1.13e+04</td>\n",
       "</tr>\n",
       "<tr>\n",
       "  <th>Fence_MnWw</th>              <td>-3456.9510</td> <td> 6793.835</td> <td>   -0.509</td> <td> 0.611</td> <td>-1.68e+04</td> <td> 9884.936</td>\n",
       "</tr>\n",
       "<tr>\n",
       "  <th>Fence_noFence</th>           <td> 5056.7732</td> <td> 2370.186</td> <td>    2.133</td> <td> 0.033</td> <td>  402.149</td> <td> 9711.398</td>\n",
       "</tr>\n",
       "<tr>\n",
       "  <th>MiscFeature_None</th>        <td> 3322.2982</td> <td> 2487.796</td> <td>    1.335</td> <td> 0.182</td> <td>-1563.291</td> <td> 8207.887</td>\n",
       "</tr>\n",
       "<tr>\n",
       "  <th>MiscFeature_Shed</th>        <td>     1e+04</td> <td> 2682.370</td> <td>    3.729</td> <td> 0.000</td> <td> 4735.544</td> <td> 1.53e+04</td>\n",
       "</tr>\n",
       "<tr>\n",
       "  <th>SaleType_COD</th>            <td>-3434.2138</td> <td> 6584.954</td> <td>   -0.522</td> <td> 0.602</td> <td>-1.64e+04</td> <td> 9497.466</td>\n",
       "</tr>\n",
       "<tr>\n",
       "  <th>SaleType_CWD</th>            <td>  4.15e+04</td> <td> 1.35e+04</td> <td>    3.073</td> <td> 0.002</td> <td>  1.5e+04</td> <td>  6.8e+04</td>\n",
       "</tr>\n",
       "<tr>\n",
       "  <th>SaleType_Con</th>            <td> 1.237e+04</td> <td> 1.79e+04</td> <td>    0.692</td> <td> 0.489</td> <td>-2.27e+04</td> <td> 4.75e+04</td>\n",
       "</tr>\n",
       "<tr>\n",
       "  <th>SaleType_ConLD</th>          <td>-7131.8118</td> <td> 1.05e+04</td> <td>   -0.677</td> <td> 0.498</td> <td>-2.78e+04</td> <td> 1.35e+04</td>\n",
       "</tr>\n",
       "<tr>\n",
       "  <th>SaleType_ConLI</th>          <td>-4125.3258</td> <td> 1.14e+04</td> <td>   -0.361</td> <td> 0.718</td> <td>-2.66e+04</td> <td> 1.83e+04</td>\n",
       "</tr>\n",
       "<tr>\n",
       "  <th>SaleType_ConLw</th>          <td>-8076.5332</td> <td> 1.97e+04</td> <td>   -0.410</td> <td> 0.682</td> <td>-4.67e+04</td> <td> 3.06e+04</td>\n",
       "</tr>\n",
       "<tr>\n",
       "  <th>SaleType_New</th>            <td>-1.892e+04</td> <td> 1.41e+04</td> <td>   -1.346</td> <td> 0.179</td> <td>-4.65e+04</td> <td> 8692.725</td>\n",
       "</tr>\n",
       "<tr>\n",
       "  <th>SaleType_Oth</th>            <td> -383.6238</td> <td> 1.34e+04</td> <td>   -0.029</td> <td> 0.977</td> <td>-2.66e+04</td> <td> 2.59e+04</td>\n",
       "</tr>\n",
       "<tr>\n",
       "  <th>SaleType_WD</th>             <td> 1530.5165</td> <td> 4953.654</td> <td>    0.309</td> <td> 0.757</td> <td>-8197.580</td> <td> 1.13e+04</td>\n",
       "</tr>\n",
       "<tr>\n",
       "  <th>SaleCondition_Abnorml</th>   <td> 2100.9839</td> <td> 5571.741</td> <td>    0.377</td> <td> 0.706</td> <td>-8840.926</td> <td>  1.3e+04</td>\n",
       "</tr>\n",
       "<tr>\n",
       "  <th>SaleCondition_AdjLand</th>   <td>  2.63e+04</td> <td> 1.53e+04</td> <td>    1.717</td> <td> 0.087</td> <td>-3787.509</td> <td> 5.64e+04</td>\n",
       "</tr>\n",
       "<tr>\n",
       "  <th>SaleCondition_Alloca</th>    <td>-5.745e+04</td> <td> 1.74e+04</td> <td>   -3.311</td> <td> 0.001</td> <td>-9.15e+04</td> <td>-2.34e+04</td>\n",
       "</tr>\n",
       "<tr>\n",
       "  <th>SaleCondition_Family</th>    <td>-1838.3887</td> <td> 7511.557</td> <td>   -0.245</td> <td> 0.807</td> <td>-1.66e+04</td> <td> 1.29e+04</td>\n",
       "</tr>\n",
       "<tr>\n",
       "  <th>SaleCondition_Normal</th>    <td> 6724.2171</td> <td> 5173.617</td> <td>    1.300</td> <td> 0.194</td> <td>-3435.848</td> <td> 1.69e+04</td>\n",
       "</tr>\n",
       "<tr>\n",
       "  <th>SaleCondition_Partial</th>   <td> 3.749e+04</td> <td> 1.37e+04</td> <td>    2.735</td> <td> 0.006</td> <td> 1.06e+04</td> <td> 6.44e+04</td>\n",
       "</tr>\n",
       "</table>\n",
       "<table class=\"simpletable\">\n",
       "<tr>\n",
       "  <th>Omnibus:</th>       <td>158.266</td> <th>  Durbin-Watson:     </th> <td>   2.124</td>\n",
       "</tr>\n",
       "<tr>\n",
       "  <th>Prob(Omnibus):</th> <td> 0.000</td>  <th>  Jarque-Bera (JB):  </th> <td>3625.344</td>\n",
       "</tr>\n",
       "<tr>\n",
       "  <th>Skew:</th>          <td> 0.090</td>  <th>  Prob(JB):          </th> <td>    0.00</td>\n",
       "</tr>\n",
       "<tr>\n",
       "  <th>Kurtosis:</th>      <td>13.325</td>  <th>  Cond. No.          </th> <td>1.02e+16</td>\n",
       "</tr>\n",
       "</table><br/><br/>Notes:<br/>[1] Standard Errors assume that the covariance matrix of the errors is correctly specified.<br/>[2] The smallest eigenvalue is 2.1e-28. This might indicate that there are<br/>strong multicollinearity problems or that the design matrix is singular."
      ],
      "text/plain": [
       "<class 'statsmodels.iolib.summary.Summary'>\n",
       "\"\"\"\n",
       "                            OLS Regression Results                            \n",
       "==============================================================================\n",
       "Dep. Variable:              SalePrice   R-squared:                       0.944\n",
       "Model:                            OLS   Adj. R-squared:                  0.926\n",
       "Method:                 Least Squares   F-statistic:                     52.02\n",
       "Date:                Thu, 30 Jun 2022   Prob (F-statistic):          6.08e-292\n",
       "Time:                        15:59:22   Log-Likelihood:                -9054.5\n",
       "No. Observations:                 816   AIC:                         1.851e+04\n",
       "Df Residuals:                     616   BIC:                         1.945e+04\n",
       "Df Model:                         199                                         \n",
       "Covariance Type:            nonrobust                                         \n",
       "===========================================================================================\n",
       "                              coef    std err          t      P>|t|      [0.025      0.975]\n",
       "-------------------------------------------------------------------------------------------\n",
       "const                    1.333e+04   2178.289      6.117      0.000    9047.767    1.76e+04\n",
       "LotFrontage              -266.4234   1146.443     -0.232      0.816   -2517.834    1984.987\n",
       "LotArea                  5142.1528   1239.017      4.150      0.000    2708.943    7575.363\n",
       "OverallQual              8225.7712   1600.579      5.139      0.000    5082.518    1.14e+04\n",
       "YearBuilt                6684.8539   2824.732      2.367      0.018    1137.582    1.22e+04\n",
       "YearRemodAdd             5781.0515   1373.400      4.209      0.000    3083.937    8478.166\n",
       "MasVnrArea               -861.0929   1280.920     -0.672      0.502   -3376.593    1654.407\n",
       "BsmtFinSF1               -464.0527   8501.900     -0.055      0.956   -1.72e+04    1.62e+04\n",
       "BsmtUnfSF               -7112.4247   8957.034     -0.794      0.427   -2.47e+04    1.05e+04\n",
       "TotalBsmtSF              1.422e+04   7908.073      1.799      0.073   -1306.003    2.98e+04\n",
       "1stFlrSF                 7202.5910   4.76e+04      0.151      0.880   -8.63e+04    1.01e+05\n",
       "2ndFlrSF                 1.771e+04   5.82e+04      0.304      0.761   -9.67e+04    1.32e+05\n",
       "GrLivArea                9592.0690   6.22e+04      0.154      0.878   -1.13e+05    1.32e+05\n",
       "BsmtFullBath             -278.2838   1143.314     -0.243      0.808   -2523.549    1966.982\n",
       "FullBath                 -583.2270   1492.683     -0.391      0.696   -3514.591    2348.137\n",
       "HalfBath                  251.2975   1257.040      0.200      0.842   -2217.306    2719.901\n",
       "BedroomAbvGr            -1100.1183   1255.045     -0.877      0.381   -3564.805    1364.568\n",
       "TotRmsAbvGrd              426.2810   1655.399      0.258      0.797   -2824.629    3677.191\n",
       "Fireplaces               -418.4423   2049.280     -0.204      0.838   -4442.865    3605.981\n",
       "GarageYrBlt             -2394.4321   1933.744     -1.238      0.216   -6191.961    1403.097\n",
       "GarageCars               2667.5872   1911.611      1.395      0.163   -1086.477    6421.651\n",
       "GarageArea               4431.6804   1858.717      2.384      0.017     781.489    8081.871\n",
       "WoodDeckSF               3440.2774    813.520      4.229      0.000    1842.669    5037.886\n",
       "OpenPorchSF              2182.2625    862.036      2.532      0.012     489.376    3875.149\n",
       "ScreenPorch              1094.1591    723.836      1.512      0.131    -327.326    2515.644\n",
       "MSZoning_C (all)        -2.305e+04   1.02e+04     -2.251      0.025   -4.32e+04   -2940.858\n",
       "MSZoning_FV              2.347e+04   6684.528      3.511      0.000    1.03e+04    3.66e+04\n",
       "MSZoning_RH             -1383.8499   8738.917     -0.158      0.874   -1.85e+04    1.58e+04\n",
       "MSZoning_RL              6009.6136   4114.647      1.461      0.145   -2070.823    1.41e+04\n",
       "MSZoning_RM              8278.5218   4796.828      1.726      0.085   -1141.596    1.77e+04\n",
       "Alley_Grvl               6168.4584   4127.275      1.495      0.136   -1936.777    1.43e+04\n",
       "Alley_Pave               2480.7563   3989.321      0.622      0.534   -5353.562    1.03e+04\n",
       "Alley_noAcess            4676.3258   2603.904      1.796      0.073    -437.280    9789.931\n",
       "LotShape_IR1             8072.9466   3431.747      2.352      0.019    1333.604    1.48e+04\n",
       "LotShape_IR2             6544.2355   4875.612      1.342      0.180   -3030.601    1.61e+04\n",
       "LotShape_IR3            -8377.3749   9047.254     -0.926      0.355   -2.61e+04    9389.826\n",
       "LotShape_Reg             7085.7332   3569.262      1.985      0.048      76.337    1.41e+04\n",
       "LandContour_Bnk          5819.6067   4444.299      1.309      0.191   -2908.208    1.45e+04\n",
       "LandContour_HLS          8573.0028   3943.517      2.174      0.030     828.634    1.63e+04\n",
       "LandContour_Low         -6148.3569   6215.337     -0.989      0.323   -1.84e+04    6057.463\n",
       "LandContour_Lvl          5081.2880   2736.468      1.857      0.064    -292.649    1.05e+04\n",
       "LotConfig_Corner         6895.2156   3074.720      2.243      0.025     857.012    1.29e+04\n",
       "LotConfig_CulDSac        1.031e+04   3660.739      2.817      0.005    3123.873    1.75e+04\n",
       "LotConfig_FR2            -657.1570   4183.800     -0.157      0.875   -8873.398    7559.084\n",
       "LotConfig_FR3           -8557.7844   9112.539     -0.939      0.348   -2.65e+04    9337.625\n",
       "LotConfig_Inside         5332.3513   2739.536      1.946      0.052     -47.612    1.07e+04\n",
       "Neighborhood_Blmngtn     1.301e+04   7342.270      1.772      0.077   -1405.883    2.74e+04\n",
       "Neighborhood_Blueste    -3987.1472   1.95e+04     -0.204      0.838   -4.23e+04    3.43e+04\n",
       "Neighborhood_BrDale      1.291e+04   8643.301      1.494      0.136   -4062.842    2.99e+04\n",
       "Neighborhood_BrkSide    -1630.8760   6475.764     -0.252      0.801   -1.43e+04    1.11e+04\n",
       "Neighborhood_ClearCr    -1.133e+04   7861.716     -1.441      0.150   -2.68e+04    4113.714\n",
       "Neighborhood_CollgCr    -5219.1265   3266.575     -1.598      0.111   -1.16e+04    1195.847\n",
       "Neighborhood_Crawfor     2.627e+04   6609.171      3.975      0.000    1.33e+04    3.92e+04\n",
       "Neighborhood_Edwards    -1.336e+04   3680.315     -3.631      0.000   -2.06e+04   -6135.109\n",
       "Neighborhood_Gilbert    -5798.4551   4403.101     -1.317      0.188   -1.44e+04    2848.453\n",
       "Neighborhood_IDOTRR     -5797.9857   7695.283     -0.753      0.451   -2.09e+04    9314.185\n",
       "Neighborhood_MeadowV    -1.156e+04   9382.908     -1.232      0.218      -3e+04    6866.205\n",
       "Neighborhood_Mitchel    -1.066e+04   4813.483     -2.214      0.027   -2.01e+04   -1204.718\n",
       "Neighborhood_NAmes      -6699.8945   3355.145     -1.997      0.046   -1.33e+04    -110.986\n",
       "Neighborhood_NPkVill     2.025e+04   1.44e+04      1.405      0.160   -8048.270    4.86e+04\n",
       "Neighborhood_NWAmes     -9890.7964   4281.629     -2.310      0.021   -1.83e+04   -1482.438\n",
       "Neighborhood_NoRidge     6732.0909   6162.427      1.092      0.275   -5369.822    1.88e+04\n",
       "Neighborhood_NridgHt     1.365e+04   4874.324      2.801      0.005    4080.406    2.32e+04\n",
       "Neighborhood_OldTown    -9852.7258   6341.064     -1.554      0.121   -2.23e+04    2599.998\n",
       "Neighborhood_SWISU      -1.276e+04   8238.537     -1.549      0.122   -2.89e+04    3420.751\n",
       "Neighborhood_Sawyer     -5095.8926   3959.619     -1.287      0.199   -1.29e+04    2680.097\n",
       "Neighborhood_SawyerW       -8.8973   4511.766     -0.002      0.998   -8869.206    8851.411\n",
       "Neighborhood_Somerst    -6422.9675   6530.078     -0.984      0.326   -1.92e+04    6400.947\n",
       "Neighborhood_StoneBr     4.472e+04   6436.249      6.949      0.000    3.21e+04    5.74e+04\n",
       "Neighborhood_Timber     -8672.2353   5346.982     -1.622      0.105   -1.92e+04    1828.288\n",
       "Neighborhood_Veenker     4510.2553   9657.133      0.467      0.641   -1.45e+04    2.35e+04\n",
       "Condition1_Artery       -3157.2630   6177.245     -0.511      0.609   -1.53e+04    8973.751\n",
       "Condition1_Feedr         2747.3632   4800.957      0.572      0.567   -6680.865    1.22e+04\n",
       "Condition1_Norm          9393.5095   3755.077      2.502      0.013    2019.205    1.68e+04\n",
       "Condition1_PosA         -8188.7011   1.12e+04     -0.728      0.467   -3.03e+04    1.39e+04\n",
       "Condition1_PosN          1.872e+04   9321.359      2.008      0.045     409.959     3.7e+04\n",
       "Condition1_RRAe         -1.938e+04   7641.144     -2.536      0.011   -3.44e+04   -4374.979\n",
       "Condition1_RRAn          3353.5207   6594.816      0.509      0.611   -9597.528    1.63e+04\n",
       "Condition1_RRNe          7.448e-11   2.36e-10      0.316      0.752   -3.88e-10    5.37e-10\n",
       "Condition1_RRNn          9842.4860   1.79e+04      0.549      0.583   -2.53e+04     4.5e+04\n",
       "Condition2_Feedr         1.129e+04   1.72e+04      0.656      0.512   -2.25e+04    4.51e+04\n",
       "Condition2_Norm          2034.2369   1.59e+04      0.128      0.898   -2.92e+04    3.33e+04\n",
       "Condition2_RRNn         -3.708e-11   1.13e-10     -0.328      0.743   -2.59e-10    1.85e-10\n",
       "BldgType_1Fam            2.318e+04   6474.453      3.580      0.000    1.05e+04    3.59e+04\n",
       "BldgType_2fmCon          -1.82e+04   2.35e+04     -0.775      0.439   -6.43e+04    2.79e+04\n",
       "BldgType_Duplex          5618.5177   1.05e+04      0.536      0.592    -1.5e+04    2.62e+04\n",
       "BldgType_Twnhs           -407.0778   7620.940     -0.053      0.957   -1.54e+04    1.46e+04\n",
       "BldgType_TwnhsE          3138.1674   6735.720      0.466      0.641   -1.01e+04    1.64e+04\n",
       "HouseStyle_1.5Fin         533.9378   3926.815      0.136      0.892   -7177.629    8245.505\n",
       "HouseStyle_1.5Unf         1.78e+04   9389.569      1.895      0.059    -643.557    3.62e+04\n",
       "HouseStyle_1Story        1.032e+04   3730.655      2.767      0.006    2996.999    1.76e+04\n",
       "HouseStyle_2.5Unf       -1.777e+04    1.3e+04     -1.364      0.173   -4.34e+04    7813.419\n",
       "HouseStyle_2Story       -3270.9491   4419.260     -0.740      0.459   -1.19e+04    5407.692\n",
       "HouseStyle_SFoyer        3999.6181   5572.050      0.718      0.473   -6942.898    1.49e+04\n",
       "HouseStyle_SLvl          1717.1830   4605.704      0.373      0.709   -7327.602    1.08e+04\n",
       "RoofStyle_Flat          -3109.8707   8543.276     -0.364      0.716   -1.99e+04    1.37e+04\n",
       "RoofStyle_Gable           985.1958   6746.479      0.146      0.884   -1.23e+04    1.42e+04\n",
       "RoofStyle_Gambrel        5733.9531   1.06e+04      0.542      0.588    -1.5e+04    2.65e+04\n",
       "RoofStyle_Hip            3129.1640   7000.077      0.447      0.655   -1.06e+04    1.69e+04\n",
       "RoofStyle_Mansard        6587.0984   1.67e+04      0.396      0.693   -2.61e+04    3.93e+04\n",
       "RoofMatl_CompShg         1.705e+04    1.2e+04      1.420      0.156   -6536.289    4.06e+04\n",
       "RoofMatl_Tar&Grv        -3109.8707   8543.276     -0.364      0.716   -1.99e+04    1.37e+04\n",
       "RoofMatl_WdShake        -5347.4232   2.34e+04     -0.228      0.820   -5.14e+04    4.07e+04\n",
       "RoofMatl_WdShngl         4730.3218   1.85e+04      0.255      0.799   -3.17e+04    4.11e+04\n",
       "Exterior1st_AsbShng      2.743e+04   2.27e+04      1.207      0.228   -1.72e+04    7.21e+04\n",
       "Exterior1st_BrkComm      2.184e+04   2.51e+04      0.870      0.385   -2.75e+04    7.11e+04\n",
       "Exterior1st_BrkFace      1.608e+04   7468.631      2.153      0.032    1412.222    3.07e+04\n",
       "Exterior1st_CBlock      -7014.5326    1.3e+04     -0.540      0.589   -3.25e+04    1.85e+04\n",
       "Exterior1st_CemntBd     -1.934e+04   2.05e+04     -0.943      0.346   -5.96e+04     2.1e+04\n",
       "Exterior1st_HdBoard     -8521.9769   6131.057     -1.390      0.165   -2.06e+04    3518.331\n",
       "Exterior1st_ImStucc      1.832e+04   2.26e+04      0.811      0.418    -2.6e+04    6.27e+04\n",
       "Exterior1st_MetalSd      -812.9814   1.02e+04     -0.080      0.937   -2.09e+04    1.93e+04\n",
       "Exterior1st_Plywood     -7092.3521   6376.576     -1.112      0.266   -1.96e+04    5430.112\n",
       "Exterior1st_Stucco      -7367.6945   1.19e+04     -0.619      0.536   -3.07e+04     1.6e+04\n",
       "Exterior1st_VinylSd     -9051.2886   8370.531     -1.081      0.280   -2.55e+04    7386.949\n",
       "Exterior1st_Wd Sdng     -1.135e+04   6025.353     -1.883      0.060   -2.32e+04     486.906\n",
       "Exterior1st_WdShing       193.6051   8122.547      0.024      0.981   -1.58e+04    1.61e+04\n",
       "Exterior2nd_AsbShng     -1.967e+04   2.06e+04     -0.953      0.341   -6.02e+04    2.09e+04\n",
       "Exterior2nd_Brk Cmn      3057.2500    1.8e+04      0.170      0.865   -3.23e+04    3.84e+04\n",
       "Exterior2nd_BrkFace     -6543.6566   9316.969     -0.702      0.483   -2.48e+04    1.18e+04\n",
       "Exterior2nd_CBlock      -7014.5326    1.3e+04     -0.540      0.589   -3.25e+04    1.85e+04\n",
       "Exterior2nd_CmentBd      2.561e+04   2.12e+04      1.208      0.228    -1.6e+04    6.72e+04\n",
       "Exterior2nd_HdBoard      2540.0998   6234.430      0.407      0.684   -9703.215    1.48e+04\n",
       "Exterior2nd_ImStucc     -4079.7713   1.21e+04     -0.338      0.736   -2.78e+04    1.96e+04\n",
       "Exterior2nd_MetalSd      6399.5011   1.06e+04      0.606      0.545   -1.43e+04    2.71e+04\n",
       "Exterior2nd_Other       -2.088e+04   2.07e+04     -1.010      0.313   -6.15e+04    1.97e+04\n",
       "Exterior2nd_Plywood      -444.8060   5877.955     -0.076      0.940    -1.2e+04    1.11e+04\n",
       "Exterior2nd_Stone       -1.587e+04   2.09e+04     -0.759      0.448   -5.69e+04    2.52e+04\n",
       "Exterior2nd_Stucco       3.409e+04   1.17e+04      2.921      0.004    1.12e+04     5.7e+04\n",
       "Exterior2nd_VinylSd      7634.1682   7945.595      0.961      0.337   -7969.571    2.32e+04\n",
       "Exterior2nd_Wd Sdng      9585.4223   5881.970      1.630      0.104   -1965.722    2.11e+04\n",
       "Exterior2nd_Wd Shng     -1078.4074   7163.692     -0.151      0.880   -1.51e+04     1.3e+04\n",
       "MasVnrType_BrkCmn       -1599.9672   6873.784     -0.233      0.816   -1.51e+04    1.19e+04\n",
       "MasVnrType_BrkFace       2896.4574   2638.929      1.098      0.273   -2285.931    8078.846\n",
       "MasVnrType_None           977.4928   2939.770      0.333      0.740   -4795.694    6750.680\n",
       "MasVnrType_Stone         1.105e+04   3139.499      3.520      0.000    4886.139    1.72e+04\n",
       "ExterQual_Ex             6303.0862   6386.713      0.987      0.324   -6239.284    1.88e+04\n",
       "ExterQual_Fa             1.588e+04   1.24e+04      1.284      0.200   -8416.498    4.02e+04\n",
       "ExterQual_Gd            -3579.3249   4650.266     -0.770      0.442   -1.27e+04    5552.971\n",
       "ExterQual_TA            -5281.8471   4765.960     -1.108      0.268   -1.46e+04    4077.653\n",
       "ExterCond_Fa            -9783.8124   6120.102     -1.599      0.110   -2.18e+04    2234.982\n",
       "ExterCond_Gd             9054.0107   3490.659      2.594      0.010    2198.976    1.59e+04\n",
       "ExterCond_TA             1.406e+04   3101.689      4.532      0.000    7964.175    2.01e+04\n",
       "Foundation_BrkTil       -4461.4204   4776.184     -0.934      0.351   -1.38e+04    4918.158\n",
       "Foundation_CBlock        -696.8587   4026.804     -0.173      0.863   -8604.787    7211.069\n",
       "Foundation_PConc          -59.4027   4408.590     -0.013      0.989   -8717.091    8598.286\n",
       "Foundation_Slab           390.0649   9530.595      0.041      0.967   -1.83e+04    1.91e+04\n",
       "Foundation_Stone         1.815e+04   1.29e+04      1.410      0.159   -7134.962    4.34e+04\n",
       "Foundation_Wood          1.024e-11   2.74e-11      0.374      0.708   -4.35e-11     6.4e-11\n",
       "BsmtQual_Ex              1.583e+04   3862.241      4.099      0.000    8247.455    2.34e+04\n",
       "BsmtQual_Fa              4986.2571   5706.792      0.874      0.383   -6220.869    1.62e+04\n",
       "BsmtQual_Gd             -5700.6222   2651.078     -2.150      0.032   -1.09e+04    -494.376\n",
       "BsmtQual_TA             -4145.8236   2755.382     -1.505      0.133   -9556.904    1265.257\n",
       "BsmtQual_noBasement      2353.5174   2044.784      1.151      0.250   -1662.076    6369.111\n",
       "BsmtCond_Fa             -1547.2992   3466.331     -0.446      0.655   -8354.557    5259.959\n",
       "BsmtCond_Gd              5527.5401   3066.606      1.802      0.072    -494.729    1.15e+04\n",
       "BsmtCond_TA              6991.7822   2157.382      3.241      0.001    2755.066    1.12e+04\n",
       "BsmtCond_noBasement      2353.5174   2044.784      1.151      0.250   -1662.076    6369.111\n",
       "BsmtExposure_Av           854.9878   1916.049      0.446      0.656   -2907.792    4617.768\n",
       "BsmtExposure_Gd          1.641e+04   2681.451      6.122      0.000    1.11e+04    2.17e+04\n",
       "BsmtExposure_Mn         -3393.2818   2492.803     -1.361      0.174   -8288.704    1502.141\n",
       "BsmtExposure_No         -2904.3277   1662.240     -1.747      0.081   -6168.673     360.017\n",
       "BsmtExposure_noBasement  2353.5174   2044.784      1.151      0.250   -1662.076    6369.111\n",
       "BsmtFinType1_ALQ         3046.6588   2168.611      1.405      0.161   -1212.109    7305.427\n",
       "BsmtFinType1_BLQ          -65.2475   2421.781     -0.027      0.979   -4821.195    4690.700\n",
       "BsmtFinType1_GLQ         9564.1344   2243.199      4.264      0.000    5158.889     1.4e+04\n",
       "BsmtFinType1_LwQ        -2689.9877   3855.870     -0.698      0.486   -1.03e+04    4882.256\n",
       "BsmtFinType1_Rec         -546.2892   2579.077     -0.212      0.832   -5611.139    4518.561\n",
       "BsmtFinType1_Unf         1662.7544   2345.231      0.709      0.479   -2942.863    6268.371\n",
       "BsmtFinType1_noBasement  2353.5174   2044.784      1.151      0.250   -1662.076    6369.111\n",
       "BsmtFinType2_ALQ         6184.7192   1.18e+04      0.522      0.602   -1.71e+04    2.94e+04\n",
       "BsmtFinType2_BLQ        -5844.7143   5791.580     -1.009      0.313   -1.72e+04    5528.921\n",
       "BsmtFinType2_GLQ         1.797e+04   1.14e+04      1.570      0.117   -4504.037    4.05e+04\n",
       "BsmtFinType2_LwQ        -3876.3278   5301.441     -0.731      0.465   -1.43e+04    6534.762\n",
       "BsmtFinType2_Rec        -3321.1712   5309.788     -0.625      0.532   -1.37e+04    7106.311\n",
       "BsmtFinType2_Unf         -144.3715   5653.815     -0.026      0.980   -1.12e+04     1.1e+04\n",
       "BsmtFinType2_noBasement  2353.5174   2044.784      1.151      0.250   -1662.076    6369.111\n",
       "Heating_Floor           -1.597e-11   7.11e-12     -2.247      0.025   -2.99e-11   -2.01e-12\n",
       "Heating_GasA            -4721.5264   8779.689     -0.538      0.591    -2.2e+04    1.25e+04\n",
       "Heating_GasW             1373.6506    1.1e+04      0.125      0.901   -2.03e+04     2.3e+04\n",
       "Heating_Grav            -3247.9598   1.42e+04     -0.229      0.819   -3.11e+04    2.46e+04\n",
       "Heating_Wall             1.992e+04   1.86e+04      1.072      0.284   -1.66e+04    5.64e+04\n",
       "HeatingQC_Ex             5822.4359   2185.979      2.664      0.008    1529.561    1.01e+04\n",
       "HeatingQC_Fa             1033.9240   4540.369      0.228      0.820   -7882.555    9950.403\n",
       "HeatingQC_Gd             2419.0448   2247.963      1.076      0.282   -1995.556    6833.646\n",
       "HeatingQC_TA             4050.1359   2027.738      1.997      0.046      68.019    8032.253\n",
       "CentralAir_N             7484.9129   2911.741      2.571      0.010    1766.771    1.32e+04\n",
       "CentralAir_Y             5840.6277   3052.670      1.913      0.056    -154.274    1.18e+04\n",
       "Electrical_FuseA         3809.9121   3272.165      1.164      0.245   -2616.039    1.02e+04\n",
       "Electrical_FuseF         4694.3183   4897.294      0.959      0.338   -4923.097    1.43e+04\n",
       "Electrical_FuseP        -8.303e-12    6.1e-12     -1.361      0.174   -2.03e-11    3.67e-12\n",
       "Electrical_SBrkr         4821.3101   3036.003      1.588      0.113   -1140.860    1.08e+04\n",
       "KitchenQual_Ex           1.556e+04   3658.840      4.251      0.000    8369.952    2.27e+04\n",
       "KitchenQual_Fa           1411.9852   5024.981      0.281      0.779   -8456.185    1.13e+04\n",
       "KitchenQual_Gd          -3233.2238   2376.988     -1.360      0.174   -7901.207    1434.759\n",
       "KitchenQual_TA           -408.4849   2312.634     -0.177      0.860   -4950.087    4133.117\n",
       "Functional_Maj1          8645.1665   9533.667      0.907      0.365   -1.01e+04    2.74e+04\n",
       "Functional_Maj2         -2097.9765   1.78e+04     -0.118      0.906   -3.71e+04    3.29e+04\n",
       "Functional_Min1         -1107.7500   6229.040     -0.178      0.859   -1.33e+04    1.11e+04\n",
       "Functional_Min2          1.017e+04   6100.429      1.668      0.096   -1806.719    2.22e+04\n",
       "Functional_Mod          -1.916e+04   9460.476     -2.025      0.043   -3.77e+04    -581.096\n",
       "Functional_Typ           1.687e+04   4592.630      3.674      0.000    7853.341    2.59e+04\n",
       "FireplaceQu_Ex           5940.2637   6045.509      0.983      0.326   -5932.043    1.78e+04\n",
       "FireplaceQu_Fa          -8197.8330   4653.630     -1.762      0.079   -1.73e+04     941.071\n",
       "FireplaceQu_Gd           2565.9767   2492.026      1.030      0.304   -2327.920    7459.873\n",
       "FireplaceQu_Po           1.206e+04   5979.305      2.018      0.044     322.169    2.38e+04\n",
       "FireplaceQu_TA           2297.7707   2693.773      0.853      0.394   -2992.321    7587.862\n",
       "FireplaceQu_noFireplace -1345.0997   3803.861     -0.354      0.724   -8815.207    6125.008\n",
       "GarageType_Attchd       -5968.5709   4384.025     -1.361      0.174   -1.46e+04    2640.877\n",
       "GarageType_Basment      -4667.8096   6742.089     -0.692      0.489   -1.79e+04    8572.456\n",
       "GarageType_BuiltIn      -2681.8729   5317.296     -0.504      0.614   -1.31e+04    7760.353\n",
       "GarageType_CarPort       2.862e+04   1.67e+04      1.718      0.086   -4088.351    6.13e+04\n",
       "GarageType_Detchd       -3586.7209   4487.261     -0.799      0.424   -1.24e+04    5225.464\n",
       "GarageType_noGarage      1611.6819   1769.009      0.911      0.363   -1862.337    5085.701\n",
       "GarageFinish_Fin         2566.2981   1718.576      1.493      0.136    -808.680    5941.276\n",
       "GarageFinish_RFn         5360.0572   1560.773      3.434      0.001    2294.975    8425.139\n",
       "GarageFinish_Unf         3787.5034   1800.045      2.104      0.036     252.534    7322.473\n",
       "GarageFinish_noGarage    1611.6819   1769.009      0.911      0.363   -1862.337    5085.701\n",
       "GarageQual_Ex            3857.7955   6395.272      0.603      0.547   -8701.383    1.64e+04\n",
       "GarageQual_Fa           -5711.7959   5227.798     -1.093      0.275    -1.6e+04    4554.671\n",
       "GarageQual_Gd            1.087e+04   7405.503      1.467      0.143   -3676.547    2.54e+04\n",
       "GarageQual_Po                    0          0        nan        nan           0           0\n",
       "GarageQual_TA            2701.3121   3870.065      0.698      0.485   -4898.808    1.03e+04\n",
       "GarageQual_noGarage      1611.6819   1769.009      0.911      0.363   -1862.337    5085.701\n",
       "GarageCond_Ex            3857.7955   6395.272      0.603      0.547   -8701.383    1.64e+04\n",
       "GarageCond_Fa           -5931.6330   6931.791     -0.856      0.392   -1.95e+04    7681.175\n",
       "GarageCond_Gd            3917.5329   9387.020      0.417      0.677   -1.45e+04    2.24e+04\n",
       "GarageCond_Po            9405.3035    1.5e+04      0.627      0.531   -2.01e+04    3.89e+04\n",
       "GarageCond_TA             464.8597   5380.312      0.086      0.931   -1.01e+04     1.1e+04\n",
       "GarageCond_noGarage      1611.6819   1769.009      0.911      0.363   -1862.337    5085.701\n",
       "PavedDrive_N             7064.5998   3269.168      2.161      0.031     644.535    1.35e+04\n",
       "PavedDrive_P              918.7327   4147.904      0.221      0.825   -7227.016    9064.481\n",
       "PavedDrive_Y             5342.2081   2706.584      1.974      0.049      26.957    1.07e+04\n",
       "PoolQC_noPool            1.333e+04   2178.289      6.117      0.000    9047.767    1.76e+04\n",
       "Fence_GdPrv              2420.8675   4093.444      0.591      0.554   -5617.931    1.05e+04\n",
       "Fence_GdWo               3508.6482   3570.629      0.983      0.326   -3503.433    1.05e+04\n",
       "Fence_MnPrv              5796.2026   2777.244      2.087      0.037     342.189    1.13e+04\n",
       "Fence_MnWw              -3456.9510   6793.835     -0.509      0.611   -1.68e+04    9884.936\n",
       "Fence_noFence            5056.7732   2370.186      2.133      0.033     402.149    9711.398\n",
       "MiscFeature_None         3322.2982   2487.796      1.335      0.182   -1563.291    8207.887\n",
       "MiscFeature_Shed             1e+04   2682.370      3.729      0.000    4735.544    1.53e+04\n",
       "SaleType_COD            -3434.2138   6584.954     -0.522      0.602   -1.64e+04    9497.466\n",
       "SaleType_CWD              4.15e+04   1.35e+04      3.073      0.002     1.5e+04     6.8e+04\n",
       "SaleType_Con             1.237e+04   1.79e+04      0.692      0.489   -2.27e+04    4.75e+04\n",
       "SaleType_ConLD          -7131.8118   1.05e+04     -0.677      0.498   -2.78e+04    1.35e+04\n",
       "SaleType_ConLI          -4125.3258   1.14e+04     -0.361      0.718   -2.66e+04    1.83e+04\n",
       "SaleType_ConLw          -8076.5332   1.97e+04     -0.410      0.682   -4.67e+04    3.06e+04\n",
       "SaleType_New            -1.892e+04   1.41e+04     -1.346      0.179   -4.65e+04    8692.725\n",
       "SaleType_Oth             -383.6238   1.34e+04     -0.029      0.977   -2.66e+04    2.59e+04\n",
       "SaleType_WD              1530.5165   4953.654      0.309      0.757   -8197.580    1.13e+04\n",
       "SaleCondition_Abnorml    2100.9839   5571.741      0.377      0.706   -8840.926     1.3e+04\n",
       "SaleCondition_AdjLand     2.63e+04   1.53e+04      1.717      0.087   -3787.509    5.64e+04\n",
       "SaleCondition_Alloca    -5.745e+04   1.74e+04     -3.311      0.001   -9.15e+04   -2.34e+04\n",
       "SaleCondition_Family    -1838.3887   7511.557     -0.245      0.807   -1.66e+04    1.29e+04\n",
       "SaleCondition_Normal     6724.2171   5173.617      1.300      0.194   -3435.848    1.69e+04\n",
       "SaleCondition_Partial    3.749e+04   1.37e+04      2.735      0.006    1.06e+04    6.44e+04\n",
       "==============================================================================\n",
       "Omnibus:                      158.266   Durbin-Watson:                   2.124\n",
       "Prob(Omnibus):                  0.000   Jarque-Bera (JB):             3625.344\n",
       "Skew:                           0.090   Prob(JB):                         0.00\n",
       "Kurtosis:                      13.325   Cond. No.                     1.02e+16\n",
       "==============================================================================\n",
       "\n",
       "Notes:\n",
       "[1] Standard Errors assume that the covariance matrix of the errors is correctly specified.\n",
       "[2] The smallest eigenvalue is 2.1e-28. This might indicate that there are\n",
       "strong multicollinearity problems or that the design matrix is singular.\n",
       "\"\"\""
      ]
     },
     "execution_count": 37,
     "metadata": {},
     "output_type": "execute_result"
    }
   ],
   "source": [
    "from statsmodels.api import OLS, add_constant\n",
    "xconst=add_constant(xtrain,has_constant=\"add\")\n",
    "ols= OLS(ytrain,xconst)\n",
    "model=ols.fit()\n",
    "model.summary()"
   ]
  },
  {
   "cell_type": "code",
   "execution_count": 38,
   "id": "55b4db25",
   "metadata": {},
   "outputs": [
    {
     "data": {
      "text/plain": [
       "0.9257"
      ]
     },
     "execution_count": 38,
     "metadata": {},
     "output_type": "execute_result"
    }
   ],
   "source": [
    "round(model.rsquared_adj,4)"
   ]
  },
  {
   "cell_type": "code",
   "execution_count": 39,
   "id": "7a556181",
   "metadata": {},
   "outputs": [
    {
     "data": {
      "text/plain": [
       "Neighborhood_StoneBr    9.402618e-12\n",
       "BsmtExposure_Gd         1.650118e-09\n",
       "PoolQC_noPool           1.690809e-09\n",
       "const                   1.690809e-09\n",
       "OverallQual             3.708411e-07\n",
       "                            ...     \n",
       "BsmtFinType2_Unf        9.796363e-01\n",
       "Exterior1st_WdShing     9.809915e-01\n",
       "Foundation_PConc        9.892537e-01\n",
       "Neighborhood_SawyerW    9.984272e-01\n",
       "GarageQual_Po                    NaN\n",
       "Length: 256, dtype: float64"
      ]
     },
     "execution_count": 39,
     "metadata": {},
     "output_type": "execute_result"
    }
   ],
   "source": [
    "model.pvalues.sort_values()#highest pvalue will be the last one"
   ]
  },
  {
   "cell_type": "code",
   "execution_count": 40,
   "id": "71f21977",
   "metadata": {},
   "outputs": [
    {
     "data": {
      "text/plain": [
       "Index(['Neighborhood_StoneBr', 'BsmtExposure_Gd', 'PoolQC_noPool', 'const',\n",
       "       'OverallQual', 'ExterCond_TA', 'BsmtFinType1_GLQ', 'KitchenQual_Ex',\n",
       "       'WoodDeckSF', 'YearRemodAdd',\n",
       "       ...\n",
       "       'BsmtFinSF1', 'BldgType_Twnhs', 'Foundation_Slab', 'SaleType_Oth',\n",
       "       'BsmtFinType1_BLQ', 'BsmtFinType2_Unf', 'Exterior1st_WdShing',\n",
       "       'Foundation_PConc', 'Neighborhood_SawyerW', 'GarageQual_Po'],\n",
       "      dtype='object', length=256)"
      ]
     },
     "execution_count": 40,
     "metadata": {},
     "output_type": "execute_result"
    }
   ],
   "source": [
    "model.pvalues.sort_values().index"
   ]
  },
  {
   "cell_type": "markdown",
   "id": "97a19368",
   "metadata": {},
   "source": [
    "# MODEL-2"
   ]
  },
  {
   "cell_type": "code",
   "execution_count": 41,
   "id": "6e9b9096",
   "metadata": {},
   "outputs": [
    {
     "data": {
      "text/plain": [
       "'GarageQual_Po'"
      ]
     },
     "execution_count": 41,
     "metadata": {},
     "output_type": "execute_result"
    }
   ],
   "source": [
    "model.pvalues.sort_values().index[-1]"
   ]
  },
  {
   "cell_type": "code",
   "execution_count": 42,
   "id": "c98002d6",
   "metadata": {},
   "outputs": [
    {
     "data": {
      "text/plain": [
       "0.9257"
      ]
     },
     "execution_count": 42,
     "metadata": {},
     "output_type": "execute_result"
    }
   ],
   "source": [
    "columns_to_be_dropped =model.pvalues.sort_values().index[-1]\n",
    "Xnew= Xnew.drop(labels=columns_to_be_dropped,axis=1)\n",
    "\n",
    "from sklearn.model_selection import train_test_split\n",
    "xtrain,xtest,ytrain,ytest=train_test_split(Xnew,Y,test_size=0.2,random_state=31)\n",
    "\n",
    "from statsmodels.api import OLS, add_constant\n",
    "xconst=add_constant(xtrain,has_constant=\"add\")\n",
    "ols= OLS(ytrain,xconst)\n",
    "model=ols.fit()\n",
    "\n",
    "round(model.rsquared_adj,4)"
   ]
  },
  {
   "cell_type": "markdown",
   "id": "85628f8a",
   "metadata": {},
   "source": [
    "# MODEL-3"
   ]
  },
  {
   "cell_type": "code",
   "execution_count": 43,
   "id": "7c75224b",
   "metadata": {},
   "outputs": [
    {
     "data": {
      "text/plain": [
       "'Neighborhood_SawyerW'"
      ]
     },
     "execution_count": 43,
     "metadata": {},
     "output_type": "execute_result"
    }
   ],
   "source": [
    "model.pvalues.sort_values().index[-1]"
   ]
  },
  {
   "cell_type": "code",
   "execution_count": 44,
   "id": "d030629f",
   "metadata": {},
   "outputs": [
    {
     "data": {
      "text/plain": [
       "0.9257"
      ]
     },
     "execution_count": 44,
     "metadata": {},
     "output_type": "execute_result"
    }
   ],
   "source": [
    "columns_to_be_dropped =model.pvalues.sort_values().index[-1]\n",
    "Xnew= Xnew.drop(labels=columns_to_be_dropped,axis=1)\n",
    "\n",
    "from sklearn.model_selection import train_test_split\n",
    "xtrain,xtest,ytrain,ytest=train_test_split(Xnew,Y,test_size=0.2,random_state=31)\n",
    "\n",
    "from statsmodels.api import OLS, add_constant\n",
    "xconst=add_constant(xtrain,has_constant=\"add\")\n",
    "ols= OLS(ytrain,xconst)\n",
    "model=ols.fit()\n",
    "\n",
    "round(model.rsquared_adj,4)"
   ]
  },
  {
   "cell_type": "markdown",
   "id": "d711e10a",
   "metadata": {},
   "source": [
    "# MODEL-4"
   ]
  },
  {
   "cell_type": "code",
   "execution_count": 45,
   "id": "ccc4890a",
   "metadata": {},
   "outputs": [
    {
     "data": {
      "text/plain": [
       "'Foundation_PConc'"
      ]
     },
     "execution_count": 45,
     "metadata": {},
     "output_type": "execute_result"
    }
   ],
   "source": [
    "model.pvalues.sort_values().index[-1]"
   ]
  },
  {
   "cell_type": "code",
   "execution_count": 46,
   "id": "096e5891",
   "metadata": {},
   "outputs": [
    {
     "data": {
      "text/plain": [
       "0.9257"
      ]
     },
     "execution_count": 46,
     "metadata": {},
     "output_type": "execute_result"
    }
   ],
   "source": [
    "columns_to_be_dropped =model.pvalues.sort_values().index[-1]\n",
    "Xnew= Xnew.drop(labels=columns_to_be_dropped,axis=1)\n",
    "\n",
    "from sklearn.model_selection import train_test_split\n",
    "xtrain,xtest,ytrain,ytest=train_test_split(Xnew,Y,test_size=0.2,random_state=31)\n",
    "\n",
    "from statsmodels.api import OLS, add_constant\n",
    "xconst=add_constant(xtrain,has_constant=\"add\")\n",
    "ols= OLS(ytrain,xconst)\n",
    "model=ols.fit()\n",
    "\n",
    "round(model.rsquared_adj,4)"
   ]
  },
  {
   "cell_type": "markdown",
   "id": "248f9bed",
   "metadata": {},
   "source": [
    "# MODEL-5"
   ]
  },
  {
   "cell_type": "code",
   "execution_count": 47,
   "id": "a2f0b52e",
   "metadata": {},
   "outputs": [
    {
     "data": {
      "text/plain": [
       "'Exterior1st_WdShing'"
      ]
     },
     "execution_count": 47,
     "metadata": {},
     "output_type": "execute_result"
    }
   ],
   "source": [
    "model.pvalues.sort_values().index[-1]"
   ]
  },
  {
   "cell_type": "code",
   "execution_count": 48,
   "id": "20b9a409",
   "metadata": {},
   "outputs": [
    {
     "data": {
      "text/plain": [
       "0.9257"
      ]
     },
     "execution_count": 48,
     "metadata": {},
     "output_type": "execute_result"
    }
   ],
   "source": [
    "columns_to_be_dropped =model.pvalues.sort_values().index[-1]\n",
    "Xnew= Xnew.drop(labels=columns_to_be_dropped,axis=1)\n",
    "\n",
    "from sklearn.model_selection import train_test_split\n",
    "xtrain,xtest,ytrain,ytest=train_test_split(Xnew,Y,test_size=0.2,random_state=31)\n",
    "\n",
    "from statsmodels.api import OLS, add_constant\n",
    "xconst=add_constant(xtrain,has_constant=\"add\")\n",
    "ols= OLS(ytrain,xconst)\n",
    "model=ols.fit()\n",
    "\n",
    "round(model.rsquared_adj,4)"
   ]
  },
  {
   "cell_type": "markdown",
   "id": "7d02602b",
   "metadata": {},
   "source": [
    "# MODEL-6"
   ]
  },
  {
   "cell_type": "code",
   "execution_count": 49,
   "id": "25953984",
   "metadata": {},
   "outputs": [
    {
     "data": {
      "text/plain": [
       "'Condition2_RRNn'"
      ]
     },
     "execution_count": 49,
     "metadata": {},
     "output_type": "execute_result"
    }
   ],
   "source": [
    "model.pvalues.sort_values().index[-1]"
   ]
  },
  {
   "cell_type": "code",
   "execution_count": 50,
   "id": "69ad8138",
   "metadata": {},
   "outputs": [
    {
     "data": {
      "text/plain": [
       "0.9257"
      ]
     },
     "execution_count": 50,
     "metadata": {},
     "output_type": "execute_result"
    }
   ],
   "source": [
    "columns_to_be_dropped =model.pvalues.sort_values().index[-1]\n",
    "Xnew= Xnew.drop(labels=columns_to_be_dropped,axis=1)\n",
    "\n",
    "from sklearn.model_selection import train_test_split\n",
    "xtrain,xtest,ytrain,ytest=train_test_split(Xnew,Y,test_size=0.2,random_state=31)\n",
    "\n",
    "from statsmodels.api import OLS, add_constant\n",
    "xconst=add_constant(xtrain,has_constant=\"add\")\n",
    "ols= OLS(ytrain,xconst)\n",
    "model=ols.fit()\n",
    "\n",
    "round(model.rsquared_adj,4)"
   ]
  },
  {
   "cell_type": "markdown",
   "id": "48c39759",
   "metadata": {},
   "source": [
    "# MODEL-7"
   ]
  },
  {
   "cell_type": "code",
   "execution_count": 51,
   "id": "71bde1a9",
   "metadata": {},
   "outputs": [
    {
     "data": {
      "text/plain": [
       "'Foundation_Wood'"
      ]
     },
     "execution_count": 51,
     "metadata": {},
     "output_type": "execute_result"
    }
   ],
   "source": [
    "model.pvalues.sort_values().index[-1]"
   ]
  },
  {
   "cell_type": "code",
   "execution_count": 52,
   "id": "5cc78e56",
   "metadata": {},
   "outputs": [
    {
     "data": {
      "text/plain": [
       "0.9257"
      ]
     },
     "execution_count": 52,
     "metadata": {},
     "output_type": "execute_result"
    }
   ],
   "source": [
    "columns_to_be_dropped =model.pvalues.sort_values().index[-1]\n",
    "Xnew= Xnew.drop(labels=columns_to_be_dropped,axis=1)\n",
    "\n",
    "from sklearn.model_selection import train_test_split\n",
    "xtrain,xtest,ytrain,ytest=train_test_split(Xnew,Y,test_size=0.2,random_state=31)\n",
    "\n",
    "from statsmodels.api import OLS, add_constant\n",
    "xconst=add_constant(xtrain,has_constant=\"add\")\n",
    "ols= OLS(ytrain,xconst)\n",
    "model=ols.fit()\n",
    "\n",
    "round(model.rsquared_adj,4)"
   ]
  },
  {
   "cell_type": "markdown",
   "id": "793dd127",
   "metadata": {},
   "source": [
    "# MODEL-8"
   ]
  },
  {
   "cell_type": "code",
   "execution_count": 53,
   "id": "61e246e4",
   "metadata": {},
   "outputs": [
    {
     "data": {
      "text/plain": [
       "'BsmtFinType2_Unf'"
      ]
     },
     "execution_count": 53,
     "metadata": {},
     "output_type": "execute_result"
    }
   ],
   "source": [
    "model.pvalues.sort_values().index[-1]"
   ]
  },
  {
   "cell_type": "code",
   "execution_count": 54,
   "id": "a6679cba",
   "metadata": {},
   "outputs": [
    {
     "data": {
      "text/plain": [
       "0.9257"
      ]
     },
     "execution_count": 54,
     "metadata": {},
     "output_type": "execute_result"
    }
   ],
   "source": [
    "columns_to_be_dropped =model.pvalues.sort_values().index[-1]\n",
    "Xnew= Xnew.drop(labels=columns_to_be_dropped,axis=1)\n",
    "\n",
    "from sklearn.model_selection import train_test_split\n",
    "xtrain,xtest,ytrain,ytest=train_test_split(Xnew,Y,test_size=0.2,random_state=31)\n",
    "\n",
    "from statsmodels.api import OLS, add_constant\n",
    "xconst=add_constant(xtrain,has_constant=\"add\")\n",
    "ols= OLS(ytrain,xconst)\n",
    "model=ols.fit()\n",
    "\n",
    "round(model.rsquared_adj,4)"
   ]
  },
  {
   "cell_type": "markdown",
   "id": "02639e06",
   "metadata": {},
   "source": [
    "# MODEL-9"
   ]
  },
  {
   "cell_type": "code",
   "execution_count": 55,
   "id": "e76ecd24",
   "metadata": {},
   "outputs": [
    {
     "data": {
      "text/plain": [
       "'BsmtFinType1_BLQ'"
      ]
     },
     "execution_count": 55,
     "metadata": {},
     "output_type": "execute_result"
    }
   ],
   "source": [
    "model.pvalues.sort_values().index[-1]"
   ]
  },
  {
   "cell_type": "code",
   "execution_count": 56,
   "id": "6bd50d38",
   "metadata": {},
   "outputs": [
    {
     "data": {
      "text/plain": [
       "0.9257"
      ]
     },
     "execution_count": 56,
     "metadata": {},
     "output_type": "execute_result"
    }
   ],
   "source": [
    "columns_to_be_dropped =model.pvalues.sort_values().index[-1]\n",
    "Xnew= Xnew.drop(labels=columns_to_be_dropped,axis=1)\n",
    "\n",
    "from sklearn.model_selection import train_test_split\n",
    "xtrain,xtest,ytrain,ytest=train_test_split(Xnew,Y,test_size=0.2,random_state=31)\n",
    "\n",
    "from statsmodels.api import OLS, add_constant\n",
    "xconst=add_constant(xtrain,has_constant=\"add\")\n",
    "ols= OLS(ytrain,xconst)\n",
    "model=ols.fit()\n",
    "\n",
    "round(model.rsquared_adj,4)"
   ]
  },
  {
   "cell_type": "markdown",
   "id": "3ea8ac93",
   "metadata": {},
   "source": [
    "# MODEL-10"
   ]
  },
  {
   "cell_type": "code",
   "execution_count": 57,
   "id": "45894be2",
   "metadata": {},
   "outputs": [
    {
     "data": {
      "text/plain": [
       "'SaleType_Oth'"
      ]
     },
     "execution_count": 57,
     "metadata": {},
     "output_type": "execute_result"
    }
   ],
   "source": [
    "model.pvalues.sort_values().index[-1]"
   ]
  },
  {
   "cell_type": "code",
   "execution_count": 58,
   "id": "1481d36f",
   "metadata": {},
   "outputs": [
    {
     "data": {
      "text/plain": [
       "0.9257"
      ]
     },
     "execution_count": 58,
     "metadata": {},
     "output_type": "execute_result"
    }
   ],
   "source": [
    "columns_to_be_dropped =model.pvalues.sort_values().index[-1]\n",
    "Xnew= Xnew.drop(labels=columns_to_be_dropped,axis=1)\n",
    "\n",
    "from sklearn.model_selection import train_test_split\n",
    "xtrain,xtest,ytrain,ytest=train_test_split(Xnew,Y,test_size=0.2,random_state=31)\n",
    "\n",
    "from statsmodels.api import OLS, add_constant\n",
    "xconst=add_constant(xtrain,has_constant=\"add\")\n",
    "ols= OLS(ytrain,xconst)\n",
    "model=ols.fit()\n",
    "\n",
    "round(model.rsquared_adj,4)"
   ]
  },
  {
   "cell_type": "markdown",
   "id": "875b32fb",
   "metadata": {},
   "source": [
    "# MODEL-11"
   ]
  },
  {
   "cell_type": "code",
   "execution_count": 59,
   "id": "e8880318",
   "metadata": {},
   "outputs": [
    {
     "data": {
      "text/plain": [
       "'Foundation_Slab'"
      ]
     },
     "execution_count": 59,
     "metadata": {},
     "output_type": "execute_result"
    }
   ],
   "source": [
    "model.pvalues.sort_values().index[-1]"
   ]
  },
  {
   "cell_type": "code",
   "execution_count": 60,
   "id": "c10c56f5",
   "metadata": {},
   "outputs": [
    {
     "data": {
      "text/plain": [
       "0.9258"
      ]
     },
     "execution_count": 60,
     "metadata": {},
     "output_type": "execute_result"
    }
   ],
   "source": [
    "columns_to_be_dropped =model.pvalues.sort_values().index[-1]\n",
    "Xnew= Xnew.drop(labels=columns_to_be_dropped,axis=1)\n",
    "\n",
    "from sklearn.model_selection import train_test_split\n",
    "xtrain,xtest,ytrain,ytest=train_test_split(Xnew,Y,test_size=0.2,random_state=31)\n",
    "\n",
    "from statsmodels.api import OLS, add_constant\n",
    "xconst=add_constant(xtrain,has_constant=\"add\")\n",
    "ols= OLS(ytrain,xconst)\n",
    "model=ols.fit()\n",
    "\n",
    "round(model.rsquared_adj,4)"
   ]
  },
  {
   "cell_type": "markdown",
   "id": "e4d7a9d3",
   "metadata": {},
   "source": [
    "# MODEL-12"
   ]
  },
  {
   "cell_type": "code",
   "execution_count": 61,
   "id": "f55670fa",
   "metadata": {},
   "outputs": [
    {
     "data": {
      "text/plain": [
       "'BsmtFinSF1'"
      ]
     },
     "execution_count": 61,
     "metadata": {},
     "output_type": "execute_result"
    }
   ],
   "source": [
    "model.pvalues.sort_values().index[-1]"
   ]
  },
  {
   "cell_type": "code",
   "execution_count": 62,
   "id": "059d4216",
   "metadata": {},
   "outputs": [
    {
     "data": {
      "text/plain": [
       "0.9259"
      ]
     },
     "execution_count": 62,
     "metadata": {},
     "output_type": "execute_result"
    }
   ],
   "source": [
    "columns_to_be_dropped =model.pvalues.sort_values().index[-1]\n",
    "Xnew= Xnew.drop(labels=columns_to_be_dropped,axis=1)\n",
    "\n",
    "from sklearn.model_selection import train_test_split\n",
    "xtrain,xtest,ytrain,ytest=train_test_split(Xnew,Y,test_size=0.2,random_state=31)\n",
    "\n",
    "from statsmodels.api import OLS, add_constant\n",
    "xconst=add_constant(xtrain,has_constant=\"add\")\n",
    "ols= OLS(ytrain,xconst)\n",
    "model=ols.fit()\n",
    "\n",
    "round(model.rsquared_adj,4)"
   ]
  },
  {
   "cell_type": "markdown",
   "id": "367ff10e",
   "metadata": {},
   "source": [
    "# MODEL-13"
   ]
  },
  {
   "cell_type": "code",
   "execution_count": 63,
   "id": "1d2385f2",
   "metadata": {},
   "outputs": [
    {
     "data": {
      "text/plain": [
       "'BldgType_Twnhs'"
      ]
     },
     "execution_count": 63,
     "metadata": {},
     "output_type": "execute_result"
    }
   ],
   "source": [
    "model.pvalues.sort_values().index[-1]"
   ]
  },
  {
   "cell_type": "code",
   "execution_count": 64,
   "id": "e1e4f1e7",
   "metadata": {},
   "outputs": [
    {
     "data": {
      "text/plain": [
       "0.9259"
      ]
     },
     "execution_count": 64,
     "metadata": {},
     "output_type": "execute_result"
    }
   ],
   "source": [
    "columns_to_be_dropped =model.pvalues.sort_values().index[-1]\n",
    "Xnew= Xnew.drop(labels=columns_to_be_dropped,axis=1)\n",
    "\n",
    "from sklearn.model_selection import train_test_split\n",
    "xtrain,xtest,ytrain,ytest=train_test_split(Xnew,Y,test_size=0.2,random_state=31)\n",
    "\n",
    "from statsmodels.api import OLS, add_constant\n",
    "xconst=add_constant(xtrain,has_constant=\"add\")\n",
    "ols= OLS(ytrain,xconst)\n",
    "model=ols.fit()\n",
    "\n",
    "round(model.rsquared_adj,4)"
   ]
  },
  {
   "cell_type": "markdown",
   "id": "c7307ce3",
   "metadata": {},
   "source": [
    "# MODEL-14"
   ]
  },
  {
   "cell_type": "code",
   "execution_count": 65,
   "id": "a78c69c7",
   "metadata": {},
   "outputs": [
    {
     "data": {
      "text/plain": [
       "'Condition1_RRNe'"
      ]
     },
     "execution_count": 65,
     "metadata": {},
     "output_type": "execute_result"
    }
   ],
   "source": [
    "model.pvalues.sort_values().index[-1]"
   ]
  },
  {
   "cell_type": "code",
   "execution_count": 66,
   "id": "304c4964",
   "metadata": {},
   "outputs": [
    {
     "data": {
      "text/plain": [
       "0.9259"
      ]
     },
     "execution_count": 66,
     "metadata": {},
     "output_type": "execute_result"
    }
   ],
   "source": [
    "columns_to_be_dropped =model.pvalues.sort_values().index[-1]\n",
    "Xnew= Xnew.drop(labels=columns_to_be_dropped,axis=1)\n",
    "\n",
    "from sklearn.model_selection import train_test_split\n",
    "xtrain,xtest,ytrain,ytest=train_test_split(Xnew,Y,test_size=0.2,random_state=31)\n",
    "\n",
    "from statsmodels.api import OLS, add_constant\n",
    "xconst=add_constant(xtrain,has_constant=\"add\")\n",
    "ols= OLS(ytrain,xconst)\n",
    "model=ols.fit()\n",
    "\n",
    "round(model.rsquared_adj,4)"
   ]
  },
  {
   "cell_type": "markdown",
   "id": "7cdda93c",
   "metadata": {},
   "source": [
    "# MODEL-15"
   ]
  },
  {
   "cell_type": "code",
   "execution_count": 67,
   "id": "20565372",
   "metadata": {},
   "outputs": [
    {
     "data": {
      "text/plain": [
       "'Exterior2nd_Plywood'"
      ]
     },
     "execution_count": 67,
     "metadata": {},
     "output_type": "execute_result"
    }
   ],
   "source": [
    "model.pvalues.sort_values().index[-1]"
   ]
  },
  {
   "cell_type": "code",
   "execution_count": 68,
   "id": "c99f4636",
   "metadata": {},
   "outputs": [
    {
     "data": {
      "text/plain": [
       "0.9259"
      ]
     },
     "execution_count": 68,
     "metadata": {},
     "output_type": "execute_result"
    }
   ],
   "source": [
    "columns_to_be_dropped =model.pvalues.sort_values().index[-1]\n",
    "Xnew= Xnew.drop(labels=columns_to_be_dropped,axis=1)\n",
    "\n",
    "from sklearn.model_selection import train_test_split\n",
    "xtrain,xtest,ytrain,ytest=train_test_split(Xnew,Y,test_size=0.2,random_state=31)\n",
    "\n",
    "from statsmodels.api import OLS, add_constant\n",
    "xconst=add_constant(xtrain,has_constant=\"add\")\n",
    "ols= OLS(ytrain,xconst)\n",
    "model=ols.fit()\n",
    "\n",
    "round(model.rsquared_adj,4)"
   ]
  },
  {
   "cell_type": "markdown",
   "id": "aa10ce7b",
   "metadata": {},
   "source": [
    "# MODEL-16"
   ]
  },
  {
   "cell_type": "code",
   "execution_count": 69,
   "id": "f2d3da90",
   "metadata": {},
   "outputs": [
    {
     "data": {
      "text/plain": [
       "'Exterior2nd_Wd Shng'"
      ]
     },
     "execution_count": 69,
     "metadata": {},
     "output_type": "execute_result"
    }
   ],
   "source": [
    "model.pvalues.sort_values().index[-1]"
   ]
  },
  {
   "cell_type": "code",
   "execution_count": 70,
   "id": "43e4c3ca",
   "metadata": {},
   "outputs": [
    {
     "data": {
      "text/plain": [
       "0.9261"
      ]
     },
     "execution_count": 70,
     "metadata": {},
     "output_type": "execute_result"
    }
   ],
   "source": [
    "columns_to_be_dropped =model.pvalues.sort_values().index[-1]\n",
    "Xnew= Xnew.drop(labels=columns_to_be_dropped,axis=1)\n",
    "\n",
    "from sklearn.model_selection import train_test_split\n",
    "xtrain,xtest,ytrain,ytest=train_test_split(Xnew,Y,test_size=0.2,random_state=31)\n",
    "\n",
    "from statsmodels.api import OLS, add_constant\n",
    "xconst=add_constant(xtrain,has_constant=\"add\")\n",
    "ols= OLS(ytrain,xconst)\n",
    "model=ols.fit()\n",
    "\n",
    "round(model.rsquared_adj,4)"
   ]
  },
  {
   "cell_type": "markdown",
   "id": "dc888d7e",
   "metadata": {},
   "source": [
    "# MODEL-17"
   ]
  },
  {
   "cell_type": "code",
   "execution_count": 71,
   "id": "e9741318",
   "metadata": {},
   "outputs": [
    {
     "data": {
      "text/plain": [
       "'Exterior1st_MetalSd'"
      ]
     },
     "execution_count": 71,
     "metadata": {},
     "output_type": "execute_result"
    }
   ],
   "source": [
    "model.pvalues.sort_values().index[-1]"
   ]
  },
  {
   "cell_type": "code",
   "execution_count": 72,
   "id": "db95dffb",
   "metadata": {},
   "outputs": [
    {
     "data": {
      "text/plain": [
       "0.9262"
      ]
     },
     "execution_count": 72,
     "metadata": {},
     "output_type": "execute_result"
    }
   ],
   "source": [
    "columns_to_be_dropped =model.pvalues.sort_values().index[-1]\n",
    "Xnew= Xnew.drop(labels=columns_to_be_dropped,axis=1)\n",
    "\n",
    "from sklearn.model_selection import train_test_split\n",
    "xtrain,xtest,ytrain,ytest=train_test_split(Xnew,Y,test_size=0.2,random_state=31)\n",
    "\n",
    "from statsmodels.api import OLS, add_constant\n",
    "xconst=add_constant(xtrain,has_constant=\"add\")\n",
    "ols= OLS(ytrain,xconst)\n",
    "model=ols.fit()\n",
    "\n",
    "round(model.rsquared_adj,4)"
   ]
  },
  {
   "cell_type": "markdown",
   "id": "b1685129",
   "metadata": {},
   "source": [
    "# MODEL-18"
   ]
  },
  {
   "cell_type": "code",
   "execution_count": 73,
   "id": "16bb0e4d",
   "metadata": {},
   "outputs": [
    {
     "data": {
      "text/plain": [
       "'GarageCond_TA'"
      ]
     },
     "execution_count": 73,
     "metadata": {},
     "output_type": "execute_result"
    }
   ],
   "source": [
    "model.pvalues.sort_values().index[-1]"
   ]
  },
  {
   "cell_type": "code",
   "execution_count": 74,
   "id": "d13432a3",
   "metadata": {},
   "outputs": [
    {
     "data": {
      "text/plain": [
       "0.9262"
      ]
     },
     "execution_count": 74,
     "metadata": {},
     "output_type": "execute_result"
    }
   ],
   "source": [
    "columns_to_be_dropped =model.pvalues.sort_values().index[-1]\n",
    "Xnew= Xnew.drop(labels=columns_to_be_dropped,axis=1)\n",
    "\n",
    "from sklearn.model_selection import train_test_split\n",
    "xtrain,xtest,ytrain,ytest=train_test_split(Xnew,Y,test_size=0.2,random_state=31)\n",
    "\n",
    "from statsmodels.api import OLS, add_constant\n",
    "xconst=add_constant(xtrain,has_constant=\"add\")\n",
    "ols= OLS(ytrain,xconst)\n",
    "model=ols.fit()\n",
    "\n",
    "round(model.rsquared_adj,4)"
   ]
  },
  {
   "cell_type": "markdown",
   "id": "6bc52d26",
   "metadata": {},
   "source": [
    "# MODEL-19"
   ]
  },
  {
   "cell_type": "code",
   "execution_count": 75,
   "id": "6da23df1",
   "metadata": {},
   "outputs": [
    {
     "data": {
      "text/plain": [
       "'Condition2_Norm'"
      ]
     },
     "execution_count": 75,
     "metadata": {},
     "output_type": "execute_result"
    }
   ],
   "source": [
    "model.pvalues.sort_values().index[-1]"
   ]
  },
  {
   "cell_type": "code",
   "execution_count": 76,
   "id": "2bdaee7a",
   "metadata": {},
   "outputs": [
    {
     "data": {
      "text/plain": [
       "0.9262"
      ]
     },
     "execution_count": 76,
     "metadata": {},
     "output_type": "execute_result"
    }
   ],
   "source": [
    "columns_to_be_dropped =model.pvalues.sort_values().index[-1]\n",
    "Xnew= Xnew.drop(labels=columns_to_be_dropped,axis=1)\n",
    "\n",
    "from sklearn.model_selection import train_test_split\n",
    "xtrain,xtest,ytrain,ytest=train_test_split(Xnew,Y,test_size=0.2,random_state=31)\n",
    "\n",
    "from statsmodels.api import OLS, add_constant\n",
    "xconst=add_constant(xtrain,has_constant=\"add\")\n",
    "ols= OLS(ytrain,xconst)\n",
    "model=ols.fit()\n",
    "\n",
    "round(model.rsquared_adj,4)"
   ]
  },
  {
   "cell_type": "markdown",
   "id": "db3c0472",
   "metadata": {},
   "source": [
    "# MODEL-20"
   ]
  },
  {
   "cell_type": "code",
   "execution_count": 77,
   "id": "6d821191",
   "metadata": {},
   "outputs": [
    {
     "data": {
      "text/plain": [
       "'Functional_Maj2'"
      ]
     },
     "execution_count": 77,
     "metadata": {},
     "output_type": "execute_result"
    }
   ],
   "source": [
    "model.pvalues.sort_values().index[-1]"
   ]
  },
  {
   "cell_type": "code",
   "execution_count": 78,
   "id": "425015cc",
   "metadata": {},
   "outputs": [
    {
     "data": {
      "text/plain": [
       "0.9262"
      ]
     },
     "execution_count": 78,
     "metadata": {},
     "output_type": "execute_result"
    }
   ],
   "source": [
    "columns_to_be_dropped =model.pvalues.sort_values().index[-1]\n",
    "Xnew= Xnew.drop(labels=columns_to_be_dropped,axis=1)\n",
    "\n",
    "from sklearn.model_selection import train_test_split\n",
    "xtrain,xtest,ytrain,ytest=train_test_split(Xnew,Y,test_size=0.2,random_state=31)\n",
    "\n",
    "from statsmodels.api import OLS, add_constant\n",
    "xconst=add_constant(xtrain,has_constant=\"add\")\n",
    "ols= OLS(ytrain,xconst)\n",
    "model=ols.fit()\n",
    "\n",
    "round(model.rsquared_adj,4)"
   ]
  },
  {
   "cell_type": "markdown",
   "id": "4c47d7ec",
   "metadata": {},
   "source": [
    "# MODEL-21"
   ]
  },
  {
   "cell_type": "code",
   "execution_count": 79,
   "id": "b6e73df2",
   "metadata": {},
   "outputs": [
    {
     "data": {
      "text/plain": [
       "'Functional_Min1'"
      ]
     },
     "execution_count": 79,
     "metadata": {},
     "output_type": "execute_result"
    }
   ],
   "source": [
    "model.pvalues.sort_values().index[-1]"
   ]
  },
  {
   "cell_type": "code",
   "execution_count": 80,
   "id": "6e18b671",
   "metadata": {},
   "outputs": [
    {
     "data": {
      "text/plain": [
       "0.9263"
      ]
     },
     "execution_count": 80,
     "metadata": {},
     "output_type": "execute_result"
    }
   ],
   "source": [
    "columns_to_be_dropped =model.pvalues.sort_values().index[-1]\n",
    "Xnew= Xnew.drop(labels=columns_to_be_dropped,axis=1)\n",
    "\n",
    "from sklearn.model_selection import train_test_split\n",
    "xtrain,xtest,ytrain,ytest=train_test_split(Xnew,Y,test_size=0.2,random_state=31)\n",
    "\n",
    "from statsmodels.api import OLS, add_constant\n",
    "xconst=add_constant(xtrain,has_constant=\"add\")\n",
    "ols= OLS(ytrain,xconst)\n",
    "model=ols.fit()\n",
    "\n",
    "round(model.rsquared_adj,4)"
   ]
  },
  {
   "cell_type": "markdown",
   "id": "2127542a",
   "metadata": {},
   "source": [
    "# MODEL-22"
   ]
  },
  {
   "cell_type": "code",
   "execution_count": 81,
   "id": "049bf798",
   "metadata": {},
   "outputs": [
    {
     "data": {
      "text/plain": [
       "'Heating_GasW'"
      ]
     },
     "execution_count": 81,
     "metadata": {},
     "output_type": "execute_result"
    }
   ],
   "source": [
    "model.pvalues.sort_values().index[-1]"
   ]
  },
  {
   "cell_type": "code",
   "execution_count": 82,
   "id": "0db6f8fc",
   "metadata": {},
   "outputs": [
    {
     "data": {
      "text/plain": [
       "0.9263"
      ]
     },
     "execution_count": 82,
     "metadata": {},
     "output_type": "execute_result"
    }
   ],
   "source": [
    "columns_to_be_dropped =model.pvalues.sort_values().index[-1]\n",
    "Xnew= Xnew.drop(labels=columns_to_be_dropped,axis=1)\n",
    "\n",
    "from sklearn.model_selection import train_test_split\n",
    "xtrain,xtest,ytrain,ytest=train_test_split(Xnew,Y,test_size=0.2,random_state=31)\n",
    "\n",
    "from statsmodels.api import OLS, add_constant\n",
    "xconst=add_constant(xtrain,has_constant=\"add\")\n",
    "ols= OLS(ytrain,xconst)\n",
    "model=ols.fit()\n",
    "\n",
    "round(model.rsquared_adj,4)"
   ]
  },
  {
   "cell_type": "markdown",
   "id": "90e2ea17",
   "metadata": {},
   "source": [
    "# MODEL-23"
   ]
  },
  {
   "cell_type": "code",
   "execution_count": 83,
   "id": "a4606b20",
   "metadata": {},
   "outputs": [
    {
     "data": {
      "text/plain": [
       "'BsmtFinType1_Rec'"
      ]
     },
     "execution_count": 83,
     "metadata": {},
     "output_type": "execute_result"
    }
   ],
   "source": [
    "model.pvalues.sort_values().index[-1]"
   ]
  },
  {
   "cell_type": "code",
   "execution_count": 84,
   "id": "cacb5ed8",
   "metadata": {},
   "outputs": [
    {
     "data": {
      "text/plain": [
       "0.9264"
      ]
     },
     "execution_count": 84,
     "metadata": {},
     "output_type": "execute_result"
    }
   ],
   "source": [
    "columns_to_be_dropped =model.pvalues.sort_values().index[-1]\n",
    "Xnew= Xnew.drop(labels=columns_to_be_dropped,axis=1)\n",
    "\n",
    "from sklearn.model_selection import train_test_split\n",
    "xtrain,xtest,ytrain,ytest=train_test_split(Xnew,Y,test_size=0.2,random_state=31)\n",
    "\n",
    "from statsmodels.api import OLS, add_constant\n",
    "xconst=add_constant(xtrain,has_constant=\"add\")\n",
    "ols= OLS(ytrain,xconst)\n",
    "model=ols.fit()\n",
    "\n",
    "round(model.rsquared_adj,4)"
   ]
  },
  {
   "cell_type": "markdown",
   "id": "de293f3f",
   "metadata": {},
   "source": [
    "# MODEL-24"
   ]
  },
  {
   "cell_type": "code",
   "execution_count": 85,
   "id": "e9abf853",
   "metadata": {},
   "outputs": [
    {
     "data": {
      "text/plain": [
       "'SaleType_WD'"
      ]
     },
     "execution_count": 85,
     "metadata": {},
     "output_type": "execute_result"
    }
   ],
   "source": [
    "model.pvalues.sort_values().index[-1]"
   ]
  },
  {
   "cell_type": "code",
   "execution_count": 86,
   "id": "b0f223c6",
   "metadata": {},
   "outputs": [
    {
     "data": {
      "text/plain": [
       "0.9265"
      ]
     },
     "execution_count": 86,
     "metadata": {},
     "output_type": "execute_result"
    }
   ],
   "source": [
    "columns_to_be_dropped =model.pvalues.sort_values().index[-1]\n",
    "Xnew= Xnew.drop(labels=columns_to_be_dropped,axis=1)\n",
    "\n",
    "from sklearn.model_selection import train_test_split\n",
    "xtrain,xtest,ytrain,ytest=train_test_split(Xnew,Y,test_size=0.2,random_state=31)\n",
    "\n",
    "from statsmodels.api import OLS, add_constant\n",
    "xconst=add_constant(xtrain,has_constant=\"add\")\n",
    "ols= OLS(ytrain,xconst)\n",
    "model=ols.fit()\n",
    "\n",
    "round(model.rsquared_adj,4)"
   ]
  },
  {
   "cell_type": "markdown",
   "id": "0a304189",
   "metadata": {},
   "source": [
    "# MODEL-25"
   ]
  },
  {
   "cell_type": "code",
   "execution_count": 87,
   "id": "f1930dd8",
   "metadata": {},
   "outputs": [
    {
     "data": {
      "text/plain": [
       "'LotConfig_FR2'"
      ]
     },
     "execution_count": 87,
     "metadata": {},
     "output_type": "execute_result"
    }
   ],
   "source": [
    "model.pvalues.sort_values().index[-1]"
   ]
  },
  {
   "cell_type": "code",
   "execution_count": 88,
   "id": "565245c9",
   "metadata": {},
   "outputs": [
    {
     "data": {
      "text/plain": [
       "0.9265"
      ]
     },
     "execution_count": 88,
     "metadata": {},
     "output_type": "execute_result"
    }
   ],
   "source": [
    "columns_to_be_dropped =model.pvalues.sort_values().index[-1]\n",
    "Xnew= Xnew.drop(labels=columns_to_be_dropped,axis=1)\n",
    "\n",
    "from sklearn.model_selection import train_test_split\n",
    "xtrain,xtest,ytrain,ytest=train_test_split(Xnew,Y,test_size=0.2,random_state=31)\n",
    "\n",
    "from statsmodels.api import OLS, add_constant\n",
    "xconst=add_constant(xtrain,has_constant=\"add\")\n",
    "ols= OLS(ytrain,xconst)\n",
    "model=ols.fit()\n",
    "\n",
    "round(model.rsquared_adj,4)"
   ]
  },
  {
   "cell_type": "markdown",
   "id": "2f697d55",
   "metadata": {},
   "source": [
    "# MODEL-26"
   ]
  },
  {
   "cell_type": "code",
   "execution_count": 89,
   "id": "d5de75e8",
   "metadata": {},
   "outputs": [
    {
     "data": {
      "text/plain": [
       "'Electrical_FuseP'"
      ]
     },
     "execution_count": 89,
     "metadata": {},
     "output_type": "execute_result"
    }
   ],
   "source": [
    "model.pvalues.sort_values().index[-1]"
   ]
  },
  {
   "cell_type": "code",
   "execution_count": 90,
   "id": "a62fcae3",
   "metadata": {},
   "outputs": [
    {
     "data": {
      "text/plain": [
       "0.9265"
      ]
     },
     "execution_count": 90,
     "metadata": {},
     "output_type": "execute_result"
    }
   ],
   "source": [
    "columns_to_be_dropped =model.pvalues.sort_values().index[-1]\n",
    "Xnew= Xnew.drop(labels=columns_to_be_dropped,axis=1)\n",
    "\n",
    "from sklearn.model_selection import train_test_split\n",
    "xtrain,xtest,ytrain,ytest=train_test_split(Xnew,Y,test_size=0.2,random_state=31)\n",
    "\n",
    "from statsmodels.api import OLS, add_constant\n",
    "xconst=add_constant(xtrain,has_constant=\"add\")\n",
    "ols= OLS(ytrain,xconst)\n",
    "model=ols.fit()\n",
    "\n",
    "round(model.rsquared_adj,4)"
   ]
  },
  {
   "cell_type": "markdown",
   "id": "d01b7178",
   "metadata": {},
   "source": [
    "# MODEL-27"
   ]
  },
  {
   "cell_type": "code",
   "execution_count": 91,
   "id": "8723ff2b",
   "metadata": {},
   "outputs": [
    {
     "data": {
      "text/plain": [
       "'1stFlrSF'"
      ]
     },
     "execution_count": 91,
     "metadata": {},
     "output_type": "execute_result"
    }
   ],
   "source": [
    "model.pvalues.sort_values().index[-1]"
   ]
  },
  {
   "cell_type": "code",
   "execution_count": 92,
   "id": "517839a1",
   "metadata": {},
   "outputs": [
    {
     "data": {
      "text/plain": [
       "0.9266"
      ]
     },
     "execution_count": 92,
     "metadata": {},
     "output_type": "execute_result"
    }
   ],
   "source": [
    "columns_to_be_dropped =model.pvalues.sort_values().index[-1]\n",
    "Xnew= Xnew.drop(labels=columns_to_be_dropped,axis=1)\n",
    "\n",
    "from sklearn.model_selection import train_test_split\n",
    "xtrain,xtest,ytrain,ytest=train_test_split(Xnew,Y,test_size=0.2,random_state=31)\n",
    "\n",
    "from statsmodels.api import OLS, add_constant\n",
    "xconst=add_constant(xtrain,has_constant=\"add\")\n",
    "ols= OLS(ytrain,xconst)\n",
    "model=ols.fit()\n",
    "\n",
    "round(model.rsquared_adj,4)"
   ]
  },
  {
   "cell_type": "markdown",
   "id": "de8e0e14",
   "metadata": {},
   "source": [
    "# MODEL-28"
   ]
  },
  {
   "cell_type": "code",
   "execution_count": 93,
   "id": "0966f33b",
   "metadata": {},
   "outputs": [
    {
     "data": {
      "text/plain": [
       "'Heating_Floor'"
      ]
     },
     "execution_count": 93,
     "metadata": {},
     "output_type": "execute_result"
    }
   ],
   "source": [
    "model.pvalues.sort_values().index[-1]"
   ]
  },
  {
   "cell_type": "code",
   "execution_count": 94,
   "id": "8a559ba7",
   "metadata": {},
   "outputs": [
    {
     "data": {
      "text/plain": [
       "0.9266"
      ]
     },
     "execution_count": 94,
     "metadata": {},
     "output_type": "execute_result"
    }
   ],
   "source": [
    "columns_to_be_dropped =model.pvalues.sort_values().index[-1]\n",
    "Xnew= Xnew.drop(labels=columns_to_be_dropped,axis=1)\n",
    "\n",
    "from sklearn.model_selection import train_test_split\n",
    "xtrain,xtest,ytrain,ytest=train_test_split(Xnew,Y,test_size=0.2,random_state=31)\n",
    "\n",
    "from statsmodels.api import OLS, add_constant\n",
    "xconst=add_constant(xtrain,has_constant=\"add\")\n",
    "ols= OLS(ytrain,xconst)\n",
    "model=ols.fit()\n",
    "\n",
    "round(model.rsquared_adj,4)"
   ]
  },
  {
   "cell_type": "markdown",
   "id": "17c98bb0",
   "metadata": {},
   "source": [
    "# MODEL-29"
   ]
  },
  {
   "cell_type": "code",
   "execution_count": 95,
   "id": "13173495",
   "metadata": {},
   "outputs": [
    {
     "data": {
      "text/plain": [
       "'HouseStyle_1.5Fin'"
      ]
     },
     "execution_count": 95,
     "metadata": {},
     "output_type": "execute_result"
    }
   ],
   "source": [
    "model.pvalues.sort_values().index[-1]"
   ]
  },
  {
   "cell_type": "code",
   "execution_count": 96,
   "id": "89bff7df",
   "metadata": {},
   "outputs": [
    {
     "data": {
      "text/plain": [
       "0.9266"
      ]
     },
     "execution_count": 96,
     "metadata": {},
     "output_type": "execute_result"
    }
   ],
   "source": [
    "columns_to_be_dropped =model.pvalues.sort_values().index[-1]\n",
    "Xnew= Xnew.drop(labels=columns_to_be_dropped,axis=1)\n",
    "\n",
    "from sklearn.model_selection import train_test_split\n",
    "xtrain,xtest,ytrain,ytest=train_test_split(Xnew,Y,test_size=0.2,random_state=31)\n",
    "\n",
    "from statsmodels.api import OLS, add_constant\n",
    "xconst=add_constant(xtrain,has_constant=\"add\")\n",
    "ols= OLS(ytrain,xconst)\n",
    "model=ols.fit()\n",
    "\n",
    "round(model.rsquared_adj,4)"
   ]
  },
  {
   "cell_type": "markdown",
   "id": "1cbe99a3",
   "metadata": {},
   "source": [
    "# MODEL-30"
   ]
  },
  {
   "cell_type": "code",
   "execution_count": 97,
   "id": "1397ee43",
   "metadata": {},
   "outputs": [
    {
     "data": {
      "text/plain": [
       "'MSZoning_RH'"
      ]
     },
     "execution_count": 97,
     "metadata": {},
     "output_type": "execute_result"
    }
   ],
   "source": [
    "model.pvalues.sort_values().index[-1]"
   ]
  },
  {
   "cell_type": "code",
   "execution_count": 98,
   "id": "6007f121",
   "metadata": {},
   "outputs": [
    {
     "data": {
      "text/plain": [
       "0.9266"
      ]
     },
     "execution_count": 98,
     "metadata": {},
     "output_type": "execute_result"
    }
   ],
   "source": [
    "columns_to_be_dropped =model.pvalues.sort_values().index[-1]\n",
    "Xnew= Xnew.drop(labels=columns_to_be_dropped,axis=1)\n",
    "\n",
    "from sklearn.model_selection import train_test_split\n",
    "xtrain,xtest,ytrain,ytest=train_test_split(Xnew,Y,test_size=0.2,random_state=31)\n",
    "\n",
    "from statsmodels.api import OLS, add_constant\n",
    "xconst=add_constant(xtrain,has_constant=\"add\")\n",
    "ols= OLS(ytrain,xconst)\n",
    "model=ols.fit()\n",
    "\n",
    "round(model.rsquared_adj,4)"
   ]
  },
  {
   "cell_type": "markdown",
   "id": "58a330e0",
   "metadata": {},
   "source": [
    "# MODEL-31"
   ]
  },
  {
   "cell_type": "code",
   "execution_count": 99,
   "id": "cd52c650",
   "metadata": {},
   "outputs": [
    {
     "data": {
      "text/plain": [
       "'RoofStyle_Gable'"
      ]
     },
     "execution_count": 99,
     "metadata": {},
     "output_type": "execute_result"
    }
   ],
   "source": [
    "model.pvalues.sort_values().index[-1]"
   ]
  },
  {
   "cell_type": "code",
   "execution_count": 100,
   "id": "6d4b0759",
   "metadata": {},
   "outputs": [
    {
     "data": {
      "text/plain": [
       "0.9266"
      ]
     },
     "execution_count": 100,
     "metadata": {},
     "output_type": "execute_result"
    }
   ],
   "source": [
    "columns_to_be_dropped =model.pvalues.sort_values().index[-1]\n",
    "Xnew= Xnew.drop(labels=columns_to_be_dropped,axis=1)\n",
    "\n",
    "from sklearn.model_selection import train_test_split\n",
    "xtrain,xtest,ytrain,ytest=train_test_split(Xnew,Y,test_size=0.2,random_state=31)\n",
    "\n",
    "from statsmodels.api import OLS, add_constant\n",
    "xconst=add_constant(xtrain,has_constant=\"add\")\n",
    "ols= OLS(ytrain,xconst)\n",
    "model=ols.fit()\n",
    "\n",
    "round(model.rsquared_adj,4)"
   ]
  },
  {
   "cell_type": "markdown",
   "id": "682b2dfe",
   "metadata": {},
   "source": [
    "# MODEL-32"
   ]
  },
  {
   "cell_type": "code",
   "execution_count": 101,
   "id": "30cbedeb",
   "metadata": {},
   "outputs": [
    {
     "data": {
      "text/plain": [
       "'KitchenQual_TA'"
      ]
     },
     "execution_count": 101,
     "metadata": {},
     "output_type": "execute_result"
    }
   ],
   "source": [
    "model.pvalues.sort_values().index[-1]"
   ]
  },
  {
   "cell_type": "code",
   "execution_count": 102,
   "id": "5c1647d9",
   "metadata": {},
   "outputs": [
    {
     "data": {
      "text/plain": [
       "0.9266"
      ]
     },
     "execution_count": 102,
     "metadata": {},
     "output_type": "execute_result"
    }
   ],
   "source": [
    "columns_to_be_dropped =model.pvalues.sort_values().index[-1]\n",
    "Xnew= Xnew.drop(labels=columns_to_be_dropped,axis=1)\n",
    "\n",
    "from sklearn.model_selection import train_test_split\n",
    "xtrain,xtest,ytrain,ytest=train_test_split(Xnew,Y,test_size=0.2,random_state=31)\n",
    "\n",
    "from statsmodels.api import OLS, add_constant\n",
    "xconst=add_constant(xtrain,has_constant=\"add\")\n",
    "ols= OLS(ytrain,xconst)\n",
    "model=ols.fit()\n",
    "\n",
    "round(model.rsquared_adj,4)"
   ]
  },
  {
   "cell_type": "markdown",
   "id": "3c3b4e44",
   "metadata": {},
   "source": [
    "# MODEL-33"
   ]
  },
  {
   "cell_type": "code",
   "execution_count": 103,
   "id": "129617f0",
   "metadata": {},
   "outputs": [
    {
     "data": {
      "text/plain": [
       "'Exterior2nd_Brk Cmn'"
      ]
     },
     "execution_count": 103,
     "metadata": {},
     "output_type": "execute_result"
    }
   ],
   "source": [
    "model.pvalues.sort_values().index[-1]"
   ]
  },
  {
   "cell_type": "code",
   "execution_count": 104,
   "id": "33fe816b",
   "metadata": {},
   "outputs": [
    {
     "data": {
      "text/plain": [
       "0.9268"
      ]
     },
     "execution_count": 104,
     "metadata": {},
     "output_type": "execute_result"
    }
   ],
   "source": [
    "columns_to_be_dropped =model.pvalues.sort_values().index[-1]\n",
    "Xnew= Xnew.drop(labels=columns_to_be_dropped,axis=1)\n",
    "\n",
    "from sklearn.model_selection import train_test_split\n",
    "xtrain,xtest,ytrain,ytest=train_test_split(Xnew,Y,test_size=0.2,random_state=31)\n",
    "\n",
    "from statsmodels.api import OLS, add_constant\n",
    "xconst=add_constant(xtrain,has_constant=\"add\")\n",
    "ols= OLS(ytrain,xconst)\n",
    "model=ols.fit()\n",
    "\n",
    "round(model.rsquared_adj,4)"
   ]
  },
  {
   "cell_type": "markdown",
   "id": "c6f7dc4e",
   "metadata": {},
   "source": [
    "# MODEL-34"
   ]
  },
  {
   "cell_type": "code",
   "execution_count": 105,
   "id": "26f6dee9",
   "metadata": {},
   "outputs": [
    {
     "data": {
      "text/plain": [
       "'Neighborhood_BrkSide'"
      ]
     },
     "execution_count": 105,
     "metadata": {},
     "output_type": "execute_result"
    }
   ],
   "source": [
    "model.pvalues.sort_values().index[-1]"
   ]
  },
  {
   "cell_type": "code",
   "execution_count": 106,
   "id": "f5dd6364",
   "metadata": {},
   "outputs": [
    {
     "data": {
      "text/plain": [
       "0.9269"
      ]
     },
     "execution_count": 106,
     "metadata": {},
     "output_type": "execute_result"
    }
   ],
   "source": [
    "columns_to_be_dropped =model.pvalues.sort_values().index[-1]\n",
    "Xnew= Xnew.drop(labels=columns_to_be_dropped,axis=1)\n",
    "\n",
    "from sklearn.model_selection import train_test_split\n",
    "xtrain,xtest,ytrain,ytest=train_test_split(Xnew,Y,test_size=0.2,random_state=31)\n",
    "\n",
    "from statsmodels.api import OLS, add_constant\n",
    "xconst=add_constant(xtrain,has_constant=\"add\")\n",
    "ols= OLS(ytrain,xconst)\n",
    "model=ols.fit()\n",
    "\n",
    "round(model.rsquared_adj,4)"
   ]
  },
  {
   "cell_type": "markdown",
   "id": "c7094326",
   "metadata": {},
   "source": [
    "# MODEL-35"
   ]
  },
  {
   "cell_type": "code",
   "execution_count": 107,
   "id": "125c43ca",
   "metadata": {},
   "outputs": [
    {
     "data": {
      "text/plain": [
       "'Neighborhood_Blueste'"
      ]
     },
     "execution_count": 107,
     "metadata": {},
     "output_type": "execute_result"
    }
   ],
   "source": [
    "model.pvalues.sort_values().index[-1]"
   ]
  },
  {
   "cell_type": "code",
   "execution_count": 108,
   "id": "6e957f32",
   "metadata": {},
   "outputs": [
    {
     "data": {
      "text/plain": [
       "0.927"
      ]
     },
     "execution_count": 108,
     "metadata": {},
     "output_type": "execute_result"
    }
   ],
   "source": [
    "columns_to_be_dropped =model.pvalues.sort_values().index[-1]\n",
    "Xnew= Xnew.drop(labels=columns_to_be_dropped,axis=1)\n",
    "\n",
    "from sklearn.model_selection import train_test_split\n",
    "xtrain,xtest,ytrain,ytest=train_test_split(Xnew,Y,test_size=0.2,random_state=31)\n",
    "\n",
    "from statsmodels.api import OLS, add_constant\n",
    "xconst=add_constant(xtrain,has_constant=\"add\")\n",
    "ols= OLS(ytrain,xconst)\n",
    "model=ols.fit()\n",
    "\n",
    "round(model.rsquared_adj,4)"
   ]
  },
  {
   "cell_type": "markdown",
   "id": "ccafd239",
   "metadata": {},
   "source": [
    "# MODEL-36"
   ]
  },
  {
   "cell_type": "code",
   "execution_count": 109,
   "id": "cf88b2e0",
   "metadata": {},
   "outputs": [
    {
     "data": {
      "text/plain": [
       "'BsmtFullBath'"
      ]
     },
     "execution_count": 109,
     "metadata": {},
     "output_type": "execute_result"
    }
   ],
   "source": [
    "model.pvalues.sort_values().index[-1]"
   ]
  },
  {
   "cell_type": "code",
   "execution_count": 110,
   "id": "340e44cf",
   "metadata": {},
   "outputs": [
    {
     "data": {
      "text/plain": [
       "0.9271"
      ]
     },
     "execution_count": 110,
     "metadata": {},
     "output_type": "execute_result"
    }
   ],
   "source": [
    "columns_to_be_dropped =model.pvalues.sort_values().index[-1]\n",
    "Xnew= Xnew.drop(labels=columns_to_be_dropped,axis=1)\n",
    "\n",
    "from sklearn.model_selection import train_test_split\n",
    "xtrain,xtest,ytrain,ytest=train_test_split(Xnew,Y,test_size=0.2,random_state=31)\n",
    "\n",
    "from statsmodels.api import OLS, add_constant\n",
    "xconst=add_constant(xtrain,has_constant=\"add\")\n",
    "ols= OLS(ytrain,xconst)\n",
    "model=ols.fit()\n",
    "\n",
    "round(model.rsquared_adj,4)"
   ]
  },
  {
   "cell_type": "markdown",
   "id": "2ac38fd2",
   "metadata": {},
   "source": [
    "# MODEL-37"
   ]
  },
  {
   "cell_type": "code",
   "execution_count": 111,
   "id": "02d6137a",
   "metadata": {},
   "outputs": [
    {
     "data": {
      "text/plain": [
       "'PavedDrive_P'"
      ]
     },
     "execution_count": 111,
     "metadata": {},
     "output_type": "execute_result"
    }
   ],
   "source": [
    "model.pvalues.sort_values().index[-1]"
   ]
  },
  {
   "cell_type": "code",
   "execution_count": 112,
   "id": "4beba78d",
   "metadata": {},
   "outputs": [
    {
     "data": {
      "text/plain": [
       "0.9271"
      ]
     },
     "execution_count": 112,
     "metadata": {},
     "output_type": "execute_result"
    }
   ],
   "source": [
    "columns_to_be_dropped =model.pvalues.sort_values().index[-1]\n",
    "Xnew= Xnew.drop(labels=columns_to_be_dropped,axis=1)\n",
    "\n",
    "from sklearn.model_selection import train_test_split\n",
    "xtrain,xtest,ytrain,ytest=train_test_split(Xnew,Y,test_size=0.2,random_state=31)\n",
    "\n",
    "from statsmodels.api import OLS, add_constant\n",
    "xconst=add_constant(xtrain,has_constant=\"add\")\n",
    "ols= OLS(ytrain,xconst)\n",
    "model=ols.fit()\n",
    "\n",
    "round(model.rsquared_adj,4)"
   ]
  },
  {
   "cell_type": "markdown",
   "id": "755383f3",
   "metadata": {},
   "source": [
    "# MODEL-38"
   ]
  },
  {
   "cell_type": "code",
   "execution_count": 113,
   "id": "0435c075",
   "metadata": {},
   "outputs": [
    {
     "data": {
      "text/plain": [
       "'HouseStyle_SLvl'"
      ]
     },
     "execution_count": 113,
     "metadata": {},
     "output_type": "execute_result"
    }
   ],
   "source": [
    "model.pvalues.sort_values().index[-1]"
   ]
  },
  {
   "cell_type": "code",
   "execution_count": 114,
   "id": "96fe1611",
   "metadata": {},
   "outputs": [
    {
     "data": {
      "text/plain": [
       "0.9272"
      ]
     },
     "execution_count": 114,
     "metadata": {},
     "output_type": "execute_result"
    }
   ],
   "source": [
    "columns_to_be_dropped =model.pvalues.sort_values().index[-1]\n",
    "Xnew= Xnew.drop(labels=columns_to_be_dropped,axis=1)\n",
    "\n",
    "from sklearn.model_selection import train_test_split\n",
    "xtrain,xtest,ytrain,ytest=train_test_split(Xnew,Y,test_size=0.2,random_state=31)\n",
    "\n",
    "from statsmodels.api import OLS, add_constant\n",
    "xconst=add_constant(xtrain,has_constant=\"add\")\n",
    "ols= OLS(ytrain,xconst)\n",
    "model=ols.fit()\n",
    "\n",
    "round(model.rsquared_adj,4)"
   ]
  },
  {
   "cell_type": "markdown",
   "id": "6aaf9d0d",
   "metadata": {},
   "source": [
    "# MODEL-39"
   ]
  },
  {
   "cell_type": "code",
   "execution_count": 115,
   "id": "fa76ebb7",
   "metadata": {},
   "outputs": [
    {
     "data": {
      "text/plain": [
       "'RoofMatl_WdShake'"
      ]
     },
     "execution_count": 115,
     "metadata": {},
     "output_type": "execute_result"
    }
   ],
   "source": [
    "model.pvalues.sort_values().index[-1]"
   ]
  },
  {
   "cell_type": "code",
   "execution_count": 116,
   "id": "1c72a82e",
   "metadata": {},
   "outputs": [
    {
     "data": {
      "text/plain": [
       "0.9272"
      ]
     },
     "execution_count": 116,
     "metadata": {},
     "output_type": "execute_result"
    }
   ],
   "source": [
    "columns_to_be_dropped =model.pvalues.sort_values().index[-1]\n",
    "Xnew= Xnew.drop(labels=columns_to_be_dropped,axis=1)\n",
    "\n",
    "from sklearn.model_selection import train_test_split\n",
    "xtrain,xtest,ytrain,ytest=train_test_split(Xnew,Y,test_size=0.2,random_state=31)\n",
    "\n",
    "from statsmodels.api import OLS, add_constant\n",
    "xconst=add_constant(xtrain,has_constant=\"add\")\n",
    "ols= OLS(ytrain,xconst)\n",
    "model=ols.fit()\n",
    "\n",
    "round(model.rsquared_adj,4)"
   ]
  },
  {
   "cell_type": "markdown",
   "id": "34574123",
   "metadata": {},
   "source": [
    "# MODEL-40"
   ]
  },
  {
   "cell_type": "code",
   "execution_count": 117,
   "id": "3faaabac",
   "metadata": {},
   "outputs": [
    {
     "data": {
      "text/plain": [
       "'RoofMatl_Tar&Grv'"
      ]
     },
     "execution_count": 117,
     "metadata": {},
     "output_type": "execute_result"
    }
   ],
   "source": [
    "model.pvalues.sort_values().index[-1]"
   ]
  },
  {
   "cell_type": "code",
   "execution_count": 118,
   "id": "9798bea9",
   "metadata": {},
   "outputs": [
    {
     "data": {
      "text/plain": [
       "0.9272"
      ]
     },
     "execution_count": 118,
     "metadata": {},
     "output_type": "execute_result"
    }
   ],
   "source": [
    "columns_to_be_dropped =model.pvalues.sort_values().index[-1]\n",
    "Xnew= Xnew.drop(labels=columns_to_be_dropped,axis=1)\n",
    "\n",
    "from sklearn.model_selection import train_test_split\n",
    "xtrain,xtest,ytrain,ytest=train_test_split(Xnew,Y,test_size=0.2,random_state=31)\n",
    "\n",
    "from statsmodels.api import OLS, add_constant\n",
    "xconst=add_constant(xtrain,has_constant=\"add\")\n",
    "ols= OLS(ytrain,xconst)\n",
    "model=ols.fit()\n",
    "\n",
    "round(model.rsquared_adj,4)"
   ]
  },
  {
   "cell_type": "markdown",
   "id": "1b9022be",
   "metadata": {},
   "source": [
    "# MODEL-41"
   ]
  },
  {
   "cell_type": "code",
   "execution_count": 119,
   "id": "a04ee618",
   "metadata": {},
   "outputs": [
    {
     "data": {
      "text/plain": [
       "'RoofStyle_Flat'"
      ]
     },
     "execution_count": 119,
     "metadata": {},
     "output_type": "execute_result"
    }
   ],
   "source": [
    "model.pvalues.sort_values().index[-1]"
   ]
  },
  {
   "cell_type": "code",
   "execution_count": 120,
   "id": "f404326d",
   "metadata": {},
   "outputs": [
    {
     "data": {
      "text/plain": [
       "0.9273"
      ]
     },
     "execution_count": 120,
     "metadata": {},
     "output_type": "execute_result"
    }
   ],
   "source": [
    "columns_to_be_dropped =model.pvalues.sort_values().index[-1]\n",
    "Xnew= Xnew.drop(labels=columns_to_be_dropped,axis=1)\n",
    "\n",
    "from sklearn.model_selection import train_test_split\n",
    "xtrain,xtest,ytrain,ytest=train_test_split(Xnew,Y,test_size=0.2,random_state=31)\n",
    "\n",
    "from statsmodels.api import OLS, add_constant\n",
    "xconst=add_constant(xtrain,has_constant=\"add\")\n",
    "ols= OLS(ytrain,xconst)\n",
    "model=ols.fit()\n",
    "\n",
    "round(model.rsquared_adj,4)"
   ]
  },
  {
   "cell_type": "markdown",
   "id": "d99ec87c",
   "metadata": {},
   "source": [
    "# MODEL-42"
   ]
  },
  {
   "cell_type": "code",
   "execution_count": 121,
   "id": "8bac5b2e",
   "metadata": {},
   "outputs": [
    {
     "data": {
      "text/plain": [
       "'HeatingQC_Fa'"
      ]
     },
     "execution_count": 121,
     "metadata": {},
     "output_type": "execute_result"
    }
   ],
   "source": [
    "model.pvalues.sort_values().index[-1]"
   ]
  },
  {
   "cell_type": "code",
   "execution_count": 122,
   "id": "89ab1e74",
   "metadata": {},
   "outputs": [
    {
     "data": {
      "text/plain": [
       "0.9273"
      ]
     },
     "execution_count": 122,
     "metadata": {},
     "output_type": "execute_result"
    }
   ],
   "source": [
    "columns_to_be_dropped =model.pvalues.sort_values().index[-1]\n",
    "Xnew= Xnew.drop(labels=columns_to_be_dropped,axis=1)\n",
    "\n",
    "from sklearn.model_selection import train_test_split\n",
    "xtrain,xtest,ytrain,ytest=train_test_split(Xnew,Y,test_size=0.2,random_state=31)\n",
    "\n",
    "from statsmodels.api import OLS, add_constant\n",
    "xconst=add_constant(xtrain,has_constant=\"add\")\n",
    "ols= OLS(ytrain,xconst)\n",
    "model=ols.fit()\n",
    "\n",
    "round(model.rsquared_adj,4)"
   ]
  },
  {
   "cell_type": "markdown",
   "id": "abb78dbb",
   "metadata": {},
   "source": [
    "# MODEL-43"
   ]
  },
  {
   "cell_type": "code",
   "execution_count": 123,
   "id": "88537c1a",
   "metadata": {},
   "outputs": [
    {
     "data": {
      "text/plain": [
       "'HeatingQC_Gd'"
      ]
     },
     "execution_count": 123,
     "metadata": {},
     "output_type": "execute_result"
    }
   ],
   "source": [
    "model.pvalues.sort_values().index[-1]"
   ]
  },
  {
   "cell_type": "code",
   "execution_count": 124,
   "id": "ab26cab8",
   "metadata": {},
   "outputs": [
    {
     "data": {
      "text/plain": [
       "0.9274"
      ]
     },
     "execution_count": 124,
     "metadata": {},
     "output_type": "execute_result"
    }
   ],
   "source": [
    "columns_to_be_dropped =model.pvalues.sort_values().index[-1]\n",
    "Xnew= Xnew.drop(labels=columns_to_be_dropped,axis=1)\n",
    "\n",
    "from sklearn.model_selection import train_test_split\n",
    "xtrain,xtest,ytrain,ytest=train_test_split(Xnew,Y,test_size=0.2,random_state=31)\n",
    "\n",
    "from statsmodels.api import OLS, add_constant\n",
    "xconst=add_constant(xtrain,has_constant=\"add\")\n",
    "ols= OLS(ytrain,xconst)\n",
    "model=ols.fit()\n",
    "\n",
    "round(model.rsquared_adj,4)"
   ]
  },
  {
   "cell_type": "markdown",
   "id": "6f12d749",
   "metadata": {},
   "source": [
    "# MODEL-44"
   ]
  },
  {
   "cell_type": "code",
   "execution_count": 125,
   "id": "4be1fa99",
   "metadata": {},
   "outputs": [
    {
     "data": {
      "text/plain": [
       "'LotFrontage'"
      ]
     },
     "execution_count": 125,
     "metadata": {},
     "output_type": "execute_result"
    }
   ],
   "source": [
    "model.pvalues.sort_values().index[-1]"
   ]
  },
  {
   "cell_type": "code",
   "execution_count": 126,
   "id": "b1e59509",
   "metadata": {},
   "outputs": [
    {
     "data": {
      "text/plain": [
       "0.9275"
      ]
     },
     "execution_count": 126,
     "metadata": {},
     "output_type": "execute_result"
    }
   ],
   "source": [
    "columns_to_be_dropped =model.pvalues.sort_values().index[-1]\n",
    "Xnew= Xnew.drop(labels=columns_to_be_dropped,axis=1)\n",
    "\n",
    "from sklearn.model_selection import train_test_split\n",
    "xtrain,xtest,ytrain,ytest=train_test_split(Xnew,Y,test_size=0.2,random_state=31)\n",
    "\n",
    "from statsmodels.api import OLS, add_constant\n",
    "xconst=add_constant(xtrain,has_constant=\"add\")\n",
    "ols= OLS(ytrain,xconst)\n",
    "model=ols.fit()\n",
    "\n",
    "round(model.rsquared_adj,4)"
   ]
  },
  {
   "cell_type": "markdown",
   "id": "3c1c6916",
   "metadata": {},
   "source": [
    "# MODEL-45"
   ]
  },
  {
   "cell_type": "code",
   "execution_count": 127,
   "id": "3c9106ca",
   "metadata": {},
   "outputs": [
    {
     "data": {
      "text/plain": [
       "'HalfBath'"
      ]
     },
     "execution_count": 127,
     "metadata": {},
     "output_type": "execute_result"
    }
   ],
   "source": [
    "model.pvalues.sort_values().index[-1]"
   ]
  },
  {
   "cell_type": "code",
   "execution_count": 128,
   "id": "065517b9",
   "metadata": {},
   "outputs": [
    {
     "data": {
      "text/plain": [
       "0.9276"
      ]
     },
     "execution_count": 128,
     "metadata": {},
     "output_type": "execute_result"
    }
   ],
   "source": [
    "columns_to_be_dropped =model.pvalues.sort_values().index[-1]\n",
    "Xnew= Xnew.drop(labels=columns_to_be_dropped,axis=1)\n",
    "\n",
    "from sklearn.model_selection import train_test_split\n",
    "xtrain,xtest,ytrain,ytest=train_test_split(Xnew,Y,test_size=0.2,random_state=31)\n",
    "\n",
    "from statsmodels.api import OLS, add_constant\n",
    "xconst=add_constant(xtrain,has_constant=\"add\")\n",
    "ols= OLS(ytrain,xconst)\n",
    "model=ols.fit()\n",
    "\n",
    "round(model.rsquared_adj,4)"
   ]
  },
  {
   "cell_type": "markdown",
   "id": "811c01c4",
   "metadata": {},
   "source": [
    "# MODEL-46"
   ]
  },
  {
   "cell_type": "code",
   "execution_count": 129,
   "id": "eb36dfda",
   "metadata": {},
   "outputs": [
    {
     "data": {
      "text/plain": [
       "'Foundation_CBlock'"
      ]
     },
     "execution_count": 129,
     "metadata": {},
     "output_type": "execute_result"
    }
   ],
   "source": [
    "model.pvalues.sort_values().index[-1]"
   ]
  },
  {
   "cell_type": "code",
   "execution_count": 130,
   "id": "6b2d7dbd",
   "metadata": {},
   "outputs": [
    {
     "data": {
      "text/plain": [
       "0.9278"
      ]
     },
     "execution_count": 130,
     "metadata": {},
     "output_type": "execute_result"
    }
   ],
   "source": [
    "columns_to_be_dropped =model.pvalues.sort_values().index[-1]\n",
    "Xnew= Xnew.drop(labels=columns_to_be_dropped,axis=1)\n",
    "\n",
    "from sklearn.model_selection import train_test_split\n",
    "xtrain,xtest,ytrain,ytest=train_test_split(Xnew,Y,test_size=0.2,random_state=31)\n",
    "\n",
    "from statsmodels.api import OLS, add_constant\n",
    "xconst=add_constant(xtrain,has_constant=\"add\")\n",
    "ols= OLS(ytrain,xconst)\n",
    "model=ols.fit()\n",
    "\n",
    "round(model.rsquared_adj,4)"
   ]
  },
  {
   "cell_type": "markdown",
   "id": "f2f39521",
   "metadata": {},
   "source": [
    "# MODEL-47"
   ]
  },
  {
   "cell_type": "code",
   "execution_count": 131,
   "id": "e0dae24a",
   "metadata": {},
   "outputs": [
    {
     "data": {
      "text/plain": [
       "'MasVnrType_BrkCmn'"
      ]
     },
     "execution_count": 131,
     "metadata": {},
     "output_type": "execute_result"
    }
   ],
   "source": [
    "model.pvalues.sort_values().index[-1]"
   ]
  },
  {
   "cell_type": "code",
   "execution_count": 132,
   "id": "0465570d",
   "metadata": {},
   "outputs": [
    {
     "data": {
      "text/plain": [
       "0.9278"
      ]
     },
     "execution_count": 132,
     "metadata": {},
     "output_type": "execute_result"
    }
   ],
   "source": [
    "columns_to_be_dropped =model.pvalues.sort_values().index[-1]\n",
    "Xnew= Xnew.drop(labels=columns_to_be_dropped,axis=1)\n",
    "\n",
    "from sklearn.model_selection import train_test_split\n",
    "xtrain,xtest,ytrain,ytest=train_test_split(Xnew,Y,test_size=0.2,random_state=31)\n",
    "\n",
    "from statsmodels.api import OLS, add_constant\n",
    "xconst=add_constant(xtrain,has_constant=\"add\")\n",
    "ols= OLS(ytrain,xconst)\n",
    "model=ols.fit()\n",
    "\n",
    "round(model.rsquared_adj,4)"
   ]
  },
  {
   "cell_type": "markdown",
   "id": "7c885e73",
   "metadata": {},
   "source": [
    "# MODEL-48"
   ]
  },
  {
   "cell_type": "code",
   "execution_count": 133,
   "id": "5d8fd6e7",
   "metadata": {},
   "outputs": [
    {
     "data": {
      "text/plain": [
       "'Fireplaces'"
      ]
     },
     "execution_count": 133,
     "metadata": {},
     "output_type": "execute_result"
    }
   ],
   "source": [
    "model.pvalues.sort_values().index[-1]"
   ]
  },
  {
   "cell_type": "code",
   "execution_count": 134,
   "id": "25ad0b85",
   "metadata": {},
   "outputs": [
    {
     "data": {
      "text/plain": [
       "0.9279"
      ]
     },
     "execution_count": 134,
     "metadata": {},
     "output_type": "execute_result"
    }
   ],
   "source": [
    "columns_to_be_dropped =model.pvalues.sort_values().index[-1]\n",
    "Xnew= Xnew.drop(labels=columns_to_be_dropped,axis=1)\n",
    "\n",
    "from sklearn.model_selection import train_test_split\n",
    "xtrain,xtest,ytrain,ytest=train_test_split(Xnew,Y,test_size=0.2,random_state=31)\n",
    "\n",
    "from statsmodels.api import OLS, add_constant\n",
    "xconst=add_constant(xtrain,has_constant=\"add\")\n",
    "ols= OLS(ytrain,xconst)\n",
    "model=ols.fit()\n",
    "\n",
    "round(model.rsquared_adj,4)"
   ]
  },
  {
   "cell_type": "markdown",
   "id": "ee819f7f",
   "metadata": {},
   "source": [
    "# MODEL-49"
   ]
  },
  {
   "cell_type": "code",
   "execution_count": 135,
   "id": "87bc61eb",
   "metadata": {},
   "outputs": [
    {
     "data": {
      "text/plain": [
       "'MasVnrType_None'"
      ]
     },
     "execution_count": 135,
     "metadata": {},
     "output_type": "execute_result"
    }
   ],
   "source": [
    "model.pvalues.sort_values().index[-1]"
   ]
  },
  {
   "cell_type": "code",
   "execution_count": 136,
   "id": "5731fe3c",
   "metadata": {},
   "outputs": [
    {
     "data": {
      "text/plain": [
       "0.928"
      ]
     },
     "execution_count": 136,
     "metadata": {},
     "output_type": "execute_result"
    }
   ],
   "source": [
    "columns_to_be_dropped =model.pvalues.sort_values().index[-1]\n",
    "Xnew= Xnew.drop(labels=columns_to_be_dropped,axis=1)\n",
    "\n",
    "from sklearn.model_selection import train_test_split\n",
    "xtrain,xtest,ytrain,ytest=train_test_split(Xnew,Y,test_size=0.2,random_state=31)\n",
    "\n",
    "from statsmodels.api import OLS, add_constant\n",
    "xconst=add_constant(xtrain,has_constant=\"add\")\n",
    "ols= OLS(ytrain,xconst)\n",
    "model=ols.fit()\n",
    "\n",
    "round(model.rsquared_adj,4)"
   ]
  },
  {
   "cell_type": "markdown",
   "id": "6c01ec89",
   "metadata": {},
   "source": [
    "# MODEL-50"
   ]
  },
  {
   "cell_type": "code",
   "execution_count": 137,
   "id": "82089054",
   "metadata": {},
   "outputs": [
    {
     "data": {
      "text/plain": [
       "'SaleCondition_Family'"
      ]
     },
     "execution_count": 137,
     "metadata": {},
     "output_type": "execute_result"
    }
   ],
   "source": [
    "model.pvalues.sort_values().index[-1]"
   ]
  },
  {
   "cell_type": "code",
   "execution_count": 138,
   "id": "f00676a9",
   "metadata": {},
   "outputs": [
    {
     "data": {
      "text/plain": [
       "0.928"
      ]
     },
     "execution_count": 138,
     "metadata": {},
     "output_type": "execute_result"
    }
   ],
   "source": [
    "columns_to_be_dropped =model.pvalues.sort_values().index[-1]\n",
    "Xnew= Xnew.drop(labels=columns_to_be_dropped,axis=1)\n",
    "\n",
    "from sklearn.model_selection import train_test_split\n",
    "xtrain,xtest,ytrain,ytest=train_test_split(Xnew,Y,test_size=0.2,random_state=31)\n",
    "\n",
    "from statsmodels.api import OLS, add_constant\n",
    "xconst=add_constant(xtrain,has_constant=\"add\")\n",
    "ols= OLS(ytrain,xconst)\n",
    "model=ols.fit()\n",
    "\n",
    "round(model.rsquared_adj,4)"
   ]
  },
  {
   "cell_type": "markdown",
   "id": "8fd4f73d",
   "metadata": {},
   "source": [
    "# MODEL-51"
   ]
  },
  {
   "cell_type": "code",
   "execution_count": 139,
   "id": "66ac0801",
   "metadata": {},
   "outputs": [
    {
     "data": {
      "text/plain": [
       "'TotRmsAbvGrd'"
      ]
     },
     "execution_count": 139,
     "metadata": {},
     "output_type": "execute_result"
    }
   ],
   "source": [
    "model.pvalues.sort_values().index[-1]"
   ]
  },
  {
   "cell_type": "code",
   "execution_count": 140,
   "id": "82438a6a",
   "metadata": {},
   "outputs": [
    {
     "data": {
      "text/plain": [
       "0.9281"
      ]
     },
     "execution_count": 140,
     "metadata": {},
     "output_type": "execute_result"
    }
   ],
   "source": [
    "columns_to_be_dropped =model.pvalues.sort_values().index[-1]\n",
    "Xnew= Xnew.drop(labels=columns_to_be_dropped,axis=1)\n",
    "\n",
    "from sklearn.model_selection import train_test_split\n",
    "xtrain,xtest,ytrain,ytest=train_test_split(Xnew,Y,test_size=0.2,random_state=31)\n",
    "\n",
    "from statsmodels.api import OLS, add_constant\n",
    "xconst=add_constant(xtrain,has_constant=\"add\")\n",
    "ols= OLS(ytrain,xconst)\n",
    "model=ols.fit()\n",
    "\n",
    "round(model.rsquared_adj,4)"
   ]
  },
  {
   "cell_type": "markdown",
   "id": "961feca4",
   "metadata": {},
   "source": [
    "# MODEL-52"
   ]
  },
  {
   "cell_type": "code",
   "execution_count": 141,
   "id": "9e9f042a",
   "metadata": {},
   "outputs": [
    {
     "data": {
      "text/plain": [
       "'KitchenQual_Fa'"
      ]
     },
     "execution_count": 141,
     "metadata": {},
     "output_type": "execute_result"
    }
   ],
   "source": [
    "model.pvalues.sort_values().index[-1]"
   ]
  },
  {
   "cell_type": "code",
   "execution_count": 142,
   "id": "5f435c98",
   "metadata": {},
   "outputs": [
    {
     "data": {
      "text/plain": [
       "0.9282"
      ]
     },
     "execution_count": 142,
     "metadata": {},
     "output_type": "execute_result"
    }
   ],
   "source": [
    "columns_to_be_dropped =model.pvalues.sort_values().index[-1]\n",
    "Xnew= Xnew.drop(labels=columns_to_be_dropped,axis=1)\n",
    "\n",
    "from sklearn.model_selection import train_test_split\n",
    "xtrain,xtest,ytrain,ytest=train_test_split(Xnew,Y,test_size=0.2,random_state=31)\n",
    "\n",
    "from statsmodels.api import OLS, add_constant\n",
    "xconst=add_constant(xtrain,has_constant=\"add\")\n",
    "ols= OLS(ytrain,xconst)\n",
    "model=ols.fit()\n",
    "\n",
    "round(model.rsquared_adj,4)"
   ]
  },
  {
   "cell_type": "markdown",
   "id": "aff0d003",
   "metadata": {},
   "source": [
    "# MODEL-53"
   ]
  },
  {
   "cell_type": "code",
   "execution_count": 143,
   "id": "1fa34627",
   "metadata": {},
   "outputs": [
    {
     "data": {
      "text/plain": [
       "'Condition2_Feedr'"
      ]
     },
     "execution_count": 143,
     "metadata": {},
     "output_type": "execute_result"
    }
   ],
   "source": [
    "model.pvalues.sort_values().index[-1]"
   ]
  },
  {
   "cell_type": "code",
   "execution_count": 144,
   "id": "506d9bbf",
   "metadata": {},
   "outputs": [
    {
     "data": {
      "text/plain": [
       "0.9283"
      ]
     },
     "execution_count": 144,
     "metadata": {},
     "output_type": "execute_result"
    }
   ],
   "source": [
    "columns_to_be_dropped =model.pvalues.sort_values().index[-1]\n",
    "Xnew= Xnew.drop(labels=columns_to_be_dropped,axis=1)\n",
    "\n",
    "from sklearn.model_selection import train_test_split\n",
    "xtrain,xtest,ytrain,ytest=train_test_split(Xnew,Y,test_size=0.2,random_state=31)\n",
    "\n",
    "from statsmodels.api import OLS, add_constant\n",
    "xconst=add_constant(xtrain,has_constant=\"add\")\n",
    "ols= OLS(ytrain,xconst)\n",
    "model=ols.fit()\n",
    "\n",
    "round(model.rsquared_adj,4)"
   ]
  },
  {
   "cell_type": "markdown",
   "id": "f8dfa8a3",
   "metadata": {},
   "source": [
    "# MODEL-54"
   ]
  },
  {
   "cell_type": "code",
   "execution_count": 145,
   "id": "7ac80d97",
   "metadata": {},
   "outputs": [
    {
     "data": {
      "text/plain": [
       "'Heating_Grav'"
      ]
     },
     "execution_count": 145,
     "metadata": {},
     "output_type": "execute_result"
    }
   ],
   "source": [
    "model.pvalues.sort_values().index[-1]"
   ]
  },
  {
   "cell_type": "code",
   "execution_count": 146,
   "id": "fd0d563f",
   "metadata": {},
   "outputs": [
    {
     "data": {
      "text/plain": [
       "0.9284"
      ]
     },
     "execution_count": 146,
     "metadata": {},
     "output_type": "execute_result"
    }
   ],
   "source": [
    "columns_to_be_dropped =model.pvalues.sort_values().index[-1]\n",
    "Xnew= Xnew.drop(labels=columns_to_be_dropped,axis=1)\n",
    "\n",
    "from sklearn.model_selection import train_test_split\n",
    "xtrain,xtest,ytrain,ytest=train_test_split(Xnew,Y,test_size=0.2,random_state=31)\n",
    "\n",
    "from statsmodels.api import OLS, add_constant\n",
    "xconst=add_constant(xtrain,has_constant=\"add\")\n",
    "ols= OLS(ytrain,xconst)\n",
    "model=ols.fit()\n",
    "\n",
    "round(model.rsquared_adj,4)"
   ]
  },
  {
   "cell_type": "markdown",
   "id": "f5f5fc4a",
   "metadata": {},
   "source": [
    "# MODEL-55"
   ]
  },
  {
   "cell_type": "code",
   "execution_count": 147,
   "id": "f0d4481e",
   "metadata": {},
   "outputs": [
    {
     "data": {
      "text/plain": [
       "'Exterior2nd_ImStucc'"
      ]
     },
     "execution_count": 147,
     "metadata": {},
     "output_type": "execute_result"
    }
   ],
   "source": [
    "model.pvalues.sort_values().index[-1]"
   ]
  },
  {
   "cell_type": "code",
   "execution_count": 148,
   "id": "13ca0cea",
   "metadata": {},
   "outputs": [
    {
     "data": {
      "text/plain": [
       "0.9285"
      ]
     },
     "execution_count": 148,
     "metadata": {},
     "output_type": "execute_result"
    }
   ],
   "source": [
    "columns_to_be_dropped =model.pvalues.sort_values().index[-1]\n",
    "Xnew= Xnew.drop(labels=columns_to_be_dropped,axis=1)\n",
    "\n",
    "from sklearn.model_selection import train_test_split\n",
    "xtrain,xtest,ytrain,ytest=train_test_split(Xnew,Y,test_size=0.2,random_state=31)\n",
    "\n",
    "from statsmodels.api import OLS, add_constant\n",
    "xconst=add_constant(xtrain,has_constant=\"add\")\n",
    "ols= OLS(ytrain,xconst)\n",
    "model=ols.fit()\n",
    "\n",
    "round(model.rsquared_adj,4)"
   ]
  },
  {
   "cell_type": "markdown",
   "id": "ec9fa9de",
   "metadata": {},
   "source": [
    "# MODEL-56"
   ]
  },
  {
   "cell_type": "code",
   "execution_count": 149,
   "id": "449af679",
   "metadata": {},
   "outputs": [
    {
     "data": {
      "text/plain": [
       "'RoofStyle_Mansard'"
      ]
     },
     "execution_count": 149,
     "metadata": {},
     "output_type": "execute_result"
    }
   ],
   "source": [
    "model.pvalues.sort_values().index[-1]"
   ]
  },
  {
   "cell_type": "code",
   "execution_count": 150,
   "id": "8399fc0a",
   "metadata": {},
   "outputs": [
    {
     "data": {
      "text/plain": [
       "0.9286"
      ]
     },
     "execution_count": 150,
     "metadata": {},
     "output_type": "execute_result"
    }
   ],
   "source": [
    "columns_to_be_dropped =model.pvalues.sort_values().index[-1]\n",
    "Xnew= Xnew.drop(labels=columns_to_be_dropped,axis=1)\n",
    "\n",
    "from sklearn.model_selection import train_test_split\n",
    "xtrain,xtest,ytrain,ytest=train_test_split(Xnew,Y,test_size=0.2,random_state=31)\n",
    "\n",
    "from statsmodels.api import OLS, add_constant\n",
    "xconst=add_constant(xtrain,has_constant=\"add\")\n",
    "ols= OLS(ytrain,xconst)\n",
    "model=ols.fit()\n",
    "\n",
    "round(model.rsquared_adj,4)"
   ]
  },
  {
   "cell_type": "markdown",
   "id": "9afd8862",
   "metadata": {},
   "source": [
    "# MODEL-57"
   ]
  },
  {
   "cell_type": "code",
   "execution_count": 151,
   "id": "5513b2ae",
   "metadata": {},
   "outputs": [
    {
     "data": {
      "text/plain": [
       "'GarageCond_Gd'"
      ]
     },
     "execution_count": 151,
     "metadata": {},
     "output_type": "execute_result"
    }
   ],
   "source": [
    "model.pvalues.sort_values().index[-1]"
   ]
  },
  {
   "cell_type": "code",
   "execution_count": 152,
   "id": "00b6c7a1",
   "metadata": {},
   "outputs": [
    {
     "data": {
      "text/plain": [
       "0.9287"
      ]
     },
     "execution_count": 152,
     "metadata": {},
     "output_type": "execute_result"
    }
   ],
   "source": [
    "columns_to_be_dropped =model.pvalues.sort_values().index[-1]\n",
    "Xnew= Xnew.drop(labels=columns_to_be_dropped,axis=1)\n",
    "\n",
    "from sklearn.model_selection import train_test_split\n",
    "xtrain,xtest,ytrain,ytest=train_test_split(Xnew,Y,test_size=0.2,random_state=31)\n",
    "\n",
    "from statsmodels.api import OLS, add_constant\n",
    "xconst=add_constant(xtrain,has_constant=\"add\")\n",
    "ols= OLS(ytrain,xconst)\n",
    "model=ols.fit()\n",
    "\n",
    "round(model.rsquared_adj,4)"
   ]
  },
  {
   "cell_type": "markdown",
   "id": "ce67ece9",
   "metadata": {},
   "source": [
    "# MODEL-58"
   ]
  },
  {
   "cell_type": "code",
   "execution_count": 153,
   "id": "eb808188",
   "metadata": {},
   "outputs": [
    {
     "data": {
      "text/plain": [
       "'FireplaceQu_noFireplace'"
      ]
     },
     "execution_count": 153,
     "metadata": {},
     "output_type": "execute_result"
    }
   ],
   "source": [
    "model.pvalues.sort_values().index[-1]"
   ]
  },
  {
   "cell_type": "code",
   "execution_count": 154,
   "id": "db0a80cf",
   "metadata": {},
   "outputs": [
    {
     "data": {
      "text/plain": [
       "0.9287"
      ]
     },
     "execution_count": 154,
     "metadata": {},
     "output_type": "execute_result"
    }
   ],
   "source": [
    "columns_to_be_dropped =model.pvalues.sort_values().index[-1]\n",
    "Xnew= Xnew.drop(labels=columns_to_be_dropped,axis=1)\n",
    "\n",
    "from sklearn.model_selection import train_test_split\n",
    "xtrain,xtest,ytrain,ytest=train_test_split(Xnew,Y,test_size=0.2,random_state=31)\n",
    "\n",
    "from statsmodels.api import OLS, add_constant\n",
    "xconst=add_constant(xtrain,has_constant=\"add\")\n",
    "ols= OLS(ytrain,xconst)\n",
    "model=ols.fit()\n",
    "\n",
    "round(model.rsquared_adj,4)"
   ]
  },
  {
   "cell_type": "markdown",
   "id": "6419252c",
   "metadata": {},
   "source": [
    "# MODEL-59"
   ]
  },
  {
   "cell_type": "code",
   "execution_count": 155,
   "id": "78c1b554",
   "metadata": {},
   "outputs": [
    {
     "data": {
      "text/plain": [
       "'RoofMatl_WdShngl'"
      ]
     },
     "execution_count": 155,
     "metadata": {},
     "output_type": "execute_result"
    }
   ],
   "source": [
    "model.pvalues.sort_values().index[-1]"
   ]
  },
  {
   "cell_type": "code",
   "execution_count": 156,
   "id": "eebb1069",
   "metadata": {},
   "outputs": [
    {
     "data": {
      "text/plain": [
       "0.9288"
      ]
     },
     "execution_count": 156,
     "metadata": {},
     "output_type": "execute_result"
    }
   ],
   "source": [
    "columns_to_be_dropped =model.pvalues.sort_values().index[-1]\n",
    "Xnew= Xnew.drop(labels=columns_to_be_dropped,axis=1)\n",
    "\n",
    "from sklearn.model_selection import train_test_split\n",
    "xtrain,xtest,ytrain,ytest=train_test_split(Xnew,Y,test_size=0.2,random_state=31)\n",
    "\n",
    "from statsmodels.api import OLS, add_constant\n",
    "xconst=add_constant(xtrain,has_constant=\"add\")\n",
    "ols= OLS(ytrain,xconst)\n",
    "model=ols.fit()\n",
    "\n",
    "round(model.rsquared_adj,4)"
   ]
  },
  {
   "cell_type": "markdown",
   "id": "8b70ffb8",
   "metadata": {},
   "source": [
    "# MODEL-60"
   ]
  },
  {
   "cell_type": "code",
   "execution_count": 157,
   "id": "d15bdfad",
   "metadata": {},
   "outputs": [
    {
     "data": {
      "text/plain": [
       "'BsmtCond_Fa'"
      ]
     },
     "execution_count": 157,
     "metadata": {},
     "output_type": "execute_result"
    }
   ],
   "source": [
    "model.pvalues.sort_values().index[-1]"
   ]
  },
  {
   "cell_type": "code",
   "execution_count": 158,
   "id": "bc61fa05",
   "metadata": {},
   "outputs": [
    {
     "data": {
      "text/plain": [
       "0.9288"
      ]
     },
     "execution_count": 158,
     "metadata": {},
     "output_type": "execute_result"
    }
   ],
   "source": [
    "columns_to_be_dropped =model.pvalues.sort_values().index[-1]\n",
    "Xnew= Xnew.drop(labels=columns_to_be_dropped,axis=1)\n",
    "\n",
    "from sklearn.model_selection import train_test_split\n",
    "xtrain,xtest,ytrain,ytest=train_test_split(Xnew,Y,test_size=0.2,random_state=31)\n",
    "\n",
    "from statsmodels.api import OLS, add_constant\n",
    "xconst=add_constant(xtrain,has_constant=\"add\")\n",
    "ols= OLS(ytrain,xconst)\n",
    "model=ols.fit()\n",
    "\n",
    "round(model.rsquared_adj,4)"
   ]
  },
  {
   "cell_type": "markdown",
   "id": "d7a48c5a",
   "metadata": {},
   "source": [
    "# MODEL-61"
   ]
  },
  {
   "cell_type": "code",
   "execution_count": 159,
   "id": "0c22ce15",
   "metadata": {},
   "outputs": [
    {
     "data": {
      "text/plain": [
       "'RoofStyle_Gambrel'"
      ]
     },
     "execution_count": 159,
     "metadata": {},
     "output_type": "execute_result"
    }
   ],
   "source": [
    "model.pvalues.sort_values().index[-1]"
   ]
  },
  {
   "cell_type": "code",
   "execution_count": 160,
   "id": "a6ae8af5",
   "metadata": {},
   "outputs": [
    {
     "data": {
      "text/plain": [
       "0.9289"
      ]
     },
     "execution_count": 160,
     "metadata": {},
     "output_type": "execute_result"
    }
   ],
   "source": [
    "columns_to_be_dropped =model.pvalues.sort_values().index[-1]\n",
    "Xnew= Xnew.drop(labels=columns_to_be_dropped,axis=1)\n",
    "\n",
    "from sklearn.model_selection import train_test_split\n",
    "xtrain,xtest,ytrain,ytest=train_test_split(Xnew,Y,test_size=0.2,random_state=31)\n",
    "\n",
    "from statsmodels.api import OLS, add_constant\n",
    "xconst=add_constant(xtrain,has_constant=\"add\")\n",
    "ols= OLS(ytrain,xconst)\n",
    "model=ols.fit()\n",
    "\n",
    "round(model.rsquared_adj,4)"
   ]
  },
  {
   "cell_type": "markdown",
   "id": "81065332",
   "metadata": {},
   "source": [
    "# MODEL-62"
   ]
  },
  {
   "cell_type": "code",
   "execution_count": 161,
   "id": "7a0c3fe0",
   "metadata": {},
   "outputs": [
    {
     "data": {
      "text/plain": [
       "'BldgType_Duplex'"
      ]
     },
     "execution_count": 161,
     "metadata": {},
     "output_type": "execute_result"
    }
   ],
   "source": [
    "model.pvalues.sort_values().index[-1]"
   ]
  },
  {
   "cell_type": "code",
   "execution_count": 162,
   "id": "957e399e",
   "metadata": {},
   "outputs": [
    {
     "data": {
      "text/plain": [
       "0.929"
      ]
     },
     "execution_count": 162,
     "metadata": {},
     "output_type": "execute_result"
    }
   ],
   "source": [
    "columns_to_be_dropped =model.pvalues.sort_values().index[-1]\n",
    "Xnew= Xnew.drop(labels=columns_to_be_dropped,axis=1)\n",
    "\n",
    "from sklearn.model_selection import train_test_split\n",
    "xtrain,xtest,ytrain,ytest=train_test_split(Xnew,Y,test_size=0.2,random_state=31)\n",
    "\n",
    "from statsmodels.api import OLS, add_constant\n",
    "xconst=add_constant(xtrain,has_constant=\"add\")\n",
    "ols= OLS(ytrain,xconst)\n",
    "model=ols.fit()\n",
    "\n",
    "round(model.rsquared_adj,4)"
   ]
  },
  {
   "cell_type": "markdown",
   "id": "7519e12f",
   "metadata": {},
   "source": [
    "# MODEL-63"
   ]
  },
  {
   "cell_type": "code",
   "execution_count": 163,
   "id": "13069ff0",
   "metadata": {},
   "outputs": [
    {
     "data": {
      "text/plain": [
       "'GarageType_BuiltIn'"
      ]
     },
     "execution_count": 163,
     "metadata": {},
     "output_type": "execute_result"
    }
   ],
   "source": [
    "model.pvalues.sort_values().index[-1]"
   ]
  },
  {
   "cell_type": "code",
   "execution_count": 164,
   "id": "9183be0f",
   "metadata": {},
   "outputs": [
    {
     "data": {
      "text/plain": [
       "0.929"
      ]
     },
     "execution_count": 164,
     "metadata": {},
     "output_type": "execute_result"
    }
   ],
   "source": [
    "columns_to_be_dropped =model.pvalues.sort_values().index[-1]\n",
    "Xnew= Xnew.drop(labels=columns_to_be_dropped,axis=1)\n",
    "\n",
    "from sklearn.model_selection import train_test_split\n",
    "xtrain,xtest,ytrain,ytest=train_test_split(Xnew,Y,test_size=0.2,random_state=31)\n",
    "\n",
    "from statsmodels.api import OLS, add_constant\n",
    "xconst=add_constant(xtrain,has_constant=\"add\")\n",
    "ols= OLS(ytrain,xconst)\n",
    "model=ols.fit()\n",
    "\n",
    "round(model.rsquared_adj,4)"
   ]
  },
  {
   "cell_type": "markdown",
   "id": "7d9df6fe",
   "metadata": {},
   "source": [
    "# MODEL-64"
   ]
  },
  {
   "cell_type": "code",
   "execution_count": 165,
   "id": "f2fac1f3",
   "metadata": {},
   "outputs": [
    {
     "data": {
      "text/plain": [
       "'GarageType_Detchd'"
      ]
     },
     "execution_count": 165,
     "metadata": {},
     "output_type": "execute_result"
    }
   ],
   "source": [
    "model.pvalues.sort_values().index[-1]"
   ]
  },
  {
   "cell_type": "code",
   "execution_count": 166,
   "id": "656a07e1",
   "metadata": {},
   "outputs": [
    {
     "data": {
      "text/plain": [
       "0.9291"
      ]
     },
     "execution_count": 166,
     "metadata": {},
     "output_type": "execute_result"
    }
   ],
   "source": [
    "columns_to_be_dropped =model.pvalues.sort_values().index[-1]\n",
    "Xnew= Xnew.drop(labels=columns_to_be_dropped,axis=1)\n",
    "\n",
    "from sklearn.model_selection import train_test_split\n",
    "xtrain,xtest,ytrain,ytest=train_test_split(Xnew,Y,test_size=0.2,random_state=31)\n",
    "\n",
    "from statsmodels.api import OLS, add_constant\n",
    "xconst=add_constant(xtrain,has_constant=\"add\")\n",
    "ols= OLS(ytrain,xconst)\n",
    "model=ols.fit()\n",
    "\n",
    "round(model.rsquared_adj,4)"
   ]
  },
  {
   "cell_type": "markdown",
   "id": "c606056a",
   "metadata": {},
   "source": [
    "# MODEL-65"
   ]
  },
  {
   "cell_type": "code",
   "execution_count": 167,
   "id": "e734f309",
   "metadata": {},
   "outputs": [
    {
     "data": {
      "text/plain": [
       "'GarageType_Basment'"
      ]
     },
     "execution_count": 167,
     "metadata": {},
     "output_type": "execute_result"
    }
   ],
   "source": [
    "model.pvalues.sort_values().index[-1]"
   ]
  },
  {
   "cell_type": "code",
   "execution_count": 168,
   "id": "4133eeb4",
   "metadata": {},
   "outputs": [
    {
     "data": {
      "text/plain": [
       "0.9292"
      ]
     },
     "execution_count": 168,
     "metadata": {},
     "output_type": "execute_result"
    }
   ],
   "source": [
    "columns_to_be_dropped =model.pvalues.sort_values().index[-1]\n",
    "Xnew= Xnew.drop(labels=columns_to_be_dropped,axis=1)\n",
    "\n",
    "from sklearn.model_selection import train_test_split\n",
    "xtrain,xtest,ytrain,ytest=train_test_split(Xnew,Y,test_size=0.2,random_state=31)\n",
    "\n",
    "from statsmodels.api import OLS, add_constant\n",
    "xconst=add_constant(xtrain,has_constant=\"add\")\n",
    "ols= OLS(ytrain,xconst)\n",
    "model=ols.fit()\n",
    "\n",
    "round(model.rsquared_adj,4)"
   ]
  },
  {
   "cell_type": "markdown",
   "id": "1d122549",
   "metadata": {},
   "source": [
    "# MODEL-66"
   ]
  },
  {
   "cell_type": "code",
   "execution_count": 169,
   "id": "b1e6c226",
   "metadata": {},
   "outputs": [
    {
     "data": {
      "text/plain": [
       "'BsmtExposure_Av'"
      ]
     },
     "execution_count": 169,
     "metadata": {},
     "output_type": "execute_result"
    }
   ],
   "source": [
    "model.pvalues.sort_values().index[-1]"
   ]
  },
  {
   "cell_type": "code",
   "execution_count": 170,
   "id": "b3f73077",
   "metadata": {},
   "outputs": [
    {
     "data": {
      "text/plain": [
       "0.9292"
      ]
     },
     "execution_count": 170,
     "metadata": {},
     "output_type": "execute_result"
    }
   ],
   "source": [
    "columns_to_be_dropped =model.pvalues.sort_values().index[-1]\n",
    "Xnew= Xnew.drop(labels=columns_to_be_dropped,axis=1)\n",
    "\n",
    "from sklearn.model_selection import train_test_split\n",
    "xtrain,xtest,ytrain,ytest=train_test_split(Xnew,Y,test_size=0.2,random_state=31)\n",
    "\n",
    "from statsmodels.api import OLS, add_constant\n",
    "xconst=add_constant(xtrain,has_constant=\"add\")\n",
    "ols= OLS(ytrain,xconst)\n",
    "model=ols.fit()\n",
    "\n",
    "round(model.rsquared_adj,4)"
   ]
  },
  {
   "cell_type": "markdown",
   "id": "edd182ab",
   "metadata": {},
   "source": [
    "# MODEL-67"
   ]
  },
  {
   "cell_type": "code",
   "execution_count": 171,
   "id": "c2023758",
   "metadata": {},
   "outputs": [
    {
     "data": {
      "text/plain": [
       "'Heating_GasA'"
      ]
     },
     "execution_count": 171,
     "metadata": {},
     "output_type": "execute_result"
    }
   ],
   "source": [
    "model.pvalues.sort_values().index[-1]"
   ]
  },
  {
   "cell_type": "code",
   "execution_count": 172,
   "id": "33b3cd06",
   "metadata": {},
   "outputs": [
    {
     "data": {
      "text/plain": [
       "0.9292"
      ]
     },
     "execution_count": 172,
     "metadata": {},
     "output_type": "execute_result"
    }
   ],
   "source": [
    "columns_to_be_dropped =model.pvalues.sort_values().index[-1]\n",
    "Xnew= Xnew.drop(labels=columns_to_be_dropped,axis=1)\n",
    "\n",
    "from sklearn.model_selection import train_test_split\n",
    "xtrain,xtest,ytrain,ytest=train_test_split(Xnew,Y,test_size=0.2,random_state=31)\n",
    "\n",
    "from statsmodels.api import OLS, add_constant\n",
    "xconst=add_constant(xtrain,has_constant=\"add\")\n",
    "ols= OLS(ytrain,xconst)\n",
    "model=ols.fit()\n",
    "\n",
    "round(model.rsquared_adj,4)"
   ]
  },
  {
   "cell_type": "markdown",
   "id": "5e93e41a",
   "metadata": {},
   "source": [
    "# MODEL-68"
   ]
  },
  {
   "cell_type": "code",
   "execution_count": 173,
   "id": "15ba7fb2",
   "metadata": {},
   "outputs": [
    {
     "data": {
      "text/plain": [
       "'SaleType_ConLw'"
      ]
     },
     "execution_count": 173,
     "metadata": {},
     "output_type": "execute_result"
    }
   ],
   "source": [
    "model.pvalues.sort_values().index[-1]"
   ]
  },
  {
   "cell_type": "code",
   "execution_count": 174,
   "id": "22e2b7bb",
   "metadata": {},
   "outputs": [
    {
     "data": {
      "text/plain": [
       "0.9293"
      ]
     },
     "execution_count": 174,
     "metadata": {},
     "output_type": "execute_result"
    }
   ],
   "source": [
    "columns_to_be_dropped =model.pvalues.sort_values().index[-1]\n",
    "Xnew= Xnew.drop(labels=columns_to_be_dropped,axis=1)\n",
    "\n",
    "from sklearn.model_selection import train_test_split\n",
    "xtrain,xtest,ytrain,ytest=train_test_split(Xnew,Y,test_size=0.2,random_state=31)\n",
    "\n",
    "from statsmodels.api import OLS, add_constant\n",
    "xconst=add_constant(xtrain,has_constant=\"add\")\n",
    "ols= OLS(ytrain,xconst)\n",
    "model=ols.fit()\n",
    "\n",
    "round(model.rsquared_adj,4)"
   ]
  },
  {
   "cell_type": "markdown",
   "id": "9a74cbea",
   "metadata": {},
   "source": [
    "# MODEL-69"
   ]
  },
  {
   "cell_type": "code",
   "execution_count": 175,
   "id": "8d8bb05c",
   "metadata": {},
   "outputs": [
    {
     "data": {
      "text/plain": [
       "'BsmtFinType2_ALQ'"
      ]
     },
     "execution_count": 175,
     "metadata": {},
     "output_type": "execute_result"
    }
   ],
   "source": [
    "model.pvalues.sort_values().index[-1]"
   ]
  },
  {
   "cell_type": "code",
   "execution_count": 176,
   "id": "1e8f455f",
   "metadata": {},
   "outputs": [
    {
     "data": {
      "text/plain": [
       "0.9294"
      ]
     },
     "execution_count": 176,
     "metadata": {},
     "output_type": "execute_result"
    }
   ],
   "source": [
    "columns_to_be_dropped =model.pvalues.sort_values().index[-1]\n",
    "Xnew= Xnew.drop(labels=columns_to_be_dropped,axis=1)\n",
    "\n",
    "from sklearn.model_selection import train_test_split\n",
    "xtrain,xtest,ytrain,ytest=train_test_split(Xnew,Y,test_size=0.2,random_state=31)\n",
    "\n",
    "from statsmodels.api import OLS, add_constant\n",
    "xconst=add_constant(xtrain,has_constant=\"add\")\n",
    "ols= OLS(ytrain,xconst)\n",
    "model=ols.fit()\n",
    "\n",
    "round(model.rsquared_adj,4)"
   ]
  },
  {
   "cell_type": "markdown",
   "id": "43bec0fe",
   "metadata": {},
   "source": [
    "# MODEL-70"
   ]
  },
  {
   "cell_type": "code",
   "execution_count": 177,
   "id": "cca0c03d",
   "metadata": {},
   "outputs": [
    {
     "data": {
      "text/plain": [
       "'BsmtFinType1_LwQ'"
      ]
     },
     "execution_count": 177,
     "metadata": {},
     "output_type": "execute_result"
    }
   ],
   "source": [
    "model.pvalues.sort_values().index[-1]"
   ]
  },
  {
   "cell_type": "code",
   "execution_count": 178,
   "id": "36437354",
   "metadata": {},
   "outputs": [
    {
     "data": {
      "text/plain": [
       "0.9295"
      ]
     },
     "execution_count": 178,
     "metadata": {},
     "output_type": "execute_result"
    }
   ],
   "source": [
    "columns_to_be_dropped =model.pvalues.sort_values().index[-1]\n",
    "Xnew= Xnew.drop(labels=columns_to_be_dropped,axis=1)\n",
    "\n",
    "from sklearn.model_selection import train_test_split\n",
    "xtrain,xtest,ytrain,ytest=train_test_split(Xnew,Y,test_size=0.2,random_state=31)\n",
    "\n",
    "from statsmodels.api import OLS, add_constant\n",
    "xconst=add_constant(xtrain,has_constant=\"add\")\n",
    "ols= OLS(ytrain,xconst)\n",
    "model=ols.fit()\n",
    "\n",
    "round(model.rsquared_adj,4)"
   ]
  },
  {
   "cell_type": "markdown",
   "id": "56e8f09d",
   "metadata": {},
   "source": [
    "# MODEL-71"
   ]
  },
  {
   "cell_type": "code",
   "execution_count": 179,
   "id": "4d64dd21",
   "metadata": {},
   "outputs": [
    {
     "data": {
      "text/plain": [
       "'BldgType_TwnhsE'"
      ]
     },
     "execution_count": 179,
     "metadata": {},
     "output_type": "execute_result"
    }
   ],
   "source": [
    "model.pvalues.sort_values().index[-1]"
   ]
  },
  {
   "cell_type": "code",
   "execution_count": 180,
   "id": "656062a0",
   "metadata": {},
   "outputs": [
    {
     "data": {
      "text/plain": [
       "0.9296"
      ]
     },
     "execution_count": 180,
     "metadata": {},
     "output_type": "execute_result"
    }
   ],
   "source": [
    "columns_to_be_dropped =model.pvalues.sort_values().index[-1]\n",
    "Xnew= Xnew.drop(labels=columns_to_be_dropped,axis=1)\n",
    "\n",
    "from sklearn.model_selection import train_test_split\n",
    "xtrain,xtest,ytrain,ytest=train_test_split(Xnew,Y,test_size=0.2,random_state=31)\n",
    "\n",
    "from statsmodels.api import OLS, add_constant\n",
    "xconst=add_constant(xtrain,has_constant=\"add\")\n",
    "ols= OLS(ytrain,xconst)\n",
    "model=ols.fit()\n",
    "\n",
    "round(model.rsquared_adj,4)"
   ]
  },
  {
   "cell_type": "markdown",
   "id": "8ed8f9a5",
   "metadata": {},
   "source": [
    "# MODEL-72"
   ]
  },
  {
   "cell_type": "code",
   "execution_count": 181,
   "id": "1665fa0b",
   "metadata": {},
   "outputs": [
    {
     "data": {
      "text/plain": [
       "'Exterior2nd_CBlock'"
      ]
     },
     "execution_count": 181,
     "metadata": {},
     "output_type": "execute_result"
    }
   ],
   "source": [
    "model.pvalues.sort_values().index[-1]"
   ]
  },
  {
   "cell_type": "code",
   "execution_count": 182,
   "id": "fa1f77ac",
   "metadata": {},
   "outputs": [
    {
     "data": {
      "text/plain": [
       "0.9296"
      ]
     },
     "execution_count": 182,
     "metadata": {},
     "output_type": "execute_result"
    }
   ],
   "source": [
    "columns_to_be_dropped =model.pvalues.sort_values().index[-1]\n",
    "Xnew= Xnew.drop(labels=columns_to_be_dropped,axis=1)\n",
    "\n",
    "from sklearn.model_selection import train_test_split\n",
    "xtrain,xtest,ytrain,ytest=train_test_split(Xnew,Y,test_size=0.2,random_state=31)\n",
    "\n",
    "from statsmodels.api import OLS, add_constant\n",
    "xconst=add_constant(xtrain,has_constant=\"add\")\n",
    "ols= OLS(ytrain,xconst)\n",
    "model=ols.fit()\n",
    "\n",
    "round(model.rsquared_adj,4)"
   ]
  },
  {
   "cell_type": "markdown",
   "id": "6b88ae6c",
   "metadata": {},
   "source": [
    "# MODEL-73"
   ]
  },
  {
   "cell_type": "code",
   "execution_count": 183,
   "id": "4d977f28",
   "metadata": {},
   "outputs": [
    {
     "data": {
      "text/plain": [
       "'Exterior1st_CBlock'"
      ]
     },
     "execution_count": 183,
     "metadata": {},
     "output_type": "execute_result"
    }
   ],
   "source": [
    "model.pvalues.sort_values().index[-1]"
   ]
  },
  {
   "cell_type": "code",
   "execution_count": 184,
   "id": "3023ebb4",
   "metadata": {},
   "outputs": [
    {
     "data": {
      "text/plain": [
       "0.9297"
      ]
     },
     "execution_count": 184,
     "metadata": {},
     "output_type": "execute_result"
    }
   ],
   "source": [
    "columns_to_be_dropped =model.pvalues.sort_values().index[-1]\n",
    "Xnew= Xnew.drop(labels=columns_to_be_dropped,axis=1)\n",
    "\n",
    "from sklearn.model_selection import train_test_split\n",
    "xtrain,xtest,ytrain,ytest=train_test_split(Xnew,Y,test_size=0.2,random_state=31)\n",
    "\n",
    "from statsmodels.api import OLS, add_constant\n",
    "xconst=add_constant(xtrain,has_constant=\"add\")\n",
    "ols= OLS(ytrain,xconst)\n",
    "model=ols.fit()\n",
    "\n",
    "round(model.rsquared_adj,4)"
   ]
  },
  {
   "cell_type": "markdown",
   "id": "cf054e9d",
   "metadata": {},
   "source": [
    "# MODEL-74"
   ]
  },
  {
   "cell_type": "code",
   "execution_count": 185,
   "id": "c22ed29b",
   "metadata": {},
   "outputs": [
    {
     "data": {
      "text/plain": [
       "'HouseStyle_SFoyer'"
      ]
     },
     "execution_count": 185,
     "metadata": {},
     "output_type": "execute_result"
    }
   ],
   "source": [
    "model.pvalues.sort_values().index[-1]"
   ]
  },
  {
   "cell_type": "code",
   "execution_count": 186,
   "id": "a3fcbe8d",
   "metadata": {},
   "outputs": [
    {
     "data": {
      "text/plain": [
       "0.9298"
      ]
     },
     "execution_count": 186,
     "metadata": {},
     "output_type": "execute_result"
    }
   ],
   "source": [
    "columns_to_be_dropped =model.pvalues.sort_values().index[-1]\n",
    "Xnew= Xnew.drop(labels=columns_to_be_dropped,axis=1)\n",
    "\n",
    "from sklearn.model_selection import train_test_split\n",
    "xtrain,xtest,ytrain,ytest=train_test_split(Xnew,Y,test_size=0.2,random_state=31)\n",
    "\n",
    "from statsmodels.api import OLS, add_constant\n",
    "xconst=add_constant(xtrain,has_constant=\"add\")\n",
    "ols= OLS(ytrain,xconst)\n",
    "model=ols.fit()\n",
    "\n",
    "round(model.rsquared_adj,4)"
   ]
  },
  {
   "cell_type": "markdown",
   "id": "9b1ad7c6",
   "metadata": {},
   "source": [
    "# MODEL-75"
   ]
  },
  {
   "cell_type": "code",
   "execution_count": 187,
   "id": "9568a95e",
   "metadata": {},
   "outputs": [
    {
     "data": {
      "text/plain": [
       "'FullBath'"
      ]
     },
     "execution_count": 187,
     "metadata": {},
     "output_type": "execute_result"
    }
   ],
   "source": [
    "model.pvalues.sort_values().index[-1]"
   ]
  },
  {
   "cell_type": "code",
   "execution_count": 188,
   "id": "6dd4988c",
   "metadata": {},
   "outputs": [
    {
     "data": {
      "text/plain": [
       "0.9299"
      ]
     },
     "execution_count": 188,
     "metadata": {},
     "output_type": "execute_result"
    }
   ],
   "source": [
    "columns_to_be_dropped =model.pvalues.sort_values().index[-1]\n",
    "Xnew= Xnew.drop(labels=columns_to_be_dropped,axis=1)\n",
    "\n",
    "from sklearn.model_selection import train_test_split\n",
    "xtrain,xtest,ytrain,ytest=train_test_split(Xnew,Y,test_size=0.2,random_state=31)\n",
    "\n",
    "from statsmodels.api import OLS, add_constant\n",
    "xconst=add_constant(xtrain,has_constant=\"add\")\n",
    "ols= OLS(ytrain,xconst)\n",
    "model=ols.fit()\n",
    "\n",
    "round(model.rsquared_adj,4)"
   ]
  },
  {
   "cell_type": "markdown",
   "id": "73430109",
   "metadata": {},
   "source": [
    "# MODEL-76"
   ]
  },
  {
   "cell_type": "code",
   "execution_count": 189,
   "id": "09caa68f",
   "metadata": {},
   "outputs": [
    {
     "data": {
      "text/plain": [
       "'SaleType_ConLI'"
      ]
     },
     "execution_count": 189,
     "metadata": {},
     "output_type": "execute_result"
    }
   ],
   "source": [
    "model.pvalues.sort_values().index[-1]"
   ]
  },
  {
   "cell_type": "code",
   "execution_count": 190,
   "id": "7d918291",
   "metadata": {},
   "outputs": [
    {
     "data": {
      "text/plain": [
       "0.9299"
      ]
     },
     "execution_count": 190,
     "metadata": {},
     "output_type": "execute_result"
    }
   ],
   "source": [
    "columns_to_be_dropped =model.pvalues.sort_values().index[-1]\n",
    "Xnew= Xnew.drop(labels=columns_to_be_dropped,axis=1)\n",
    "\n",
    "from sklearn.model_selection import train_test_split\n",
    "xtrain,xtest,ytrain,ytest=train_test_split(Xnew,Y,test_size=0.2,random_state=31)\n",
    "\n",
    "from statsmodels.api import OLS, add_constant\n",
    "xconst=add_constant(xtrain,has_constant=\"add\")\n",
    "ols= OLS(ytrain,xconst)\n",
    "model=ols.fit()\n",
    "\n",
    "round(model.rsquared_adj,4)"
   ]
  },
  {
   "cell_type": "markdown",
   "id": "4d0c729b",
   "metadata": {},
   "source": [
    "# MODEL-77"
   ]
  },
  {
   "cell_type": "code",
   "execution_count": 191,
   "id": "594baaf7",
   "metadata": {},
   "outputs": [
    {
     "data": {
      "text/plain": [
       "'Exterior2nd_BrkFace'"
      ]
     },
     "execution_count": 191,
     "metadata": {},
     "output_type": "execute_result"
    }
   ],
   "source": [
    "model.pvalues.sort_values().index[-1]"
   ]
  },
  {
   "cell_type": "code",
   "execution_count": 192,
   "id": "c3a1545e",
   "metadata": {},
   "outputs": [
    {
     "data": {
      "text/plain": [
       "0.93"
      ]
     },
     "execution_count": 192,
     "metadata": {},
     "output_type": "execute_result"
    }
   ],
   "source": [
    "columns_to_be_dropped =model.pvalues.sort_values().index[-1]\n",
    "Xnew= Xnew.drop(labels=columns_to_be_dropped,axis=1)\n",
    "\n",
    "from sklearn.model_selection import train_test_split\n",
    "xtrain,xtest,ytrain,ytest=train_test_split(Xnew,Y,test_size=0.2,random_state=31)\n",
    "\n",
    "from statsmodels.api import OLS, add_constant\n",
    "xconst=add_constant(xtrain,has_constant=\"add\")\n",
    "ols= OLS(ytrain,xconst)\n",
    "model=ols.fit()\n",
    "\n",
    "round(model.rsquared_adj,4)"
   ]
  },
  {
   "cell_type": "markdown",
   "id": "491d7650",
   "metadata": {},
   "source": [
    "# MODEL-78"
   ]
  },
  {
   "cell_type": "code",
   "execution_count": 193,
   "id": "d25c4b95",
   "metadata": {},
   "outputs": [
    {
     "data": {
      "text/plain": [
       "'Condition1_RRAn'"
      ]
     },
     "execution_count": 193,
     "metadata": {},
     "output_type": "execute_result"
    }
   ],
   "source": [
    "model.pvalues.sort_values().index[-1]"
   ]
  },
  {
   "cell_type": "code",
   "execution_count": 194,
   "id": "c998f3c7",
   "metadata": {},
   "outputs": [
    {
     "data": {
      "text/plain": [
       "0.93"
      ]
     },
     "execution_count": 194,
     "metadata": {},
     "output_type": "execute_result"
    }
   ],
   "source": [
    "columns_to_be_dropped =model.pvalues.sort_values().index[-1]\n",
    "Xnew= Xnew.drop(labels=columns_to_be_dropped,axis=1)\n",
    "\n",
    "from sklearn.model_selection import train_test_split\n",
    "xtrain,xtest,ytrain,ytest=train_test_split(Xnew,Y,test_size=0.2,random_state=31)\n",
    "\n",
    "from statsmodels.api import OLS, add_constant\n",
    "xconst=add_constant(xtrain,has_constant=\"add\")\n",
    "ols= OLS(ytrain,xconst)\n",
    "model=ols.fit()\n",
    "\n",
    "round(model.rsquared_adj,4)"
   ]
  },
  {
   "cell_type": "markdown",
   "id": "81e95b85",
   "metadata": {},
   "source": [
    "# MODEL-79"
   ]
  },
  {
   "cell_type": "code",
   "execution_count": 195,
   "id": "edaf9090",
   "metadata": {},
   "outputs": [
    {
     "data": {
      "text/plain": [
       "'Condition1_Feedr'"
      ]
     },
     "execution_count": 195,
     "metadata": {},
     "output_type": "execute_result"
    }
   ],
   "source": [
    "model.pvalues.sort_values().index[-1]"
   ]
  },
  {
   "cell_type": "code",
   "execution_count": 196,
   "id": "76621c52",
   "metadata": {},
   "outputs": [
    {
     "data": {
      "text/plain": [
       "0.9301"
      ]
     },
     "execution_count": 196,
     "metadata": {},
     "output_type": "execute_result"
    }
   ],
   "source": [
    "columns_to_be_dropped =model.pvalues.sort_values().index[-1]\n",
    "Xnew= Xnew.drop(labels=columns_to_be_dropped,axis=1)\n",
    "\n",
    "from sklearn.model_selection import train_test_split\n",
    "xtrain,xtest,ytrain,ytest=train_test_split(Xnew,Y,test_size=0.2,random_state=31)\n",
    "\n",
    "from statsmodels.api import OLS, add_constant\n",
    "xconst=add_constant(xtrain,has_constant=\"add\")\n",
    "ols= OLS(ytrain,xconst)\n",
    "model=ols.fit()\n",
    "\n",
    "round(model.rsquared_adj,4)"
   ]
  },
  {
   "cell_type": "markdown",
   "id": "4a4d1ce9",
   "metadata": {},
   "source": [
    "# MODEL-80"
   ]
  },
  {
   "cell_type": "code",
   "execution_count": 197,
   "id": "f95963ed",
   "metadata": {},
   "outputs": [
    {
     "data": {
      "text/plain": [
       "'Fence_MnWw'"
      ]
     },
     "execution_count": 197,
     "metadata": {},
     "output_type": "execute_result"
    }
   ],
   "source": [
    "model.pvalues.sort_values().index[-1]"
   ]
  },
  {
   "cell_type": "code",
   "execution_count": 198,
   "id": "ddc6a76b",
   "metadata": {},
   "outputs": [
    {
     "data": {
      "text/plain": [
       "0.9301"
      ]
     },
     "execution_count": 198,
     "metadata": {},
     "output_type": "execute_result"
    }
   ],
   "source": [
    "columns_to_be_dropped =model.pvalues.sort_values().index[-1]\n",
    "Xnew= Xnew.drop(labels=columns_to_be_dropped,axis=1)\n",
    "\n",
    "from sklearn.model_selection import train_test_split\n",
    "xtrain,xtest,ytrain,ytest=train_test_split(Xnew,Y,test_size=0.2,random_state=31)\n",
    "\n",
    "from statsmodels.api import OLS, add_constant\n",
    "xconst=add_constant(xtrain,has_constant=\"add\")\n",
    "ols= OLS(ytrain,xconst)\n",
    "model=ols.fit()\n",
    "\n",
    "round(model.rsquared_adj,4)"
   ]
  },
  {
   "cell_type": "markdown",
   "id": "f3f884c5",
   "metadata": {},
   "source": [
    "# MODEL-81"
   ]
  },
  {
   "cell_type": "code",
   "execution_count": 199,
   "id": "b1501a98",
   "metadata": {},
   "outputs": [
    {
     "data": {
      "text/plain": [
       "'Alley_Pave'"
      ]
     },
     "execution_count": 199,
     "metadata": {},
     "output_type": "execute_result"
    }
   ],
   "source": [
    "model.pvalues.sort_values().index[-1]"
   ]
  },
  {
   "cell_type": "code",
   "execution_count": 200,
   "id": "d1edcad4",
   "metadata": {},
   "outputs": [
    {
     "data": {
      "text/plain": [
       "0.9301"
      ]
     },
     "execution_count": 200,
     "metadata": {},
     "output_type": "execute_result"
    }
   ],
   "source": [
    "columns_to_be_dropped =model.pvalues.sort_values().index[-1]\n",
    "Xnew= Xnew.drop(labels=columns_to_be_dropped,axis=1)\n",
    "\n",
    "from sklearn.model_selection import train_test_split\n",
    "xtrain,xtest,ytrain,ytest=train_test_split(Xnew,Y,test_size=0.2,random_state=31)\n",
    "\n",
    "from statsmodels.api import OLS, add_constant\n",
    "xconst=add_constant(xtrain,has_constant=\"add\")\n",
    "ols= OLS(ytrain,xconst)\n",
    "model=ols.fit()\n",
    "\n",
    "round(model.rsquared_adj,4)"
   ]
  },
  {
   "cell_type": "markdown",
   "id": "86708075",
   "metadata": {},
   "source": [
    "# MODEL-82"
   ]
  },
  {
   "cell_type": "code",
   "execution_count": 201,
   "id": "079e7c7d",
   "metadata": {},
   "outputs": [
    {
     "data": {
      "text/plain": [
       "'Alley_noAcess'"
      ]
     },
     "execution_count": 201,
     "metadata": {},
     "output_type": "execute_result"
    }
   ],
   "source": [
    "model.pvalues.sort_values().index[-1]"
   ]
  },
  {
   "cell_type": "code",
   "execution_count": 202,
   "id": "f77a889d",
   "metadata": {},
   "outputs": [
    {
     "data": {
      "text/plain": [
       "0.9302"
      ]
     },
     "execution_count": 202,
     "metadata": {},
     "output_type": "execute_result"
    }
   ],
   "source": [
    "columns_to_be_dropped =model.pvalues.sort_values().index[-1]\n",
    "Xnew= Xnew.drop(labels=columns_to_be_dropped,axis=1)\n",
    "\n",
    "from sklearn.model_selection import train_test_split\n",
    "xtrain,xtest,ytrain,ytest=train_test_split(Xnew,Y,test_size=0.2,random_state=31)\n",
    "\n",
    "from statsmodels.api import OLS, add_constant\n",
    "xconst=add_constant(xtrain,has_constant=\"add\")\n",
    "ols= OLS(ytrain,xconst)\n",
    "model=ols.fit()\n",
    "\n",
    "round(model.rsquared_adj,4)"
   ]
  },
  {
   "cell_type": "markdown",
   "id": "0e45731e",
   "metadata": {},
   "source": [
    "# MODEL-83"
   ]
  },
  {
   "cell_type": "code",
   "execution_count": 203,
   "id": "457fef5b",
   "metadata": {},
   "outputs": [
    {
     "data": {
      "text/plain": [
       "'Alley_Grvl'"
      ]
     },
     "execution_count": 203,
     "metadata": {},
     "output_type": "execute_result"
    }
   ],
   "source": [
    "model.pvalues.sort_values().index[-1]"
   ]
  },
  {
   "cell_type": "code",
   "execution_count": 204,
   "id": "34677a7e",
   "metadata": {},
   "outputs": [
    {
     "data": {
      "text/plain": [
       "0.9303"
      ]
     },
     "execution_count": 204,
     "metadata": {},
     "output_type": "execute_result"
    }
   ],
   "source": [
    "columns_to_be_dropped =model.pvalues.sort_values().index[-1]\n",
    "Xnew= Xnew.drop(labels=columns_to_be_dropped,axis=1)\n",
    "\n",
    "from sklearn.model_selection import train_test_split\n",
    "xtrain,xtest,ytrain,ytest=train_test_split(Xnew,Y,test_size=0.2,random_state=31)\n",
    "\n",
    "from statsmodels.api import OLS, add_constant\n",
    "xconst=add_constant(xtrain,has_constant=\"add\")\n",
    "ols= OLS(ytrain,xconst)\n",
    "model=ols.fit()\n",
    "\n",
    "round(model.rsquared_adj,4)"
   ]
  },
  {
   "cell_type": "markdown",
   "id": "7a373729",
   "metadata": {},
   "source": [
    "# MODEL-84"
   ]
  },
  {
   "cell_type": "code",
   "execution_count": 205,
   "id": "190af124",
   "metadata": {},
   "outputs": [
    {
     "data": {
      "text/plain": [
       "'GarageCond_Ex'"
      ]
     },
     "execution_count": 205,
     "metadata": {},
     "output_type": "execute_result"
    }
   ],
   "source": [
    "model.pvalues.sort_values().index[-1]"
   ]
  },
  {
   "cell_type": "code",
   "execution_count": 206,
   "id": "bd6688cc",
   "metadata": {},
   "outputs": [
    {
     "data": {
      "text/plain": [
       "0.9303"
      ]
     },
     "execution_count": 206,
     "metadata": {},
     "output_type": "execute_result"
    }
   ],
   "source": [
    "columns_to_be_dropped =model.pvalues.sort_values().index[-1]\n",
    "Xnew= Xnew.drop(labels=columns_to_be_dropped,axis=1)\n",
    "\n",
    "from sklearn.model_selection import train_test_split\n",
    "xtrain,xtest,ytrain,ytest=train_test_split(Xnew,Y,test_size=0.2,random_state=31)\n",
    "\n",
    "from statsmodels.api import OLS, add_constant\n",
    "xconst=add_constant(xtrain,has_constant=\"add\")\n",
    "ols= OLS(ytrain,xconst)\n",
    "model=ols.fit()\n",
    "\n",
    "round(model.rsquared_adj,4)"
   ]
  },
  {
   "cell_type": "markdown",
   "id": "b5c0a213",
   "metadata": {},
   "source": [
    "# MODEL-85"
   ]
  },
  {
   "cell_type": "code",
   "execution_count": 207,
   "id": "932b2bc3",
   "metadata": {},
   "outputs": [
    {
     "data": {
      "text/plain": [
       "'GarageQual_TA'"
      ]
     },
     "execution_count": 207,
     "metadata": {},
     "output_type": "execute_result"
    }
   ],
   "source": [
    "model.pvalues.sort_values().index[-1]"
   ]
  },
  {
   "cell_type": "code",
   "execution_count": 208,
   "id": "6a306990",
   "metadata": {},
   "outputs": [
    {
     "data": {
      "text/plain": [
       "0.9303"
      ]
     },
     "execution_count": 208,
     "metadata": {},
     "output_type": "execute_result"
    }
   ],
   "source": [
    "columns_to_be_dropped =model.pvalues.sort_values().index[-1]\n",
    "Xnew= Xnew.drop(labels=columns_to_be_dropped,axis=1)\n",
    "\n",
    "from sklearn.model_selection import train_test_split\n",
    "xtrain,xtest,ytrain,ytest=train_test_split(Xnew,Y,test_size=0.2,random_state=31)\n",
    "\n",
    "from statsmodels.api import OLS, add_constant\n",
    "xconst=add_constant(xtrain,has_constant=\"add\")\n",
    "ols= OLS(ytrain,xconst)\n",
    "model=ols.fit()\n",
    "\n",
    "round(model.rsquared_adj,4)"
   ]
  },
  {
   "cell_type": "markdown",
   "id": "961b27e9",
   "metadata": {},
   "source": [
    "# MODEL-86"
   ]
  },
  {
   "cell_type": "code",
   "execution_count": 209,
   "id": "a40235ae",
   "metadata": {},
   "outputs": [
    {
     "data": {
      "text/plain": [
       "'GarageQual_Ex'"
      ]
     },
     "execution_count": 209,
     "metadata": {},
     "output_type": "execute_result"
    }
   ],
   "source": [
    "model.pvalues.sort_values().index[-1]"
   ]
  },
  {
   "cell_type": "code",
   "execution_count": 210,
   "id": "bafc7246",
   "metadata": {},
   "outputs": [
    {
     "data": {
      "text/plain": [
       "0.9304"
      ]
     },
     "execution_count": 210,
     "metadata": {},
     "output_type": "execute_result"
    }
   ],
   "source": [
    "columns_to_be_dropped =model.pvalues.sort_values().index[-1]\n",
    "Xnew= Xnew.drop(labels=columns_to_be_dropped,axis=1)\n",
    "\n",
    "from sklearn.model_selection import train_test_split\n",
    "xtrain,xtest,ytrain,ytest=train_test_split(Xnew,Y,test_size=0.2,random_state=31)\n",
    "\n",
    "from statsmodels.api import OLS, add_constant\n",
    "xconst=add_constant(xtrain,has_constant=\"add\")\n",
    "ols= OLS(ytrain,xconst)\n",
    "model=ols.fit()\n",
    "\n",
    "round(model.rsquared_adj,4)"
   ]
  },
  {
   "cell_type": "markdown",
   "id": "7b076cb7",
   "metadata": {},
   "source": [
    "# MODEL-87"
   ]
  },
  {
   "cell_type": "code",
   "execution_count": 211,
   "id": "69f5ac4a",
   "metadata": {},
   "outputs": [
    {
     "data": {
      "text/plain": [
       "'Neighborhood_Veenker'"
      ]
     },
     "execution_count": 211,
     "metadata": {},
     "output_type": "execute_result"
    }
   ],
   "source": [
    "model.pvalues.sort_values().index[-1]"
   ]
  },
  {
   "cell_type": "code",
   "execution_count": 212,
   "id": "c396f1c3",
   "metadata": {},
   "outputs": [
    {
     "data": {
      "text/plain": [
       "0.9305"
      ]
     },
     "execution_count": 212,
     "metadata": {},
     "output_type": "execute_result"
    }
   ],
   "source": [
    "columns_to_be_dropped =model.pvalues.sort_values().index[-1]\n",
    "Xnew= Xnew.drop(labels=columns_to_be_dropped,axis=1)\n",
    "\n",
    "from sklearn.model_selection import train_test_split\n",
    "xtrain,xtest,ytrain,ytest=train_test_split(Xnew,Y,test_size=0.2,random_state=31)\n",
    "\n",
    "from statsmodels.api import OLS, add_constant\n",
    "xconst=add_constant(xtrain,has_constant=\"add\")\n",
    "ols= OLS(ytrain,xconst)\n",
    "model=ols.fit()\n",
    "\n",
    "round(model.rsquared_adj,4)"
   ]
  },
  {
   "cell_type": "markdown",
   "id": "5cbb5403",
   "metadata": {},
   "source": [
    "# MODEL-88"
   ]
  },
  {
   "cell_type": "code",
   "execution_count": 213,
   "id": "f71a570d",
   "metadata": {},
   "outputs": [
    {
     "data": {
      "text/plain": [
       "'Exterior2nd_AsbShng'"
      ]
     },
     "execution_count": 213,
     "metadata": {},
     "output_type": "execute_result"
    }
   ],
   "source": [
    "model.pvalues.sort_values().index[-1]"
   ]
  },
  {
   "cell_type": "code",
   "execution_count": 214,
   "id": "5084f370",
   "metadata": {},
   "outputs": [
    {
     "data": {
      "text/plain": [
       "0.9305"
      ]
     },
     "execution_count": 214,
     "metadata": {},
     "output_type": "execute_result"
    }
   ],
   "source": [
    "columns_to_be_dropped =model.pvalues.sort_values().index[-1]\n",
    "Xnew= Xnew.drop(labels=columns_to_be_dropped,axis=1)\n",
    "\n",
    "from sklearn.model_selection import train_test_split\n",
    "xtrain,xtest,ytrain,ytest=train_test_split(Xnew,Y,test_size=0.2,random_state=31)\n",
    "\n",
    "from statsmodels.api import OLS, add_constant\n",
    "xconst=add_constant(xtrain,has_constant=\"add\")\n",
    "ols= OLS(ytrain,xconst)\n",
    "model=ols.fit()\n",
    "\n",
    "round(model.rsquared_adj,4)"
   ]
  },
  {
   "cell_type": "markdown",
   "id": "b74704c8",
   "metadata": {},
   "source": [
    "# MODEL-89"
   ]
  },
  {
   "cell_type": "code",
   "execution_count": 215,
   "id": "4e1b0f88",
   "metadata": {},
   "outputs": [
    {
     "data": {
      "text/plain": [
       "'Exterior2nd_Stone'"
      ]
     },
     "execution_count": 215,
     "metadata": {},
     "output_type": "execute_result"
    }
   ],
   "source": [
    "model.pvalues.sort_values().index[-1]"
   ]
  },
  {
   "cell_type": "code",
   "execution_count": 216,
   "id": "5fd2b6ec",
   "metadata": {},
   "outputs": [
    {
     "data": {
      "text/plain": [
       "0.9306"
      ]
     },
     "execution_count": 216,
     "metadata": {},
     "output_type": "execute_result"
    }
   ],
   "source": [
    "columns_to_be_dropped =model.pvalues.sort_values().index[-1]\n",
    "Xnew= Xnew.drop(labels=columns_to_be_dropped,axis=1)\n",
    "\n",
    "from sklearn.model_selection import train_test_split\n",
    "xtrain,xtest,ytrain,ytest=train_test_split(Xnew,Y,test_size=0.2,random_state=31)\n",
    "\n",
    "from statsmodels.api import OLS, add_constant\n",
    "xconst=add_constant(xtrain,has_constant=\"add\")\n",
    "ols= OLS(ytrain,xconst)\n",
    "model=ols.fit()\n",
    "\n",
    "round(model.rsquared_adj,4)"
   ]
  },
  {
   "cell_type": "markdown",
   "id": "86a2bf11",
   "metadata": {},
   "source": [
    "# MODEL-90"
   ]
  },
  {
   "cell_type": "code",
   "execution_count": 217,
   "id": "925e377d",
   "metadata": {},
   "outputs": [
    {
     "data": {
      "text/plain": [
       "'ExterQual_Gd'"
      ]
     },
     "execution_count": 217,
     "metadata": {},
     "output_type": "execute_result"
    }
   ],
   "source": [
    "model.pvalues.sort_values().index[-1]"
   ]
  },
  {
   "cell_type": "code",
   "execution_count": 218,
   "id": "98a02d24",
   "metadata": {},
   "outputs": [
    {
     "data": {
      "text/plain": [
       "0.9306"
      ]
     },
     "execution_count": 218,
     "metadata": {},
     "output_type": "execute_result"
    }
   ],
   "source": [
    "columns_to_be_dropped =model.pvalues.sort_values().index[-1]\n",
    "Xnew= Xnew.drop(labels=columns_to_be_dropped,axis=1)\n",
    "\n",
    "from sklearn.model_selection import train_test_split\n",
    "xtrain,xtest,ytrain,ytest=train_test_split(Xnew,Y,test_size=0.2,random_state=31)\n",
    "\n",
    "from statsmodels.api import OLS, add_constant\n",
    "xconst=add_constant(xtrain,has_constant=\"add\")\n",
    "ols= OLS(ytrain,xconst)\n",
    "model=ols.fit()\n",
    "\n",
    "round(model.rsquared_adj,4)"
   ]
  },
  {
   "cell_type": "markdown",
   "id": "6ffe9967",
   "metadata": {},
   "source": [
    "# MODEL-91"
   ]
  },
  {
   "cell_type": "code",
   "execution_count": 219,
   "id": "4f5c2faf",
   "metadata": {},
   "outputs": [
    {
     "data": {
      "text/plain": [
       "'ExterQual_TA'"
      ]
     },
     "execution_count": 219,
     "metadata": {},
     "output_type": "execute_result"
    }
   ],
   "source": [
    "model.pvalues.sort_values().index[-1]"
   ]
  },
  {
   "cell_type": "code",
   "execution_count": 220,
   "id": "63f58c20",
   "metadata": {},
   "outputs": [
    {
     "data": {
      "text/plain": [
       "0.9307"
      ]
     },
     "execution_count": 220,
     "metadata": {},
     "output_type": "execute_result"
    }
   ],
   "source": [
    "columns_to_be_dropped =model.pvalues.sort_values().index[-1]\n",
    "Xnew= Xnew.drop(labels=columns_to_be_dropped,axis=1)\n",
    "\n",
    "from sklearn.model_selection import train_test_split\n",
    "xtrain,xtest,ytrain,ytest=train_test_split(Xnew,Y,test_size=0.2,random_state=31)\n",
    "\n",
    "from statsmodels.api import OLS, add_constant\n",
    "xconst=add_constant(xtrain,has_constant=\"add\")\n",
    "ols= OLS(ytrain,xconst)\n",
    "model=ols.fit()\n",
    "\n",
    "round(model.rsquared_adj,4)"
   ]
  },
  {
   "cell_type": "markdown",
   "id": "7442b3e7",
   "metadata": {},
   "source": [
    "# MODEL-92"
   ]
  },
  {
   "cell_type": "code",
   "execution_count": 221,
   "id": "f70d8504",
   "metadata": {},
   "outputs": [
    {
     "data": {
      "text/plain": [
       "'SaleType_Con'"
      ]
     },
     "execution_count": 221,
     "metadata": {},
     "output_type": "execute_result"
    }
   ],
   "source": [
    "model.pvalues.sort_values().index[-1]"
   ]
  },
  {
   "cell_type": "code",
   "execution_count": 222,
   "id": "9cb43e2a",
   "metadata": {},
   "outputs": [
    {
     "data": {
      "text/plain": [
       "0.9308"
      ]
     },
     "execution_count": 222,
     "metadata": {},
     "output_type": "execute_result"
    }
   ],
   "source": [
    "columns_to_be_dropped =model.pvalues.sort_values().index[-1]\n",
    "Xnew= Xnew.drop(labels=columns_to_be_dropped,axis=1)\n",
    "\n",
    "from sklearn.model_selection import train_test_split\n",
    "xtrain,xtest,ytrain,ytest=train_test_split(Xnew,Y,test_size=0.2,random_state=31)\n",
    "\n",
    "from statsmodels.api import OLS, add_constant\n",
    "xconst=add_constant(xtrain,has_constant=\"add\")\n",
    "ols= OLS(ytrain,xconst)\n",
    "model=ols.fit()\n",
    "\n",
    "round(model.rsquared_adj,4)"
   ]
  },
  {
   "cell_type": "markdown",
   "id": "3b51ca3f",
   "metadata": {},
   "source": [
    "# MODEL-93"
   ]
  },
  {
   "cell_type": "code",
   "execution_count": 223,
   "id": "4f982210",
   "metadata": {},
   "outputs": [
    {
     "data": {
      "text/plain": [
       "'Condition1_RRNn'"
      ]
     },
     "execution_count": 223,
     "metadata": {},
     "output_type": "execute_result"
    }
   ],
   "source": [
    "model.pvalues.sort_values().index[-1]"
   ]
  },
  {
   "cell_type": "code",
   "execution_count": 224,
   "id": "7efdcff4",
   "metadata": {},
   "outputs": [
    {
     "data": {
      "text/plain": [
       "0.9308"
      ]
     },
     "execution_count": 224,
     "metadata": {},
     "output_type": "execute_result"
    }
   ],
   "source": [
    "columns_to_be_dropped =model.pvalues.sort_values().index[-1]\n",
    "Xnew= Xnew.drop(labels=columns_to_be_dropped,axis=1)\n",
    "\n",
    "from sklearn.model_selection import train_test_split\n",
    "xtrain,xtest,ytrain,ytest=train_test_split(Xnew,Y,test_size=0.2,random_state=31)\n",
    "\n",
    "from statsmodels.api import OLS, add_constant\n",
    "xconst=add_constant(xtrain,has_constant=\"add\")\n",
    "ols= OLS(ytrain,xconst)\n",
    "model=ols.fit()\n",
    "\n",
    "round(model.rsquared_adj,4)"
   ]
  },
  {
   "cell_type": "markdown",
   "id": "e10fbccd",
   "metadata": {},
   "source": [
    "# MODEL-94"
   ]
  },
  {
   "cell_type": "code",
   "execution_count": 225,
   "id": "6af1d292",
   "metadata": {},
   "outputs": [
    {
     "data": {
      "text/plain": [
       "'LotConfig_FR3'"
      ]
     },
     "execution_count": 225,
     "metadata": {},
     "output_type": "execute_result"
    }
   ],
   "source": [
    "model.pvalues.sort_values().index[-1]"
   ]
  },
  {
   "cell_type": "code",
   "execution_count": 226,
   "id": "da3c7b7c",
   "metadata": {},
   "outputs": [
    {
     "data": {
      "text/plain": [
       "0.9309"
      ]
     },
     "execution_count": 226,
     "metadata": {},
     "output_type": "execute_result"
    }
   ],
   "source": [
    "columns_to_be_dropped =model.pvalues.sort_values().index[-1]\n",
    "Xnew= Xnew.drop(labels=columns_to_be_dropped,axis=1)\n",
    "\n",
    "from sklearn.model_selection import train_test_split\n",
    "xtrain,xtest,ytrain,ytest=train_test_split(Xnew,Y,test_size=0.2,random_state=31)\n",
    "\n",
    "from statsmodels.api import OLS, add_constant\n",
    "xconst=add_constant(xtrain,has_constant=\"add\")\n",
    "ols= OLS(ytrain,xconst)\n",
    "model=ols.fit()\n",
    "\n",
    "round(model.rsquared_adj,4)"
   ]
  },
  {
   "cell_type": "markdown",
   "id": "a984dda8",
   "metadata": {},
   "source": [
    "# MODEL-95"
   ]
  },
  {
   "cell_type": "code",
   "execution_count": 227,
   "id": "b88d212c",
   "metadata": {},
   "outputs": [
    {
     "data": {
      "text/plain": [
       "'SaleCondition_Abnorml'"
      ]
     },
     "execution_count": 227,
     "metadata": {},
     "output_type": "execute_result"
    }
   ],
   "source": [
    "model.pvalues.sort_values().index[-1]"
   ]
  },
  {
   "cell_type": "code",
   "execution_count": 228,
   "id": "cb0bfa0e",
   "metadata": {},
   "outputs": [
    {
     "data": {
      "text/plain": [
       "0.931"
      ]
     },
     "execution_count": 228,
     "metadata": {},
     "output_type": "execute_result"
    }
   ],
   "source": [
    "columns_to_be_dropped =model.pvalues.sort_values().index[-1]\n",
    "Xnew= Xnew.drop(labels=columns_to_be_dropped,axis=1)\n",
    "\n",
    "from sklearn.model_selection import train_test_split\n",
    "xtrain,xtest,ytrain,ytest=train_test_split(Xnew,Y,test_size=0.2,random_state=31)\n",
    "\n",
    "from statsmodels.api import OLS, add_constant\n",
    "xconst=add_constant(xtrain,has_constant=\"add\")\n",
    "ols= OLS(ytrain,xconst)\n",
    "model=ols.fit()\n",
    "\n",
    "round(model.rsquared_adj,4)"
   ]
  },
  {
   "cell_type": "markdown",
   "id": "a835ac2f",
   "metadata": {},
   "source": [
    "# MODEL-96"
   ]
  },
  {
   "cell_type": "code",
   "execution_count": 229,
   "id": "c11c551a",
   "metadata": {},
   "outputs": [
    {
     "data": {
      "text/plain": [
       "'BsmtFinType2_Rec'"
      ]
     },
     "execution_count": 229,
     "metadata": {},
     "output_type": "execute_result"
    }
   ],
   "source": [
    "model.pvalues.sort_values().index[-1]"
   ]
  },
  {
   "cell_type": "code",
   "execution_count": 230,
   "id": "03d2a1bb",
   "metadata": {},
   "outputs": [
    {
     "data": {
      "text/plain": [
       "0.931"
      ]
     },
     "execution_count": 230,
     "metadata": {},
     "output_type": "execute_result"
    }
   ],
   "source": [
    "columns_to_be_dropped =model.pvalues.sort_values().index[-1]\n",
    "Xnew= Xnew.drop(labels=columns_to_be_dropped,axis=1)\n",
    "\n",
    "from sklearn.model_selection import train_test_split\n",
    "xtrain,xtest,ytrain,ytest=train_test_split(Xnew,Y,test_size=0.2,random_state=31)\n",
    "\n",
    "from statsmodels.api import OLS, add_constant\n",
    "xconst=add_constant(xtrain,has_constant=\"add\")\n",
    "ols= OLS(ytrain,xconst)\n",
    "model=ols.fit()\n",
    "\n",
    "round(model.rsquared_adj,4)"
   ]
  },
  {
   "cell_type": "markdown",
   "id": "49a4a92e",
   "metadata": {},
   "source": [
    "# MODEL-97"
   ]
  },
  {
   "cell_type": "code",
   "execution_count": 231,
   "id": "a791c849",
   "metadata": {},
   "outputs": [
    {
     "data": {
      "text/plain": [
       "'Exterior1st_Stucco'"
      ]
     },
     "execution_count": 231,
     "metadata": {},
     "output_type": "execute_result"
    }
   ],
   "source": [
    "model.pvalues.sort_values().index[-1]"
   ]
  },
  {
   "cell_type": "code",
   "execution_count": 232,
   "id": "43501b8e",
   "metadata": {},
   "outputs": [
    {
     "data": {
      "text/plain": [
       "0.9311"
      ]
     },
     "execution_count": 232,
     "metadata": {},
     "output_type": "execute_result"
    }
   ],
   "source": [
    "columns_to_be_dropped =model.pvalues.sort_values().index[-1]\n",
    "Xnew= Xnew.drop(labels=columns_to_be_dropped,axis=1)\n",
    "\n",
    "from sklearn.model_selection import train_test_split\n",
    "xtrain,xtest,ytrain,ytest=train_test_split(Xnew,Y,test_size=0.2,random_state=31)\n",
    "\n",
    "from statsmodels.api import OLS, add_constant\n",
    "xconst=add_constant(xtrain,has_constant=\"add\")\n",
    "ols= OLS(ytrain,xconst)\n",
    "model=ols.fit()\n",
    "\n",
    "round(model.rsquared_adj,4)"
   ]
  },
  {
   "cell_type": "markdown",
   "id": "57240900",
   "metadata": {},
   "source": [
    "# MODEL-98"
   ]
  },
  {
   "cell_type": "code",
   "execution_count": 233,
   "id": "a175e68b",
   "metadata": {},
   "outputs": [
    {
     "data": {
      "text/plain": [
       "'MSZoning_RL'"
      ]
     },
     "execution_count": 233,
     "metadata": {},
     "output_type": "execute_result"
    }
   ],
   "source": [
    "model.pvalues.sort_values().index[-1]"
   ]
  },
  {
   "cell_type": "code",
   "execution_count": 234,
   "id": "cd50ec76",
   "metadata": {},
   "outputs": [
    {
     "data": {
      "text/plain": [
       "0.9312"
      ]
     },
     "execution_count": 234,
     "metadata": {},
     "output_type": "execute_result"
    }
   ],
   "source": [
    "columns_to_be_dropped =model.pvalues.sort_values().index[-1]\n",
    "Xnew= Xnew.drop(labels=columns_to_be_dropped,axis=1)\n",
    "\n",
    "from sklearn.model_selection import train_test_split\n",
    "xtrain,xtest,ytrain,ytest=train_test_split(Xnew,Y,test_size=0.2,random_state=31)\n",
    "\n",
    "from statsmodels.api import OLS, add_constant\n",
    "xconst=add_constant(xtrain,has_constant=\"add\")\n",
    "ols= OLS(ytrain,xconst)\n",
    "model=ols.fit()\n",
    "\n",
    "round(model.rsquared_adj,4)"
   ]
  },
  {
   "cell_type": "markdown",
   "id": "d5cf7590",
   "metadata": {},
   "source": [
    "# MODEL-99"
   ]
  },
  {
   "cell_type": "code",
   "execution_count": 235,
   "id": "9eff8328",
   "metadata": {},
   "outputs": [
    {
     "data": {
      "text/plain": [
       "'MSZoning_RM'"
      ]
     },
     "execution_count": 235,
     "metadata": {},
     "output_type": "execute_result"
    }
   ],
   "source": [
    "model.pvalues.sort_values().index[-1]"
   ]
  },
  {
   "cell_type": "code",
   "execution_count": 236,
   "id": "8b58fe4a",
   "metadata": {},
   "outputs": [
    {
     "data": {
      "text/plain": [
       "0.9312"
      ]
     },
     "execution_count": 236,
     "metadata": {},
     "output_type": "execute_result"
    }
   ],
   "source": [
    "columns_to_be_dropped =model.pvalues.sort_values().index[-1]\n",
    "Xnew= Xnew.drop(labels=columns_to_be_dropped,axis=1)\n",
    "\n",
    "from sklearn.model_selection import train_test_split\n",
    "xtrain,xtest,ytrain,ytest=train_test_split(Xnew,Y,test_size=0.2,random_state=31)\n",
    "\n",
    "from statsmodels.api import OLS, add_constant\n",
    "xconst=add_constant(xtrain,has_constant=\"add\")\n",
    "ols= OLS(ytrain,xconst)\n",
    "model=ols.fit()\n",
    "\n",
    "round(model.rsquared_adj,4)"
   ]
  },
  {
   "cell_type": "markdown",
   "id": "fbf1978a",
   "metadata": {},
   "source": [
    "# MODEL-100"
   ]
  },
  {
   "cell_type": "code",
   "execution_count": 237,
   "id": "00be2cbf",
   "metadata": {},
   "outputs": [
    {
     "data": {
      "text/plain": [
       "'Neighborhood_IDOTRR'"
      ]
     },
     "execution_count": 237,
     "metadata": {},
     "output_type": "execute_result"
    }
   ],
   "source": [
    "model.pvalues.sort_values().index[-1]"
   ]
  },
  {
   "cell_type": "code",
   "execution_count": 238,
   "id": "3cf1bf86",
   "metadata": {},
   "outputs": [
    {
     "data": {
      "text/plain": [
       "0.9313"
      ]
     },
     "execution_count": 238,
     "metadata": {},
     "output_type": "execute_result"
    }
   ],
   "source": [
    "columns_to_be_dropped =model.pvalues.sort_values().index[-1]\n",
    "Xnew= Xnew.drop(labels=columns_to_be_dropped,axis=1)\n",
    "\n",
    "from sklearn.model_selection import train_test_split\n",
    "xtrain,xtest,ytrain,ytest=train_test_split(Xnew,Y,test_size=0.2,random_state=31)\n",
    "\n",
    "from statsmodels.api import OLS, add_constant\n",
    "xconst=add_constant(xtrain,has_constant=\"add\")\n",
    "ols= OLS(ytrain,xconst)\n",
    "model=ols.fit()\n",
    "\n",
    "round(model.rsquared_adj,4)"
   ]
  },
  {
   "cell_type": "markdown",
   "id": "bc2c4b28",
   "metadata": {},
   "source": [
    "# MODEL-101"
   ]
  },
  {
   "cell_type": "code",
   "execution_count": 239,
   "id": "53df5dc0",
   "metadata": {},
   "outputs": [
    {
     "data": {
      "text/plain": [
       "'SaleType_ConLD'"
      ]
     },
     "execution_count": 239,
     "metadata": {},
     "output_type": "execute_result"
    }
   ],
   "source": [
    "model.pvalues.sort_values().index[-1]"
   ]
  },
  {
   "cell_type": "code",
   "execution_count": 240,
   "id": "a42666d9",
   "metadata": {},
   "outputs": [
    {
     "data": {
      "text/plain": [
       "0.9314"
      ]
     },
     "execution_count": 240,
     "metadata": {},
     "output_type": "execute_result"
    }
   ],
   "source": [
    "columns_to_be_dropped =model.pvalues.sort_values().index[-1]\n",
    "Xnew= Xnew.drop(labels=columns_to_be_dropped,axis=1)\n",
    "\n",
    "from sklearn.model_selection import train_test_split\n",
    "xtrain,xtest,ytrain,ytest=train_test_split(Xnew,Y,test_size=0.2,random_state=31)\n",
    "\n",
    "from statsmodels.api import OLS, add_constant\n",
    "xconst=add_constant(xtrain,has_constant=\"add\")\n",
    "ols= OLS(ytrain,xconst)\n",
    "model=ols.fit()\n",
    "\n",
    "round(model.rsquared_adj,4)"
   ]
  },
  {
   "cell_type": "markdown",
   "id": "775b0f64",
   "metadata": {},
   "source": [
    "# MODEL-102"
   ]
  },
  {
   "cell_type": "code",
   "execution_count": 241,
   "id": "916e315f",
   "metadata": {},
   "outputs": [
    {
     "data": {
      "text/plain": [
       "'BldgType_2fmCon'"
      ]
     },
     "execution_count": 241,
     "metadata": {},
     "output_type": "execute_result"
    }
   ],
   "source": [
    "model.pvalues.sort_values().index[-1]"
   ]
  },
  {
   "cell_type": "code",
   "execution_count": 242,
   "id": "c8e318bc",
   "metadata": {},
   "outputs": [
    {
     "data": {
      "text/plain": [
       "0.9314"
      ]
     },
     "execution_count": 242,
     "metadata": {},
     "output_type": "execute_result"
    }
   ],
   "source": [
    "columns_to_be_dropped =model.pvalues.sort_values().index[-1]\n",
    "Xnew= Xnew.drop(labels=columns_to_be_dropped,axis=1)\n",
    "\n",
    "from sklearn.model_selection import train_test_split\n",
    "xtrain,xtest,ytrain,ytest=train_test_split(Xnew,Y,test_size=0.2,random_state=31)\n",
    "\n",
    "from statsmodels.api import OLS, add_constant\n",
    "xconst=add_constant(xtrain,has_constant=\"add\")\n",
    "ols= OLS(ytrain,xconst)\n",
    "model=ols.fit()\n",
    "\n",
    "round(model.rsquared_adj,4)"
   ]
  },
  {
   "cell_type": "markdown",
   "id": "f66a18b7",
   "metadata": {},
   "source": [
    "# MODEL-103"
   ]
  },
  {
   "cell_type": "code",
   "execution_count": 243,
   "id": "7553a2a9",
   "metadata": {},
   "outputs": [
    {
     "data": {
      "text/plain": [
       "'BsmtFinType2_LwQ'"
      ]
     },
     "execution_count": 243,
     "metadata": {},
     "output_type": "execute_result"
    }
   ],
   "source": [
    "model.pvalues.sort_values().index[-1]"
   ]
  },
  {
   "cell_type": "code",
   "execution_count": 244,
   "id": "ddfdf331",
   "metadata": {},
   "outputs": [
    {
     "data": {
      "text/plain": [
       "0.9315"
      ]
     },
     "execution_count": 244,
     "metadata": {},
     "output_type": "execute_result"
    }
   ],
   "source": [
    "columns_to_be_dropped =model.pvalues.sort_values().index[-1]\n",
    "Xnew= Xnew.drop(labels=columns_to_be_dropped,axis=1)\n",
    "\n",
    "from sklearn.model_selection import train_test_split\n",
    "xtrain,xtest,ytrain,ytest=train_test_split(Xnew,Y,test_size=0.2,random_state=31)\n",
    "\n",
    "from statsmodels.api import OLS, add_constant\n",
    "xconst=add_constant(xtrain,has_constant=\"add\")\n",
    "ols= OLS(ytrain,xconst)\n",
    "model=ols.fit()\n",
    "\n",
    "round(model.rsquared_adj,4)"
   ]
  },
  {
   "cell_type": "markdown",
   "id": "1303e02e",
   "metadata": {},
   "source": [
    "# MODEL-104"
   ]
  },
  {
   "cell_type": "code",
   "execution_count": 245,
   "id": "a5f8c86e",
   "metadata": {},
   "outputs": [
    {
     "data": {
      "text/plain": [
       "'BsmtFinType1_Unf'"
      ]
     },
     "execution_count": 245,
     "metadata": {},
     "output_type": "execute_result"
    }
   ],
   "source": [
    "model.pvalues.sort_values().index[-1]"
   ]
  },
  {
   "cell_type": "code",
   "execution_count": 246,
   "id": "1250a7fe",
   "metadata": {},
   "outputs": [
    {
     "data": {
      "text/plain": [
       "0.9315"
      ]
     },
     "execution_count": 246,
     "metadata": {},
     "output_type": "execute_result"
    }
   ],
   "source": [
    "columns_to_be_dropped =model.pvalues.sort_values().index[-1]\n",
    "Xnew= Xnew.drop(labels=columns_to_be_dropped,axis=1)\n",
    "\n",
    "from sklearn.model_selection import train_test_split\n",
    "xtrain,xtest,ytrain,ytest=train_test_split(Xnew,Y,test_size=0.2,random_state=31)\n",
    "\n",
    "from statsmodels.api import OLS, add_constant\n",
    "xconst=add_constant(xtrain,has_constant=\"add\")\n",
    "ols= OLS(ytrain,xconst)\n",
    "model=ols.fit()\n",
    "\n",
    "round(model.rsquared_adj,4)"
   ]
  },
  {
   "cell_type": "markdown",
   "id": "f4e77eb8",
   "metadata": {},
   "source": [
    "# MODEL-105"
   ]
  },
  {
   "cell_type": "code",
   "execution_count": 247,
   "id": "7b9c589f",
   "metadata": {},
   "outputs": [
    {
     "data": {
      "text/plain": [
       "'GarageCond_Po'"
      ]
     },
     "execution_count": 247,
     "metadata": {},
     "output_type": "execute_result"
    }
   ],
   "source": [
    "model.pvalues.sort_values().index[-1]"
   ]
  },
  {
   "cell_type": "code",
   "execution_count": 248,
   "id": "b824762f",
   "metadata": {},
   "outputs": [
    {
     "data": {
      "text/plain": [
       "0.9316"
      ]
     },
     "execution_count": 248,
     "metadata": {},
     "output_type": "execute_result"
    }
   ],
   "source": [
    "columns_to_be_dropped =model.pvalues.sort_values().index[-1]\n",
    "Xnew= Xnew.drop(labels=columns_to_be_dropped,axis=1)\n",
    "\n",
    "from sklearn.model_selection import train_test_split\n",
    "xtrain,xtest,ytrain,ytest=train_test_split(Xnew,Y,test_size=0.2,random_state=31)\n",
    "\n",
    "from statsmodels.api import OLS, add_constant\n",
    "xconst=add_constant(xtrain,has_constant=\"add\")\n",
    "ols= OLS(ytrain,xconst)\n",
    "model=ols.fit()\n",
    "\n",
    "round(model.rsquared_adj,4)"
   ]
  },
  {
   "cell_type": "markdown",
   "id": "2388bf32",
   "metadata": {},
   "source": [
    "# MODEL-106"
   ]
  },
  {
   "cell_type": "code",
   "execution_count": 249,
   "id": "de052d9c",
   "metadata": {},
   "outputs": [
    {
     "data": {
      "text/plain": [
       "'PavedDrive_Y'"
      ]
     },
     "execution_count": 249,
     "metadata": {},
     "output_type": "execute_result"
    }
   ],
   "source": [
    "model.pvalues.sort_values().index[-1]"
   ]
  },
  {
   "cell_type": "code",
   "execution_count": 250,
   "id": "60093887",
   "metadata": {},
   "outputs": [
    {
     "data": {
      "text/plain": [
       "0.9317"
      ]
     },
     "execution_count": 250,
     "metadata": {},
     "output_type": "execute_result"
    }
   ],
   "source": [
    "columns_to_be_dropped =model.pvalues.sort_values().index[-1]\n",
    "Xnew= Xnew.drop(labels=columns_to_be_dropped,axis=1)\n",
    "\n",
    "from sklearn.model_selection import train_test_split\n",
    "xtrain,xtest,ytrain,ytest=train_test_split(Xnew,Y,test_size=0.2,random_state=31)\n",
    "\n",
    "from statsmodels.api import OLS, add_constant\n",
    "xconst=add_constant(xtrain,has_constant=\"add\")\n",
    "ols= OLS(ytrain,xconst)\n",
    "model=ols.fit()\n",
    "\n",
    "round(model.rsquared_adj,4)"
   ]
  },
  {
   "cell_type": "markdown",
   "id": "d2fac7ec",
   "metadata": {},
   "source": [
    "# MODEL-107"
   ]
  },
  {
   "cell_type": "code",
   "execution_count": 251,
   "id": "ba9dbe96",
   "metadata": {},
   "outputs": [
    {
     "data": {
      "text/plain": [
       "'PavedDrive_N'"
      ]
     },
     "execution_count": 251,
     "metadata": {},
     "output_type": "execute_result"
    }
   ],
   "source": [
    "model.pvalues.sort_values().index[-1]"
   ]
  },
  {
   "cell_type": "code",
   "execution_count": 252,
   "id": "28995653",
   "metadata": {},
   "outputs": [
    {
     "data": {
      "text/plain": [
       "0.9317"
      ]
     },
     "execution_count": 252,
     "metadata": {},
     "output_type": "execute_result"
    }
   ],
   "source": [
    "columns_to_be_dropped =model.pvalues.sort_values().index[-1]\n",
    "Xnew= Xnew.drop(labels=columns_to_be_dropped,axis=1)\n",
    "\n",
    "from sklearn.model_selection import train_test_split\n",
    "xtrain,xtest,ytrain,ytest=train_test_split(Xnew,Y,test_size=0.2,random_state=31)\n",
    "\n",
    "from statsmodels.api import OLS, add_constant\n",
    "xconst=add_constant(xtrain,has_constant=\"add\")\n",
    "ols= OLS(ytrain,xconst)\n",
    "model=ols.fit()\n",
    "\n",
    "round(model.rsquared_adj,4)"
   ]
  },
  {
   "cell_type": "markdown",
   "id": "d3e44d57",
   "metadata": {},
   "source": [
    "# MODEL-108"
   ]
  },
  {
   "cell_type": "code",
   "execution_count": 253,
   "id": "7c54c5d6",
   "metadata": {},
   "outputs": [
    {
     "data": {
      "text/plain": [
       "'LandContour_Low'"
      ]
     },
     "execution_count": 253,
     "metadata": {},
     "output_type": "execute_result"
    }
   ],
   "source": [
    "model.pvalues.sort_values().index[-1]"
   ]
  },
  {
   "cell_type": "code",
   "execution_count": 254,
   "id": "555f1f28",
   "metadata": {},
   "outputs": [
    {
     "data": {
      "text/plain": [
       "0.9317"
      ]
     },
     "execution_count": 254,
     "metadata": {},
     "output_type": "execute_result"
    }
   ],
   "source": [
    "columns_to_be_dropped =model.pvalues.sort_values().index[-1]\n",
    "Xnew= Xnew.drop(labels=columns_to_be_dropped,axis=1)\n",
    "\n",
    "from sklearn.model_selection import train_test_split\n",
    "xtrain,xtest,ytrain,ytest=train_test_split(Xnew,Y,test_size=0.2,random_state=31)\n",
    "\n",
    "from statsmodels.api import OLS, add_constant\n",
    "xconst=add_constant(xtrain,has_constant=\"add\")\n",
    "ols= OLS(ytrain,xconst)\n",
    "model=ols.fit()\n",
    "\n",
    "round(model.rsquared_adj,4)"
   ]
  },
  {
   "cell_type": "markdown",
   "id": "949da191",
   "metadata": {},
   "source": [
    "# MODEL-110"
   ]
  },
  {
   "cell_type": "code",
   "execution_count": 255,
   "id": "e97e8609",
   "metadata": {},
   "outputs": [
    {
     "data": {
      "text/plain": [
       "'Exterior1st_CemntBd'"
      ]
     },
     "execution_count": 255,
     "metadata": {},
     "output_type": "execute_result"
    }
   ],
   "source": [
    "model.pvalues.sort_values().index[-1]"
   ]
  },
  {
   "cell_type": "code",
   "execution_count": 256,
   "id": "b75bb69d",
   "metadata": {},
   "outputs": [
    {
     "data": {
      "text/plain": [
       "0.9318"
      ]
     },
     "execution_count": 256,
     "metadata": {},
     "output_type": "execute_result"
    }
   ],
   "source": [
    "columns_to_be_dropped =model.pvalues.sort_values().index[-1]\n",
    "Xnew= Xnew.drop(labels=columns_to_be_dropped,axis=1)\n",
    "\n",
    "from sklearn.model_selection import train_test_split\n",
    "xtrain,xtest,ytrain,ytest=train_test_split(Xnew,Y,test_size=0.2,random_state=31)\n",
    "\n",
    "from statsmodels.api import OLS, add_constant\n",
    "xconst=add_constant(xtrain,has_constant=\"add\")\n",
    "ols= OLS(ytrain,xconst)\n",
    "model=ols.fit()\n",
    "\n",
    "round(model.rsquared_adj,4)"
   ]
  },
  {
   "cell_type": "markdown",
   "id": "2c87de1f",
   "metadata": {},
   "source": [
    "# MODEL-111"
   ]
  },
  {
   "cell_type": "code",
   "execution_count": 257,
   "id": "a4e0eb8f",
   "metadata": {},
   "outputs": [
    {
     "data": {
      "text/plain": [
       "'Fence_GdPrv'"
      ]
     },
     "execution_count": 257,
     "metadata": {},
     "output_type": "execute_result"
    }
   ],
   "source": [
    "model.pvalues.sort_values().index[-1]"
   ]
  },
  {
   "cell_type": "code",
   "execution_count": 258,
   "id": "299ff2b3",
   "metadata": {},
   "outputs": [
    {
     "data": {
      "text/plain": [
       "0.9318"
      ]
     },
     "execution_count": 258,
     "metadata": {},
     "output_type": "execute_result"
    }
   ],
   "source": [
    "columns_to_be_dropped =model.pvalues.sort_values().index[-1]\n",
    "Xnew= Xnew.drop(labels=columns_to_be_dropped,axis=1)\n",
    "\n",
    "from sklearn.model_selection import train_test_split\n",
    "xtrain,xtest,ytrain,ytest=train_test_split(Xnew,Y,test_size=0.2,random_state=31)\n",
    "\n",
    "from statsmodels.api import OLS, add_constant\n",
    "xconst=add_constant(xtrain,has_constant=\"add\")\n",
    "ols= OLS(ytrain,xconst)\n",
    "model=ols.fit()\n",
    "\n",
    "round(model.rsquared_adj,4)"
   ]
  },
  {
   "cell_type": "markdown",
   "id": "19f3cb45",
   "metadata": {},
   "source": [
    "# MODEL-112"
   ]
  },
  {
   "cell_type": "code",
   "execution_count": 259,
   "id": "448fafec",
   "metadata": {},
   "outputs": [
    {
     "data": {
      "text/plain": [
       "'Fence_GdWo'"
      ]
     },
     "execution_count": 259,
     "metadata": {},
     "output_type": "execute_result"
    }
   ],
   "source": [
    "model.pvalues.sort_values().index[-1]"
   ]
  },
  {
   "cell_type": "code",
   "execution_count": 260,
   "id": "7bdc22ab",
   "metadata": {},
   "outputs": [
    {
     "data": {
      "text/plain": [
       "0.9319"
      ]
     },
     "execution_count": 260,
     "metadata": {},
     "output_type": "execute_result"
    }
   ],
   "source": [
    "columns_to_be_dropped =model.pvalues.sort_values().index[-1]\n",
    "Xnew= Xnew.drop(labels=columns_to_be_dropped,axis=1)\n",
    "\n",
    "from sklearn.model_selection import train_test_split\n",
    "xtrain,xtest,ytrain,ytest=train_test_split(Xnew,Y,test_size=0.2,random_state=31)\n",
    "\n",
    "from statsmodels.api import OLS, add_constant\n",
    "xconst=add_constant(xtrain,has_constant=\"add\")\n",
    "ols= OLS(ytrain,xconst)\n",
    "model=ols.fit()\n",
    "\n",
    "round(model.rsquared_adj,4)"
   ]
  },
  {
   "cell_type": "markdown",
   "id": "5cf93e38",
   "metadata": {},
   "source": [
    "# MODEL-113"
   ]
  },
  {
   "cell_type": "code",
   "execution_count": 261,
   "id": "43d41140",
   "metadata": {},
   "outputs": [
    {
     "data": {
      "text/plain": [
       "'Fence_MnPrv'"
      ]
     },
     "execution_count": 261,
     "metadata": {},
     "output_type": "execute_result"
    }
   ],
   "source": [
    "model.pvalues.sort_values().index[-1]"
   ]
  },
  {
   "cell_type": "code",
   "execution_count": 262,
   "id": "dd20cc6a",
   "metadata": {},
   "outputs": [
    {
     "data": {
      "text/plain": [
       "0.9319"
      ]
     },
     "execution_count": 262,
     "metadata": {},
     "output_type": "execute_result"
    }
   ],
   "source": [
    "columns_to_be_dropped =model.pvalues.sort_values().index[-1]\n",
    "Xnew= Xnew.drop(labels=columns_to_be_dropped,axis=1)\n",
    "\n",
    "from sklearn.model_selection import train_test_split\n",
    "xtrain,xtest,ytrain,ytest=train_test_split(Xnew,Y,test_size=0.2,random_state=31)\n",
    "\n",
    "from statsmodels.api import OLS, add_constant\n",
    "xconst=add_constant(xtrain,has_constant=\"add\")\n",
    "ols= OLS(ytrain,xconst)\n",
    "model=ols.fit()\n",
    "\n",
    "round(model.rsquared_adj,4)"
   ]
  },
  {
   "cell_type": "markdown",
   "id": "a14635bf",
   "metadata": {},
   "source": [
    "# MODEL-114"
   ]
  },
  {
   "cell_type": "code",
   "execution_count": 263,
   "id": "63ae7353",
   "metadata": {},
   "outputs": [
    {
     "data": {
      "text/plain": [
       "'Fence_noFence'"
      ]
     },
     "execution_count": 263,
     "metadata": {},
     "output_type": "execute_result"
    }
   ],
   "source": [
    "model.pvalues.sort_values().index[-1]"
   ]
  },
  {
   "cell_type": "code",
   "execution_count": 264,
   "id": "0c736807",
   "metadata": {},
   "outputs": [
    {
     "data": {
      "text/plain": [
       "0.932"
      ]
     },
     "execution_count": 264,
     "metadata": {},
     "output_type": "execute_result"
    }
   ],
   "source": [
    "columns_to_be_dropped =model.pvalues.sort_values().index[-1]\n",
    "Xnew= Xnew.drop(labels=columns_to_be_dropped,axis=1)\n",
    "\n",
    "from sklearn.model_selection import train_test_split\n",
    "xtrain,xtest,ytrain,ytest=train_test_split(Xnew,Y,test_size=0.2,random_state=31)\n",
    "\n",
    "from statsmodels.api import OLS, add_constant\n",
    "xconst=add_constant(xtrain,has_constant=\"add\")\n",
    "ols= OLS(ytrain,xconst)\n",
    "model=ols.fit()\n",
    "\n",
    "round(model.rsquared_adj,4)"
   ]
  },
  {
   "cell_type": "markdown",
   "id": "1ef616cd",
   "metadata": {},
   "source": [
    "# MODEL-115"
   ]
  },
  {
   "cell_type": "code",
   "execution_count": 265,
   "id": "e09ae53b",
   "metadata": {},
   "outputs": [
    {
     "data": {
      "text/plain": [
       "'Exterior1st_ImStucc'"
      ]
     },
     "execution_count": 265,
     "metadata": {},
     "output_type": "execute_result"
    }
   ],
   "source": [
    "model.pvalues.sort_values().index[-1]"
   ]
  },
  {
   "cell_type": "code",
   "execution_count": 266,
   "id": "17f66dc8",
   "metadata": {},
   "outputs": [
    {
     "data": {
      "text/plain": [
       "0.9321"
      ]
     },
     "execution_count": 266,
     "metadata": {},
     "output_type": "execute_result"
    }
   ],
   "source": [
    "columns_to_be_dropped =model.pvalues.sort_values().index[-1]\n",
    "Xnew= Xnew.drop(labels=columns_to_be_dropped,axis=1)\n",
    "\n",
    "from sklearn.model_selection import train_test_split\n",
    "xtrain,xtest,ytrain,ytest=train_test_split(Xnew,Y,test_size=0.2,random_state=31)\n",
    "\n",
    "from statsmodels.api import OLS, add_constant\n",
    "xconst=add_constant(xtrain,has_constant=\"add\")\n",
    "ols= OLS(ytrain,xconst)\n",
    "model=ols.fit()\n",
    "\n",
    "round(model.rsquared_adj,4)"
   ]
  },
  {
   "cell_type": "markdown",
   "id": "496f0186",
   "metadata": {},
   "source": [
    "# MODEL-116"
   ]
  },
  {
   "cell_type": "code",
   "execution_count": 267,
   "id": "e2504a7c",
   "metadata": {},
   "outputs": [
    {
     "data": {
      "text/plain": [
       "'Condition1_PosA'"
      ]
     },
     "execution_count": 267,
     "metadata": {},
     "output_type": "execute_result"
    }
   ],
   "source": [
    "model.pvalues.sort_values().index[-1]"
   ]
  },
  {
   "cell_type": "code",
   "execution_count": 268,
   "id": "cd0bbfff",
   "metadata": {},
   "outputs": [
    {
     "data": {
      "text/plain": [
       "0.9321"
      ]
     },
     "execution_count": 268,
     "metadata": {},
     "output_type": "execute_result"
    }
   ],
   "source": [
    "columns_to_be_dropped =model.pvalues.sort_values().index[-1]\n",
    "Xnew= Xnew.drop(labels=columns_to_be_dropped,axis=1)\n",
    "\n",
    "from sklearn.model_selection import train_test_split\n",
    "xtrain,xtest,ytrain,ytest=train_test_split(Xnew,Y,test_size=0.2,random_state=31)\n",
    "\n",
    "from statsmodels.api import OLS, add_constant\n",
    "xconst=add_constant(xtrain,has_constant=\"add\")\n",
    "ols= OLS(ytrain,xconst)\n",
    "model=ols.fit()\n",
    "\n",
    "round(model.rsquared_adj,4)"
   ]
  },
  {
   "cell_type": "markdown",
   "id": "b6087611",
   "metadata": {},
   "source": [
    "# MODEL-117"
   ]
  },
  {
   "cell_type": "code",
   "execution_count": 269,
   "id": "4f065f30",
   "metadata": {},
   "outputs": [
    {
     "data": {
      "text/plain": [
       "'Exterior2nd_HdBoard'"
      ]
     },
     "execution_count": 269,
     "metadata": {},
     "output_type": "execute_result"
    }
   ],
   "source": [
    "model.pvalues.sort_values().index[-1]"
   ]
  },
  {
   "cell_type": "code",
   "execution_count": 270,
   "id": "cf6985bb",
   "metadata": {},
   "outputs": [
    {
     "data": {
      "text/plain": [
       "0.9322"
      ]
     },
     "execution_count": 270,
     "metadata": {},
     "output_type": "execute_result"
    }
   ],
   "source": [
    "columns_to_be_dropped =model.pvalues.sort_values().index[-1]\n",
    "Xnew= Xnew.drop(labels=columns_to_be_dropped,axis=1)\n",
    "\n",
    "from sklearn.model_selection import train_test_split\n",
    "xtrain,xtest,ytrain,ytest=train_test_split(Xnew,Y,test_size=0.2,random_state=31)\n",
    "\n",
    "from statsmodels.api import OLS, add_constant\n",
    "xconst=add_constant(xtrain,has_constant=\"add\")\n",
    "ols= OLS(ytrain,xconst)\n",
    "model=ols.fit()\n",
    "\n",
    "round(model.rsquared_adj,4)"
   ]
  },
  {
   "cell_type": "markdown",
   "id": "4e31c6c5",
   "metadata": {},
   "source": [
    "# MODEL-118"
   ]
  },
  {
   "cell_type": "code",
   "execution_count": 271,
   "id": "05975a04",
   "metadata": {},
   "outputs": [
    {
     "data": {
      "text/plain": [
       "'LotShape_IR3'"
      ]
     },
     "execution_count": 271,
     "metadata": {},
     "output_type": "execute_result"
    }
   ],
   "source": [
    "model.pvalues.sort_values().index[-1]"
   ]
  },
  {
   "cell_type": "code",
   "execution_count": 272,
   "id": "3498225e",
   "metadata": {},
   "outputs": [
    {
     "data": {
      "text/plain": [
       "0.9322"
      ]
     },
     "execution_count": 272,
     "metadata": {},
     "output_type": "execute_result"
    }
   ],
   "source": [
    "columns_to_be_dropped =model.pvalues.sort_values().index[-1]\n",
    "Xnew= Xnew.drop(labels=columns_to_be_dropped,axis=1)\n",
    "\n",
    "from sklearn.model_selection import train_test_split\n",
    "xtrain,xtest,ytrain,ytest=train_test_split(Xnew,Y,test_size=0.2,random_state=31)\n",
    "\n",
    "from statsmodels.api import OLS, add_constant\n",
    "xconst=add_constant(xtrain,has_constant=\"add\")\n",
    "ols= OLS(ytrain,xconst)\n",
    "model=ols.fit()\n",
    "\n",
    "round(model.rsquared_adj,4)"
   ]
  },
  {
   "cell_type": "markdown",
   "id": "05a466a1",
   "metadata": {},
   "source": [
    "# MODEL-119"
   ]
  },
  {
   "cell_type": "code",
   "execution_count": 273,
   "id": "0c440c59",
   "metadata": {},
   "outputs": [
    {
     "data": {
      "text/plain": [
       "'BedroomAbvGr'"
      ]
     },
     "execution_count": 273,
     "metadata": {},
     "output_type": "execute_result"
    }
   ],
   "source": [
    "model.pvalues.sort_values().index[-1]"
   ]
  },
  {
   "cell_type": "code",
   "execution_count": 274,
   "id": "d22fa39e",
   "metadata": {},
   "outputs": [
    {
     "data": {
      "text/plain": [
       "0.9322"
      ]
     },
     "execution_count": 274,
     "metadata": {},
     "output_type": "execute_result"
    }
   ],
   "source": [
    "columns_to_be_dropped =model.pvalues.sort_values().index[-1]\n",
    "Xnew= Xnew.drop(labels=columns_to_be_dropped,axis=1)\n",
    "\n",
    "from sklearn.model_selection import train_test_split\n",
    "xtrain,xtest,ytrain,ytest=train_test_split(Xnew,Y,test_size=0.2,random_state=31)\n",
    "\n",
    "from statsmodels.api import OLS, add_constant\n",
    "xconst=add_constant(xtrain,has_constant=\"add\")\n",
    "ols= OLS(ytrain,xconst)\n",
    "model=ols.fit()\n",
    "\n",
    "round(model.rsquared_adj,4)"
   ]
  },
  {
   "cell_type": "markdown",
   "id": "b9f485d9",
   "metadata": {},
   "source": [
    "# MODEL-120"
   ]
  },
  {
   "cell_type": "code",
   "execution_count": 275,
   "id": "3114756a",
   "metadata": {},
   "outputs": [
    {
     "data": {
      "text/plain": [
       "'Condition1_Artery'"
      ]
     },
     "execution_count": 275,
     "metadata": {},
     "output_type": "execute_result"
    }
   ],
   "source": [
    "model.pvalues.sort_values().index[-1]"
   ]
  },
  {
   "cell_type": "code",
   "execution_count": 276,
   "id": "981acb70",
   "metadata": {},
   "outputs": [
    {
     "data": {
      "text/plain": [
       "0.9322"
      ]
     },
     "execution_count": 276,
     "metadata": {},
     "output_type": "execute_result"
    }
   ],
   "source": [
    "columns_to_be_dropped =model.pvalues.sort_values().index[-1]\n",
    "Xnew= Xnew.drop(labels=columns_to_be_dropped,axis=1)\n",
    "\n",
    "from sklearn.model_selection import train_test_split\n",
    "xtrain,xtest,ytrain,ytest=train_test_split(Xnew,Y,test_size=0.2,random_state=31)\n",
    "\n",
    "from statsmodels.api import OLS, add_constant\n",
    "xconst=add_constant(xtrain,has_constant=\"add\")\n",
    "ols= OLS(ytrain,xconst)\n",
    "model=ols.fit()\n",
    "\n",
    "round(model.rsquared_adj,4)"
   ]
  },
  {
   "cell_type": "markdown",
   "id": "2da04331",
   "metadata": {},
   "source": [
    "# MODEL-121"
   ]
  },
  {
   "cell_type": "code",
   "execution_count": 277,
   "id": "5a7e745c",
   "metadata": {},
   "outputs": [
    {
     "data": {
      "text/plain": [
       "'SaleType_COD'"
      ]
     },
     "execution_count": 277,
     "metadata": {},
     "output_type": "execute_result"
    }
   ],
   "source": [
    "model.pvalues.sort_values().index[-1]"
   ]
  },
  {
   "cell_type": "code",
   "execution_count": 278,
   "id": "b0836d99",
   "metadata": {},
   "outputs": [
    {
     "data": {
      "text/plain": [
       "0.9322"
      ]
     },
     "execution_count": 278,
     "metadata": {},
     "output_type": "execute_result"
    }
   ],
   "source": [
    "columns_to_be_dropped =model.pvalues.sort_values().index[-1]\n",
    "Xnew= Xnew.drop(labels=columns_to_be_dropped,axis=1)\n",
    "\n",
    "from sklearn.model_selection import train_test_split\n",
    "xtrain,xtest,ytrain,ytest=train_test_split(Xnew,Y,test_size=0.2,random_state=31)\n",
    "\n",
    "from statsmodels.api import OLS, add_constant\n",
    "xconst=add_constant(xtrain,has_constant=\"add\")\n",
    "ols= OLS(ytrain,xconst)\n",
    "model=ols.fit()\n",
    "\n",
    "round(model.rsquared_adj,4)"
   ]
  },
  {
   "cell_type": "markdown",
   "id": "65097ef6",
   "metadata": {},
   "source": [
    "# MODEL-122"
   ]
  },
  {
   "cell_type": "code",
   "execution_count": 279,
   "id": "64d0886d",
   "metadata": {},
   "outputs": [
    {
     "data": {
      "text/plain": [
       "'Exterior2nd_Other'"
      ]
     },
     "execution_count": 279,
     "metadata": {},
     "output_type": "execute_result"
    }
   ],
   "source": [
    "model.pvalues.sort_values().index[-1]"
   ]
  },
  {
   "cell_type": "code",
   "execution_count": 280,
   "id": "e850862e",
   "metadata": {},
   "outputs": [
    {
     "data": {
      "text/plain": [
       "0.9323"
      ]
     },
     "execution_count": 280,
     "metadata": {},
     "output_type": "execute_result"
    }
   ],
   "source": [
    "columns_to_be_dropped =model.pvalues.sort_values().index[-1]\n",
    "Xnew= Xnew.drop(labels=columns_to_be_dropped,axis=1)\n",
    "\n",
    "from sklearn.model_selection import train_test_split\n",
    "xtrain,xtest,ytrain,ytest=train_test_split(Xnew,Y,test_size=0.2,random_state=31)\n",
    "\n",
    "from statsmodels.api import OLS, add_constant\n",
    "xconst=add_constant(xtrain,has_constant=\"add\")\n",
    "ols= OLS(ytrain,xconst)\n",
    "model=ols.fit()\n",
    "\n",
    "round(model.rsquared_adj,4)"
   ]
  },
  {
   "cell_type": "markdown",
   "id": "81d45def",
   "metadata": {},
   "source": [
    "# MODEL-123"
   ]
  },
  {
   "cell_type": "code",
   "execution_count": 281,
   "id": "8f1c951e",
   "metadata": {},
   "outputs": [
    {
     "data": {
      "text/plain": [
       "'HeatingQC_TA'"
      ]
     },
     "execution_count": 281,
     "metadata": {},
     "output_type": "execute_result"
    }
   ],
   "source": [
    "model.pvalues.sort_values().index[-1]"
   ]
  },
  {
   "cell_type": "code",
   "execution_count": 282,
   "id": "f0297b3e",
   "metadata": {},
   "outputs": [
    {
     "data": {
      "text/plain": [
       "0.9323"
      ]
     },
     "execution_count": 282,
     "metadata": {},
     "output_type": "execute_result"
    }
   ],
   "source": [
    "columns_to_be_dropped =model.pvalues.sort_values().index[-1]\n",
    "Xnew= Xnew.drop(labels=columns_to_be_dropped,axis=1)\n",
    "\n",
    "from sklearn.model_selection import train_test_split\n",
    "xtrain,xtest,ytrain,ytest=train_test_split(Xnew,Y,test_size=0.2,random_state=31)\n",
    "\n",
    "from statsmodels.api import OLS, add_constant\n",
    "xconst=add_constant(xtrain,has_constant=\"add\")\n",
    "ols= OLS(ytrain,xconst)\n",
    "model=ols.fit()\n",
    "\n",
    "round(model.rsquared_adj,4)"
   ]
  },
  {
   "cell_type": "markdown",
   "id": "08580f09",
   "metadata": {},
   "source": [
    "# MODEL-124"
   ]
  },
  {
   "cell_type": "code",
   "execution_count": 283,
   "id": "82df3f50",
   "metadata": {},
   "outputs": [
    {
     "data": {
      "text/plain": [
       "'MasVnrArea'"
      ]
     },
     "execution_count": 283,
     "metadata": {},
     "output_type": "execute_result"
    }
   ],
   "source": [
    "model.pvalues.sort_values().index[-1]"
   ]
  },
  {
   "cell_type": "code",
   "execution_count": 284,
   "id": "bf188318",
   "metadata": {},
   "outputs": [
    {
     "data": {
      "text/plain": [
       "0.9323"
      ]
     },
     "execution_count": 284,
     "metadata": {},
     "output_type": "execute_result"
    }
   ],
   "source": [
    "columns_to_be_dropped =model.pvalues.sort_values().index[-1]\n",
    "Xnew= Xnew.drop(labels=columns_to_be_dropped,axis=1)\n",
    "\n",
    "from sklearn.model_selection import train_test_split\n",
    "xtrain,xtest,ytrain,ytest=train_test_split(Xnew,Y,test_size=0.2,random_state=31)\n",
    "\n",
    "from statsmodels.api import OLS, add_constant\n",
    "xconst=add_constant(xtrain,has_constant=\"add\")\n",
    "ols= OLS(ytrain,xconst)\n",
    "model=ols.fit()\n",
    "\n",
    "round(model.rsquared_adj,4)"
   ]
  },
  {
   "cell_type": "markdown",
   "id": "6170ff9f",
   "metadata": {},
   "source": [
    "# MODEL-125"
   ]
  },
  {
   "cell_type": "code",
   "execution_count": 285,
   "id": "487bb23b",
   "metadata": {},
   "outputs": [
    {
     "data": {
      "text/plain": [
       "'MasVnrType_BrkFace'"
      ]
     },
     "execution_count": 285,
     "metadata": {},
     "output_type": "execute_result"
    }
   ],
   "source": [
    "model.pvalues.sort_values().index[-1]"
   ]
  },
  {
   "cell_type": "code",
   "execution_count": 286,
   "id": "3c18824d",
   "metadata": {},
   "outputs": [
    {
     "data": {
      "text/plain": [
       "0.9323"
      ]
     },
     "execution_count": 286,
     "metadata": {},
     "output_type": "execute_result"
    }
   ],
   "source": [
    "columns_to_be_dropped =model.pvalues.sort_values().index[-1]\n",
    "Xnew= Xnew.drop(labels=columns_to_be_dropped,axis=1)\n",
    "\n",
    "from sklearn.model_selection import train_test_split\n",
    "xtrain,xtest,ytrain,ytest=train_test_split(Xnew,Y,test_size=0.2,random_state=31)\n",
    "\n",
    "from statsmodels.api import OLS, add_constant\n",
    "xconst=add_constant(xtrain,has_constant=\"add\")\n",
    "ols= OLS(ytrain,xconst)\n",
    "model=ols.fit()\n",
    "\n",
    "round(model.rsquared_adj,4)"
   ]
  },
  {
   "cell_type": "markdown",
   "id": "68f62f38",
   "metadata": {},
   "source": [
    "# MODEL-126"
   ]
  },
  {
   "cell_type": "code",
   "execution_count": 287,
   "id": "581677a5",
   "metadata": {},
   "outputs": [
    {
     "data": {
      "text/plain": [
       "'BsmtFinType2_BLQ'"
      ]
     },
     "execution_count": 287,
     "metadata": {},
     "output_type": "execute_result"
    }
   ],
   "source": [
    "model.pvalues.sort_values().index[-1]"
   ]
  },
  {
   "cell_type": "code",
   "execution_count": 288,
   "id": "b82408d5",
   "metadata": {},
   "outputs": [
    {
     "data": {
      "text/plain": [
       "0.9324"
      ]
     },
     "execution_count": 288,
     "metadata": {},
     "output_type": "execute_result"
    }
   ],
   "source": [
    "columns_to_be_dropped =model.pvalues.sort_values().index[-1]\n",
    "Xnew= Xnew.drop(labels=columns_to_be_dropped,axis=1)\n",
    "\n",
    "from sklearn.model_selection import train_test_split\n",
    "xtrain,xtest,ytrain,ytest=train_test_split(Xnew,Y,test_size=0.2,random_state=31)\n",
    "\n",
    "from statsmodels.api import OLS, add_constant\n",
    "xconst=add_constant(xtrain,has_constant=\"add\")\n",
    "ols= OLS(ytrain,xconst)\n",
    "model=ols.fit()\n",
    "\n",
    "round(model.rsquared_adj,4)"
   ]
  },
  {
   "cell_type": "markdown",
   "id": "accb76c1",
   "metadata": {},
   "source": [
    "# MODEL-127"
   ]
  },
  {
   "cell_type": "code",
   "execution_count": 289,
   "id": "3f506fde",
   "metadata": {},
   "outputs": [
    {
     "data": {
      "text/plain": [
       "'GarageCond_Fa'"
      ]
     },
     "execution_count": 289,
     "metadata": {},
     "output_type": "execute_result"
    }
   ],
   "source": [
    "model.pvalues.sort_values().index[-1]"
   ]
  },
  {
   "cell_type": "code",
   "execution_count": 290,
   "id": "61646f89",
   "metadata": {},
   "outputs": [
    {
     "data": {
      "text/plain": [
       "0.9324"
      ]
     },
     "execution_count": 290,
     "metadata": {},
     "output_type": "execute_result"
    }
   ],
   "source": [
    "columns_to_be_dropped =model.pvalues.sort_values().index[-1]\n",
    "Xnew= Xnew.drop(labels=columns_to_be_dropped,axis=1)\n",
    "\n",
    "from sklearn.model_selection import train_test_split\n",
    "xtrain,xtest,ytrain,ytest=train_test_split(Xnew,Y,test_size=0.2,random_state=31)\n",
    "\n",
    "from statsmodels.api import OLS, add_constant\n",
    "xconst=add_constant(xtrain,has_constant=\"add\")\n",
    "ols= OLS(ytrain,xconst)\n",
    "model=ols.fit()\n",
    "\n",
    "round(model.rsquared_adj,4)"
   ]
  },
  {
   "cell_type": "markdown",
   "id": "c5447aa5",
   "metadata": {},
   "source": [
    "# MODEL-128"
   ]
  },
  {
   "cell_type": "code",
   "execution_count": 291,
   "id": "f07e3dab",
   "metadata": {},
   "outputs": [
    {
     "data": {
      "text/plain": [
       "'Neighborhood_Somerst'"
      ]
     },
     "execution_count": 291,
     "metadata": {},
     "output_type": "execute_result"
    }
   ],
   "source": [
    "model.pvalues.sort_values().index[-1]"
   ]
  },
  {
   "cell_type": "code",
   "execution_count": 292,
   "id": "6f7cfaa2",
   "metadata": {},
   "outputs": [
    {
     "data": {
      "text/plain": [
       "0.9323"
      ]
     },
     "execution_count": 292,
     "metadata": {},
     "output_type": "execute_result"
    }
   ],
   "source": [
    "columns_to_be_dropped =model.pvalues.sort_values().index[-1]\n",
    "Xnew= Xnew.drop(labels=columns_to_be_dropped,axis=1)\n",
    "\n",
    "from sklearn.model_selection import train_test_split\n",
    "xtrain,xtest,ytrain,ytest=train_test_split(Xnew,Y,test_size=0.2,random_state=31)\n",
    "\n",
    "from statsmodels.api import OLS, add_constant\n",
    "xconst=add_constant(xtrain,has_constant=\"add\")\n",
    "ols= OLS(ytrain,xconst)\n",
    "model=ols.fit()\n",
    "\n",
    "round(model.rsquared_adj,4)"
   ]
  },
  {
   "cell_type": "markdown",
   "id": "c5736a8c",
   "metadata": {},
   "source": [
    "# MODEL-129"
   ]
  },
  {
   "cell_type": "code",
   "execution_count": 293,
   "id": "a379435b",
   "metadata": {},
   "outputs": [
    {
     "data": {
      "text/plain": [
       "'SaleType_New'"
      ]
     },
     "execution_count": 293,
     "metadata": {},
     "output_type": "execute_result"
    }
   ],
   "source": [
    "model.pvalues.sort_values().index[-1]"
   ]
  },
  {
   "cell_type": "code",
   "execution_count": 294,
   "id": "42359f5a",
   "metadata": {},
   "outputs": [
    {
     "data": {
      "text/plain": [
       "0.9323"
      ]
     },
     "execution_count": 294,
     "metadata": {},
     "output_type": "execute_result"
    }
   ],
   "source": [
    "columns_to_be_dropped =model.pvalues.sort_values().index[-1]\n",
    "Xnew= Xnew.drop(labels=columns_to_be_dropped,axis=1)\n",
    "\n",
    "from sklearn.model_selection import train_test_split\n",
    "xtrain,xtest,ytrain,ytest=train_test_split(Xnew,Y,test_size=0.2,random_state=31)\n",
    "\n",
    "from statsmodels.api import OLS, add_constant\n",
    "xconst=add_constant(xtrain,has_constant=\"add\")\n",
    "ols= OLS(ytrain,xconst)\n",
    "model=ols.fit()\n",
    "\n",
    "round(model.rsquared_adj,4)"
   ]
  },
  {
   "cell_type": "markdown",
   "id": "ba4c2de2",
   "metadata": {},
   "source": [
    "# MODEL-130"
   ]
  },
  {
   "cell_type": "code",
   "execution_count": 295,
   "id": "9cdade9c",
   "metadata": {},
   "outputs": [
    {
     "data": {
      "text/plain": [
       "'Exterior1st_AsbShng'"
      ]
     },
     "execution_count": 295,
     "metadata": {},
     "output_type": "execute_result"
    }
   ],
   "source": [
    "model.pvalues.sort_values().index[-1]"
   ]
  },
  {
   "cell_type": "code",
   "execution_count": 296,
   "id": "c14ef862",
   "metadata": {},
   "outputs": [
    {
     "data": {
      "text/plain": [
       "0.9323"
      ]
     },
     "execution_count": 296,
     "metadata": {},
     "output_type": "execute_result"
    }
   ],
   "source": [
    "columns_to_be_dropped =model.pvalues.sort_values().index[-1]\n",
    "Xnew= Xnew.drop(labels=columns_to_be_dropped,axis=1)\n",
    "\n",
    "from sklearn.model_selection import train_test_split\n",
    "xtrain,xtest,ytrain,ytest=train_test_split(Xnew,Y,test_size=0.2,random_state=31)\n",
    "\n",
    "from statsmodels.api import OLS, add_constant\n",
    "xconst=add_constant(xtrain,has_constant=\"add\")\n",
    "ols= OLS(ytrain,xconst)\n",
    "model=ols.fit()\n",
    "\n",
    "round(model.rsquared_adj,4)"
   ]
  },
  {
   "cell_type": "markdown",
   "id": "a2c53c05",
   "metadata": {},
   "source": [
    "# MODEL-131"
   ]
  },
  {
   "cell_type": "code",
   "execution_count": 297,
   "id": "296ae7b3",
   "metadata": {},
   "outputs": [
    {
     "data": {
      "text/plain": [
       "'BsmtCond_Gd'"
      ]
     },
     "execution_count": 297,
     "metadata": {},
     "output_type": "execute_result"
    }
   ],
   "source": [
    "model.pvalues.sort_values().index[-1]"
   ]
  },
  {
   "cell_type": "code",
   "execution_count": 298,
   "id": "33eff4ed",
   "metadata": {},
   "outputs": [
    {
     "data": {
      "text/plain": [
       "0.9323"
      ]
     },
     "execution_count": 298,
     "metadata": {},
     "output_type": "execute_result"
    }
   ],
   "source": [
    "columns_to_be_dropped =model.pvalues.sort_values().index[-1]\n",
    "Xnew= Xnew.drop(labels=columns_to_be_dropped,axis=1)\n",
    "\n",
    "from sklearn.model_selection import train_test_split\n",
    "xtrain,xtest,ytrain,ytest=train_test_split(Xnew,Y,test_size=0.2,random_state=31)\n",
    "\n",
    "from statsmodels.api import OLS, add_constant\n",
    "xconst=add_constant(xtrain,has_constant=\"add\")\n",
    "ols= OLS(ytrain,xconst)\n",
    "model=ols.fit()\n",
    "\n",
    "round(model.rsquared_adj,4)"
   ]
  },
  {
   "cell_type": "markdown",
   "id": "7032e405",
   "metadata": {},
   "source": [
    "# MODEL-132"
   ]
  },
  {
   "cell_type": "code",
   "execution_count": 299,
   "id": "74bc85f5",
   "metadata": {},
   "outputs": [
    {
     "data": {
      "text/plain": [
       "'BsmtQual_noBasement'"
      ]
     },
     "execution_count": 299,
     "metadata": {},
     "output_type": "execute_result"
    }
   ],
   "source": [
    "model.pvalues.sort_values().index[-1]"
   ]
  },
  {
   "cell_type": "code",
   "execution_count": 300,
   "id": "2902c1bb",
   "metadata": {},
   "outputs": [
    {
     "data": {
      "text/plain": [
       "0.9323"
      ]
     },
     "execution_count": 300,
     "metadata": {},
     "output_type": "execute_result"
    }
   ],
   "source": [
    "columns_to_be_dropped =model.pvalues.sort_values().index[-1]\n",
    "Xnew= Xnew.drop(labels=columns_to_be_dropped,axis=1)\n",
    "\n",
    "from sklearn.model_selection import train_test_split\n",
    "xtrain,xtest,ytrain,ytest=train_test_split(Xnew,Y,test_size=0.2,random_state=31)\n",
    "\n",
    "from statsmodels.api import OLS, add_constant\n",
    "xconst=add_constant(xtrain,has_constant=\"add\")\n",
    "ols= OLS(ytrain,xconst)\n",
    "model=ols.fit()\n",
    "\n",
    "round(model.rsquared_adj,4)"
   ]
  },
  {
   "cell_type": "markdown",
   "id": "feed4895",
   "metadata": {},
   "source": [
    "# MODEL-133"
   ]
  },
  {
   "cell_type": "code",
   "execution_count": 301,
   "id": "5d1edb6c",
   "metadata": {},
   "outputs": [
    {
     "data": {
      "text/plain": [
       "'BsmtExposure_noBasement'"
      ]
     },
     "execution_count": 301,
     "metadata": {},
     "output_type": "execute_result"
    }
   ],
   "source": [
    "model.pvalues.sort_values().index[-1]"
   ]
  },
  {
   "cell_type": "code",
   "execution_count": 302,
   "id": "8a1dfaec",
   "metadata": {},
   "outputs": [
    {
     "data": {
      "text/plain": [
       "0.9323"
      ]
     },
     "execution_count": 302,
     "metadata": {},
     "output_type": "execute_result"
    }
   ],
   "source": [
    "columns_to_be_dropped =model.pvalues.sort_values().index[-1]\n",
    "Xnew= Xnew.drop(labels=columns_to_be_dropped,axis=1)\n",
    "\n",
    "from sklearn.model_selection import train_test_split\n",
    "xtrain,xtest,ytrain,ytest=train_test_split(Xnew,Y,test_size=0.2,random_state=31)\n",
    "\n",
    "from statsmodels.api import OLS, add_constant\n",
    "xconst=add_constant(xtrain,has_constant=\"add\")\n",
    "ols= OLS(ytrain,xconst)\n",
    "model=ols.fit()\n",
    "\n",
    "round(model.rsquared_adj,4)"
   ]
  },
  {
   "cell_type": "markdown",
   "id": "bf99f9e6",
   "metadata": {},
   "source": [
    "# MODEL-134"
   ]
  },
  {
   "cell_type": "code",
   "execution_count": 303,
   "id": "54012dc8",
   "metadata": {},
   "outputs": [
    {
     "data": {
      "text/plain": [
       "'BsmtCond_noBasement'"
      ]
     },
     "execution_count": 303,
     "metadata": {},
     "output_type": "execute_result"
    }
   ],
   "source": [
    "model.pvalues.sort_values().index[-1]"
   ]
  },
  {
   "cell_type": "code",
   "execution_count": 304,
   "id": "ff016130",
   "metadata": {},
   "outputs": [
    {
     "data": {
      "text/plain": [
       "0.9323"
      ]
     },
     "execution_count": 304,
     "metadata": {},
     "output_type": "execute_result"
    }
   ],
   "source": [
    "columns_to_be_dropped =model.pvalues.sort_values().index[-1]\n",
    "Xnew= Xnew.drop(labels=columns_to_be_dropped,axis=1)\n",
    "\n",
    "from sklearn.model_selection import train_test_split\n",
    "xtrain,xtest,ytrain,ytest=train_test_split(Xnew,Y,test_size=0.2,random_state=31)\n",
    "\n",
    "from statsmodels.api import OLS, add_constant\n",
    "xconst=add_constant(xtrain,has_constant=\"add\")\n",
    "ols= OLS(ytrain,xconst)\n",
    "model=ols.fit()\n",
    "\n",
    "round(model.rsquared_adj,4)"
   ]
  },
  {
   "cell_type": "markdown",
   "id": "fd4aa5bf",
   "metadata": {},
   "source": [
    "# MODEL-135"
   ]
  },
  {
   "cell_type": "code",
   "execution_count": 305,
   "id": "80ab837d",
   "metadata": {},
   "outputs": [
    {
     "data": {
      "text/plain": [
       "'BsmtFinType2_noBasement'"
      ]
     },
     "execution_count": 305,
     "metadata": {},
     "output_type": "execute_result"
    }
   ],
   "source": [
    "model.pvalues.sort_values().index[-1]"
   ]
  },
  {
   "cell_type": "code",
   "execution_count": 306,
   "id": "d6635e17",
   "metadata": {},
   "outputs": [
    {
     "data": {
      "text/plain": [
       "0.9323"
      ]
     },
     "execution_count": 306,
     "metadata": {},
     "output_type": "execute_result"
    }
   ],
   "source": [
    "columns_to_be_dropped =model.pvalues.sort_values().index[-1]\n",
    "Xnew= Xnew.drop(labels=columns_to_be_dropped,axis=1)\n",
    "\n",
    "from sklearn.model_selection import train_test_split\n",
    "xtrain,xtest,ytrain,ytest=train_test_split(Xnew,Y,test_size=0.2,random_state=31)\n",
    "\n",
    "from statsmodels.api import OLS, add_constant\n",
    "xconst=add_constant(xtrain,has_constant=\"add\")\n",
    "ols= OLS(ytrain,xconst)\n",
    "model=ols.fit()\n",
    "\n",
    "round(model.rsquared_adj,4)"
   ]
  },
  {
   "cell_type": "markdown",
   "id": "d19fcc24",
   "metadata": {},
   "source": [
    "# MODEL-136"
   ]
  },
  {
   "cell_type": "code",
   "execution_count": 307,
   "id": "121083d9",
   "metadata": {},
   "outputs": [
    {
     "data": {
      "text/plain": [
       "'BsmtFinType1_noBasement'"
      ]
     },
     "execution_count": 307,
     "metadata": {},
     "output_type": "execute_result"
    }
   ],
   "source": [
    "model.pvalues.sort_values().index[-1]"
   ]
  },
  {
   "cell_type": "code",
   "execution_count": 308,
   "id": "ff04a137",
   "metadata": {},
   "outputs": [
    {
     "data": {
      "text/plain": [
       "0.9323"
      ]
     },
     "execution_count": 308,
     "metadata": {},
     "output_type": "execute_result"
    }
   ],
   "source": [
    "columns_to_be_dropped =model.pvalues.sort_values().index[-1]\n",
    "Xnew= Xnew.drop(labels=columns_to_be_dropped,axis=1)\n",
    "\n",
    "from sklearn.model_selection import train_test_split\n",
    "xtrain,xtest,ytrain,ytest=train_test_split(Xnew,Y,test_size=0.2,random_state=31)\n",
    "\n",
    "from statsmodels.api import OLS, add_constant\n",
    "xconst=add_constant(xtrain,has_constant=\"add\")\n",
    "ols= OLS(ytrain,xconst)\n",
    "model=ols.fit()\n",
    "\n",
    "round(model.rsquared_adj,4)"
   ]
  },
  {
   "cell_type": "markdown",
   "id": "be00c16d",
   "metadata": {},
   "source": [
    "# MODEL-137"
   ]
  },
  {
   "cell_type": "code",
   "execution_count": 309,
   "id": "38a460a7",
   "metadata": {},
   "outputs": [
    {
     "data": {
      "text/plain": [
       "'BsmtQual_Fa'"
      ]
     },
     "execution_count": 309,
     "metadata": {},
     "output_type": "execute_result"
    }
   ],
   "source": [
    "model.pvalues.sort_values().index[-1]"
   ]
  },
  {
   "cell_type": "code",
   "execution_count": 310,
   "id": "cd00c424",
   "metadata": {},
   "outputs": [
    {
     "data": {
      "text/plain": [
       "0.9324"
      ]
     },
     "execution_count": 310,
     "metadata": {},
     "output_type": "execute_result"
    }
   ],
   "source": [
    "columns_to_be_dropped =model.pvalues.sort_values().index[-1]\n",
    "Xnew= Xnew.drop(labels=columns_to_be_dropped,axis=1)\n",
    "\n",
    "from sklearn.model_selection import train_test_split\n",
    "xtrain,xtest,ytrain,ytest=train_test_split(Xnew,Y,test_size=0.2,random_state=31)\n",
    "\n",
    "from statsmodels.api import OLS, add_constant\n",
    "xconst=add_constant(xtrain,has_constant=\"add\")\n",
    "ols= OLS(ytrain,xconst)\n",
    "model=ols.fit()\n",
    "\n",
    "round(model.rsquared_adj,4)"
   ]
  },
  {
   "cell_type": "markdown",
   "id": "6027462a",
   "metadata": {},
   "source": [
    "# MODEL-138"
   ]
  },
  {
   "cell_type": "code",
   "execution_count": 311,
   "id": "b05c2484",
   "metadata": {},
   "outputs": [
    {
     "data": {
      "text/plain": [
       "'FireplaceQu_TA'"
      ]
     },
     "execution_count": 311,
     "metadata": {},
     "output_type": "execute_result"
    }
   ],
   "source": [
    "model.pvalues.sort_values().index[-1]"
   ]
  },
  {
   "cell_type": "code",
   "execution_count": 312,
   "id": "1567c6e0",
   "metadata": {},
   "outputs": [
    {
     "data": {
      "text/plain": [
       "0.9324"
      ]
     },
     "execution_count": 312,
     "metadata": {},
     "output_type": "execute_result"
    }
   ],
   "source": [
    "columns_to_be_dropped =model.pvalues.sort_values().index[-1]\n",
    "Xnew= Xnew.drop(labels=columns_to_be_dropped,axis=1)\n",
    "\n",
    "from sklearn.model_selection import train_test_split\n",
    "xtrain,xtest,ytrain,ytest=train_test_split(Xnew,Y,test_size=0.2,random_state=31)\n",
    "\n",
    "from statsmodels.api import OLS, add_constant\n",
    "xconst=add_constant(xtrain,has_constant=\"add\")\n",
    "ols= OLS(ytrain,xconst)\n",
    "model=ols.fit()\n",
    "\n",
    "round(model.rsquared_adj,4)"
   ]
  },
  {
   "cell_type": "markdown",
   "id": "678afb1d",
   "metadata": {},
   "source": [
    "# MODEL-139"
   ]
  },
  {
   "cell_type": "code",
   "execution_count": 313,
   "id": "c3a253ae",
   "metadata": {},
   "outputs": [
    {
     "data": {
      "text/plain": [
       "'FireplaceQu_Ex'"
      ]
     },
     "execution_count": 313,
     "metadata": {},
     "output_type": "execute_result"
    }
   ],
   "source": [
    "model.pvalues.sort_values().index[-1]"
   ]
  },
  {
   "cell_type": "code",
   "execution_count": 314,
   "id": "5677119e",
   "metadata": {},
   "outputs": [
    {
     "data": {
      "text/plain": [
       "0.9324"
      ]
     },
     "execution_count": 314,
     "metadata": {},
     "output_type": "execute_result"
    }
   ],
   "source": [
    "columns_to_be_dropped =model.pvalues.sort_values().index[-1]\n",
    "Xnew= Xnew.drop(labels=columns_to_be_dropped,axis=1)\n",
    "\n",
    "from sklearn.model_selection import train_test_split\n",
    "xtrain,xtest,ytrain,ytest=train_test_split(Xnew,Y,test_size=0.2,random_state=31)\n",
    "\n",
    "from statsmodels.api import OLS, add_constant\n",
    "xconst=add_constant(xtrain,has_constant=\"add\")\n",
    "ols= OLS(ytrain,xconst)\n",
    "model=ols.fit()\n",
    "\n",
    "round(model.rsquared_adj,4)"
   ]
  },
  {
   "cell_type": "markdown",
   "id": "1ff93d30",
   "metadata": {},
   "source": [
    "# MODEL-140"
   ]
  },
  {
   "cell_type": "code",
   "execution_count": 315,
   "id": "dd8b9452",
   "metadata": {},
   "outputs": [
    {
     "data": {
      "text/plain": [
       "'Neighborhood_Gilbert'"
      ]
     },
     "execution_count": 315,
     "metadata": {},
     "output_type": "execute_result"
    }
   ],
   "source": [
    "model.pvalues.sort_values().index[-1]"
   ]
  },
  {
   "cell_type": "code",
   "execution_count": 316,
   "id": "26932b4d",
   "metadata": {},
   "outputs": [
    {
     "data": {
      "text/plain": [
       "0.9324"
      ]
     },
     "execution_count": 316,
     "metadata": {},
     "output_type": "execute_result"
    }
   ],
   "source": [
    "columns_to_be_dropped =model.pvalues.sort_values().index[-1]\n",
    "Xnew= Xnew.drop(labels=columns_to_be_dropped,axis=1)\n",
    "\n",
    "from sklearn.model_selection import train_test_split\n",
    "xtrain,xtest,ytrain,ytest=train_test_split(Xnew,Y,test_size=0.2,random_state=31)\n",
    "\n",
    "from statsmodels.api import OLS, add_constant\n",
    "xconst=add_constant(xtrain,has_constant=\"add\")\n",
    "ols= OLS(ytrain,xconst)\n",
    "model=ols.fit()\n",
    "\n",
    "round(model.rsquared_adj,4)"
   ]
  },
  {
   "cell_type": "markdown",
   "id": "77416d78",
   "metadata": {},
   "source": [
    "# MODEL-141"
   ]
  },
  {
   "cell_type": "code",
   "execution_count": 317,
   "id": "703d9559",
   "metadata": {},
   "outputs": [
    {
     "data": {
      "text/plain": [
       "'Neighborhood_Sawyer'"
      ]
     },
     "execution_count": 317,
     "metadata": {},
     "output_type": "execute_result"
    }
   ],
   "source": [
    "model.pvalues.sort_values().index[-1]"
   ]
  },
  {
   "cell_type": "code",
   "execution_count": 318,
   "id": "1df68d61",
   "metadata": {},
   "outputs": [
    {
     "data": {
      "text/plain": [
       "0.9325"
      ]
     },
     "execution_count": 318,
     "metadata": {},
     "output_type": "execute_result"
    }
   ],
   "source": [
    "columns_to_be_dropped =model.pvalues.sort_values().index[-1]\n",
    "Xnew= Xnew.drop(labels=columns_to_be_dropped,axis=1)\n",
    "\n",
    "from sklearn.model_selection import train_test_split\n",
    "xtrain,xtest,ytrain,ytest=train_test_split(Xnew,Y,test_size=0.2,random_state=31)\n",
    "\n",
    "from statsmodels.api import OLS, add_constant\n",
    "xconst=add_constant(xtrain,has_constant=\"add\")\n",
    "ols= OLS(ytrain,xconst)\n",
    "model=ols.fit()\n",
    "\n",
    "round(model.rsquared_adj,4)"
   ]
  },
  {
   "cell_type": "markdown",
   "id": "6b827bff",
   "metadata": {},
   "source": [
    "# MODEL-142"
   ]
  },
  {
   "cell_type": "code",
   "execution_count": 319,
   "id": "5bf7d4a5",
   "metadata": {},
   "outputs": [
    {
     "data": {
      "text/plain": [
       "'LotShape_IR2'"
      ]
     },
     "execution_count": 319,
     "metadata": {},
     "output_type": "execute_result"
    }
   ],
   "source": [
    "model.pvalues.sort_values().index[-1]"
   ]
  },
  {
   "cell_type": "code",
   "execution_count": 320,
   "id": "638e53e8",
   "metadata": {},
   "outputs": [
    {
     "data": {
      "text/plain": [
       "0.9325"
      ]
     },
     "execution_count": 320,
     "metadata": {},
     "output_type": "execute_result"
    }
   ],
   "source": [
    "columns_to_be_dropped =model.pvalues.sort_values().index[-1]\n",
    "Xnew= Xnew.drop(labels=columns_to_be_dropped,axis=1)\n",
    "\n",
    "from sklearn.model_selection import train_test_split\n",
    "xtrain,xtest,ytrain,ytest=train_test_split(Xnew,Y,test_size=0.2,random_state=31)\n",
    "\n",
    "from statsmodels.api import OLS, add_constant\n",
    "xconst=add_constant(xtrain,has_constant=\"add\")\n",
    "ols= OLS(ytrain,xconst)\n",
    "model=ols.fit()\n",
    "\n",
    "round(model.rsquared_adj,4)"
   ]
  },
  {
   "cell_type": "markdown",
   "id": "1e6d43d1",
   "metadata": {},
   "source": [
    "# MODEL-143"
   ]
  },
  {
   "cell_type": "code",
   "execution_count": 321,
   "id": "b8cd214a",
   "metadata": {},
   "outputs": [
    {
     "data": {
      "text/plain": [
       "'LotShape_Reg'"
      ]
     },
     "execution_count": 321,
     "metadata": {},
     "output_type": "execute_result"
    }
   ],
   "source": [
    "model.pvalues.sort_values().index[-1]"
   ]
  },
  {
   "cell_type": "code",
   "execution_count": 322,
   "id": "ccdc74e3",
   "metadata": {},
   "outputs": [
    {
     "data": {
      "text/plain": [
       "0.9325"
      ]
     },
     "execution_count": 322,
     "metadata": {},
     "output_type": "execute_result"
    }
   ],
   "source": [
    "columns_to_be_dropped =model.pvalues.sort_values().index[-1]\n",
    "Xnew= Xnew.drop(labels=columns_to_be_dropped,axis=1)\n",
    "\n",
    "from sklearn.model_selection import train_test_split\n",
    "xtrain,xtest,ytrain,ytest=train_test_split(Xnew,Y,test_size=0.2,random_state=31)\n",
    "\n",
    "from statsmodels.api import OLS, add_constant\n",
    "xconst=add_constant(xtrain,has_constant=\"add\")\n",
    "ols= OLS(ytrain,xconst)\n",
    "model=ols.fit()\n",
    "\n",
    "round(model.rsquared_adj,4)"
   ]
  },
  {
   "cell_type": "markdown",
   "id": "93528387",
   "metadata": {},
   "source": [
    "# MODEL-144"
   ]
  },
  {
   "cell_type": "code",
   "execution_count": 323,
   "id": "3d837722",
   "metadata": {},
   "outputs": [
    {
     "data": {
      "text/plain": [
       "'LotShape_IR1'"
      ]
     },
     "execution_count": 323,
     "metadata": {},
     "output_type": "execute_result"
    }
   ],
   "source": [
    "model.pvalues.sort_values().index[-1]"
   ]
  },
  {
   "cell_type": "code",
   "execution_count": 324,
   "id": "95379ef3",
   "metadata": {},
   "outputs": [
    {
     "data": {
      "text/plain": [
       "0.9326"
      ]
     },
     "execution_count": 324,
     "metadata": {},
     "output_type": "execute_result"
    }
   ],
   "source": [
    "columns_to_be_dropped =model.pvalues.sort_values().index[-1]\n",
    "Xnew= Xnew.drop(labels=columns_to_be_dropped,axis=1)\n",
    "\n",
    "from sklearn.model_selection import train_test_split\n",
    "xtrain,xtest,ytrain,ytest=train_test_split(Xnew,Y,test_size=0.2,random_state=31)\n",
    "\n",
    "from statsmodels.api import OLS, add_constant\n",
    "xconst=add_constant(xtrain,has_constant=\"add\")\n",
    "ols= OLS(ytrain,xconst)\n",
    "model=ols.fit()\n",
    "\n",
    "round(model.rsquared_adj,4)"
   ]
  },
  {
   "cell_type": "markdown",
   "id": "729c1692",
   "metadata": {},
   "source": [
    "# MODEL-145"
   ]
  },
  {
   "cell_type": "code",
   "execution_count": 325,
   "id": "4b6dead0",
   "metadata": {},
   "outputs": [
    {
     "data": {
      "text/plain": [
       "'GarageType_Attchd'"
      ]
     },
     "execution_count": 325,
     "metadata": {},
     "output_type": "execute_result"
    }
   ],
   "source": [
    "model.pvalues.sort_values().index[-1]"
   ]
  },
  {
   "cell_type": "code",
   "execution_count": 326,
   "id": "5cce9cfd",
   "metadata": {},
   "outputs": [
    {
     "data": {
      "text/plain": [
       "0.9326"
      ]
     },
     "execution_count": 326,
     "metadata": {},
     "output_type": "execute_result"
    }
   ],
   "source": [
    "columns_to_be_dropped =model.pvalues.sort_values().index[-1]\n",
    "Xnew= Xnew.drop(labels=columns_to_be_dropped,axis=1)\n",
    "\n",
    "from sklearn.model_selection import train_test_split\n",
    "xtrain,xtest,ytrain,ytest=train_test_split(Xnew,Y,test_size=0.2,random_state=31)\n",
    "\n",
    "from statsmodels.api import OLS, add_constant\n",
    "xconst=add_constant(xtrain,has_constant=\"add\")\n",
    "ols= OLS(ytrain,xconst)\n",
    "model=ols.fit()\n",
    "\n",
    "round(model.rsquared_adj,4)"
   ]
  },
  {
   "cell_type": "markdown",
   "id": "833afa79",
   "metadata": {},
   "source": [
    "# MODEL-146"
   ]
  },
  {
   "cell_type": "code",
   "execution_count": 327,
   "id": "21e1748d",
   "metadata": {},
   "outputs": [
    {
     "data": {
      "text/plain": [
       "'Foundation_Stone'"
      ]
     },
     "execution_count": 327,
     "metadata": {},
     "output_type": "execute_result"
    }
   ],
   "source": [
    "model.pvalues.sort_values().index[-1]"
   ]
  },
  {
   "cell_type": "code",
   "execution_count": 328,
   "id": "7066edb8",
   "metadata": {},
   "outputs": [
    {
     "data": {
      "text/plain": [
       "0.9326"
      ]
     },
     "execution_count": 328,
     "metadata": {},
     "output_type": "execute_result"
    }
   ],
   "source": [
    "columns_to_be_dropped =model.pvalues.sort_values().index[-1]\n",
    "Xnew= Xnew.drop(labels=columns_to_be_dropped,axis=1)\n",
    "\n",
    "from sklearn.model_selection import train_test_split\n",
    "xtrain,xtest,ytrain,ytest=train_test_split(Xnew,Y,test_size=0.2,random_state=31)\n",
    "\n",
    "from statsmodels.api import OLS, add_constant\n",
    "xconst=add_constant(xtrain,has_constant=\"add\")\n",
    "ols= OLS(ytrain,xconst)\n",
    "model=ols.fit()\n",
    "\n",
    "round(model.rsquared_adj,4)"
   ]
  },
  {
   "cell_type": "markdown",
   "id": "7b728fc5",
   "metadata": {},
   "source": [
    "# MODEL-147"
   ]
  },
  {
   "cell_type": "code",
   "execution_count": 329,
   "id": "044989c0",
   "metadata": {},
   "outputs": [
    {
     "data": {
      "text/plain": [
       "'Neighborhood_CollgCr'"
      ]
     },
     "execution_count": 329,
     "metadata": {},
     "output_type": "execute_result"
    }
   ],
   "source": [
    "model.pvalues.sort_values().index[-1]"
   ]
  },
  {
   "cell_type": "code",
   "execution_count": 330,
   "id": "188d39c4",
   "metadata": {},
   "outputs": [
    {
     "data": {
      "text/plain": [
       "0.9325"
      ]
     },
     "execution_count": 330,
     "metadata": {},
     "output_type": "execute_result"
    }
   ],
   "source": [
    "columns_to_be_dropped =model.pvalues.sort_values().index[-1]\n",
    "Xnew= Xnew.drop(labels=columns_to_be_dropped,axis=1)\n",
    "\n",
    "from sklearn.model_selection import train_test_split\n",
    "xtrain,xtest,ytrain,ytest=train_test_split(Xnew,Y,test_size=0.2,random_state=31)\n",
    "\n",
    "from statsmodels.api import OLS, add_constant\n",
    "xconst=add_constant(xtrain,has_constant=\"add\")\n",
    "ols= OLS(ytrain,xconst)\n",
    "model=ols.fit()\n",
    "\n",
    "round(model.rsquared_adj,4)"
   ]
  },
  {
   "cell_type": "markdown",
   "id": "c59fbe0f",
   "metadata": {},
   "source": [
    "# MODEL-148"
   ]
  },
  {
   "cell_type": "code",
   "execution_count": 331,
   "id": "63f79c49",
   "metadata": {},
   "outputs": [
    {
     "data": {
      "text/plain": [
       "'Neighborhood_Timber'"
      ]
     },
     "execution_count": 331,
     "metadata": {},
     "output_type": "execute_result"
    }
   ],
   "source": [
    "model.pvalues.sort_values().index[-1]"
   ]
  },
  {
   "cell_type": "code",
   "execution_count": 332,
   "id": "e67b58ec",
   "metadata": {},
   "outputs": [
    {
     "data": {
      "text/plain": [
       "0.9326"
      ]
     },
     "execution_count": 332,
     "metadata": {},
     "output_type": "execute_result"
    }
   ],
   "source": [
    "columns_to_be_dropped =model.pvalues.sort_values().index[-1]\n",
    "Xnew= Xnew.drop(labels=columns_to_be_dropped,axis=1)\n",
    "\n",
    "from sklearn.model_selection import train_test_split\n",
    "xtrain,xtest,ytrain,ytest=train_test_split(Xnew,Y,test_size=0.2,random_state=31)\n",
    "\n",
    "from statsmodels.api import OLS, add_constant\n",
    "xconst=add_constant(xtrain,has_constant=\"add\")\n",
    "ols= OLS(ytrain,xconst)\n",
    "model=ols.fit()\n",
    "\n",
    "round(model.rsquared_adj,4)"
   ]
  },
  {
   "cell_type": "markdown",
   "id": "5e5e4c3c",
   "metadata": {},
   "source": [
    "# MODEL-149"
   ]
  },
  {
   "cell_type": "code",
   "execution_count": 333,
   "id": "19d0ffbc",
   "metadata": {},
   "outputs": [
    {
     "data": {
      "text/plain": [
       "'Heating_Wall'"
      ]
     },
     "execution_count": 333,
     "metadata": {},
     "output_type": "execute_result"
    }
   ],
   "source": [
    "model.pvalues.sort_values().index[-1]"
   ]
  },
  {
   "cell_type": "code",
   "execution_count": 334,
   "id": "bf439027",
   "metadata": {},
   "outputs": [
    {
     "data": {
      "text/plain": [
       "0.9325"
      ]
     },
     "execution_count": 334,
     "metadata": {},
     "output_type": "execute_result"
    }
   ],
   "source": [
    "columns_to_be_dropped =model.pvalues.sort_values().index[-1]\n",
    "Xnew= Xnew.drop(labels=columns_to_be_dropped,axis=1)\n",
    "\n",
    "from sklearn.model_selection import train_test_split\n",
    "xtrain,xtest,ytrain,ytest=train_test_split(Xnew,Y,test_size=0.2,random_state=31)\n",
    "\n",
    "from statsmodels.api import OLS, add_constant\n",
    "xconst=add_constant(xtrain,has_constant=\"add\")\n",
    "ols= OLS(ytrain,xconst)\n",
    "model=ols.fit()\n",
    "\n",
    "round(model.rsquared_adj,4)"
   ]
  },
  {
   "cell_type": "markdown",
   "id": "3f1767fe",
   "metadata": {},
   "source": [
    "# MODEL-150"
   ]
  },
  {
   "cell_type": "code",
   "execution_count": 335,
   "id": "c405d93d",
   "metadata": {},
   "outputs": [
    {
     "data": {
      "text/plain": [
       "'Exterior1st_BrkComm'"
      ]
     },
     "execution_count": 335,
     "metadata": {},
     "output_type": "execute_result"
    }
   ],
   "source": [
    "model.pvalues.sort_values().index[-1]"
   ]
  },
  {
   "cell_type": "code",
   "execution_count": 336,
   "id": "ee051627",
   "metadata": {},
   "outputs": [
    {
     "data": {
      "text/plain": [
       "0.9325"
      ]
     },
     "execution_count": 336,
     "metadata": {},
     "output_type": "execute_result"
    }
   ],
   "source": [
    "columns_to_be_dropped =model.pvalues.sort_values().index[-1]\n",
    "Xnew= Xnew.drop(labels=columns_to_be_dropped,axis=1)\n",
    "\n",
    "from sklearn.model_selection import train_test_split\n",
    "xtrain,xtest,ytrain,ytest=train_test_split(Xnew,Y,test_size=0.2,random_state=31)\n",
    "\n",
    "from statsmodels.api import OLS, add_constant\n",
    "xconst=add_constant(xtrain,has_constant=\"add\")\n",
    "ols= OLS(ytrain,xconst)\n",
    "model=ols.fit()\n",
    "\n",
    "round(model.rsquared_adj,4)"
   ]
  },
  {
   "cell_type": "markdown",
   "id": "7410ec73",
   "metadata": {},
   "source": [
    "# rsquare value decreases from here"
   ]
  },
  {
   "cell_type": "markdown",
   "id": "328f2b9c",
   "metadata": {},
   "source": [
    "# MODEL-151"
   ]
  },
  {
   "cell_type": "code",
   "execution_count": 337,
   "id": "19d68733",
   "metadata": {},
   "outputs": [],
   "source": [
    "# model.pvalues.sort_values().index[-1]"
   ]
  },
  {
   "cell_type": "code",
   "execution_count": 338,
   "id": "c1fc43a4",
   "metadata": {},
   "outputs": [],
   "source": [
    "# columns_to_be_dropped =model.pvalues.sort_values().index[-1]\n",
    "# Xnew= Xnew.drop(labels=columns_to_be_dropped,axis=1)\n",
    "\n",
    "# from sklearn.model_selection import train_test_split\n",
    "# xtrain,xtest,ytrain,ytest=train_test_split(Xnew,Y,test_size=0.2,random_state=31)\n",
    "\n",
    "# from statsmodels.api import OLS, add_constant\n",
    "# xconst=add_constant(xtrain)\n",
    "# ols= OLS(ytrain,xconst)\n",
    "# model=ols.fit()\n",
    "\n",
    "# round(model.rsquared_adj,4)"
   ]
  },
  {
   "cell_type": "code",
   "execution_count": 339,
   "id": "3eaf2cef",
   "metadata": {},
   "outputs": [],
   "source": [
    "from sklearn.linear_model import LinearRegression\n",
    "lm = LinearRegression()\n",
    "model = lm.fit(xtrain,ytrain)\n",
    "\n",
    "pred_tr = model.predict(xtrain)\n",
    "pred_ts = model.predict(xtest)\n",
    "\n",
    "from sklearn.metrics import mean_squared_error,mean_absolute_error\n",
    "tr_err = round(mean_absolute_error(ytrain,pred_tr),2)\n",
    "ts_err = round(mean_absolute_error(ytest,pred_ts),2)"
   ]
  },
  {
   "cell_type": "code",
   "execution_count": 340,
   "id": "f63c5e65",
   "metadata": {},
   "outputs": [
    {
     "name": "stdout",
     "output_type": "stream",
     "text": [
      "The training error for the OLS Backward Elimination Model:  11355.44\n"
     ]
    }
   ],
   "source": [
    "print(\"The training error for the OLS Backward Elimination Model: \",tr_err )"
   ]
  },
  {
   "cell_type": "code",
   "execution_count": 341,
   "id": "87e43a8b",
   "metadata": {},
   "outputs": [
    {
     "name": "stdout",
     "output_type": "stream",
     "text": [
      "The testing error for the OLS Backward Elimination Model:  199147402727678.12\n"
     ]
    }
   ],
   "source": [
    "print(\"The testing error for the OLS Backward Elimination Model: \",ts_err )"
   ]
  },
  {
   "cell_type": "markdown",
   "id": "d7b5faa3",
   "metadata": {},
   "source": [
    "# Ridge & Lasso"
   ]
  },
  {
   "cell_type": "code",
   "execution_count": 342,
   "id": "59926af4",
   "metadata": {},
   "outputs": [],
   "source": [
    "tr= []\n",
    "ts= []"
   ]
  },
  {
   "cell_type": "code",
   "execution_count": 343,
   "id": "dbb7984c",
   "metadata": {},
   "outputs": [],
   "source": [
    "w=[]\n",
    "q=0.01\n",
    "for i in range(0,1000,1):\n",
    "    q=q+0.01\n",
    "    q=round(q,2)\n",
    "    w.append(q)"
   ]
  },
  {
   "cell_type": "code",
   "execution_count": 344,
   "id": "d1b6ddb6",
   "metadata": {},
   "outputs": [],
   "source": [
    "for i in w:\n",
    "    from sklearn.linear_model import Ridge\n",
    "    from sklearn.metrics import mean_absolute_error\n",
    "    rr=Ridge(alpha=i)\n",
    "    model=rr.fit(xtrain,ytrain)\n",
    "\n",
    "    pred_training= model.predict(xtrain)\n",
    "    training_error= round(mean_absolute_error(ytrain,pred_training),2)\n",
    "\n",
    "    pred_testing= model.predict(xtest)\n",
    "    testing_error= round(mean_absolute_error(ytest,pred_testing),2)\n",
    "    \n",
    "    tr.append(tr_err)\n",
    "    ts.append(ts_err)\n",
    "\n",
    "#     print(\"=================\",i,\"================\")\n",
    "#     print(\"The training error(Ridge) is: \",training_error)\n",
    "#     print(\"The testing error(Ridge) is: \",testing_error,\"\\n\")"
   ]
  },
  {
   "cell_type": "code",
   "execution_count": 345,
   "id": "df760c06",
   "metadata": {},
   "outputs": [
    {
     "data": {
      "text/plain": [
       "[<matplotlib.lines.Line2D at 0x291074404c0>]"
      ]
     },
     "execution_count": 345,
     "metadata": {},
     "output_type": "execute_result"
    },
    {
     "data": {
      "image/png": "[encoded data removed]",
      "text/plain": [
       "<Figure size 432x288 with 1 Axes>"
      ]
     },
     "metadata": {
      "needs_background": "light"
     },
     "output_type": "display_data"
    }
   ],
   "source": [
    "import matplotlib.pyplot as plt\n",
    "plt.plot(w,tr,c=\"red\")\n",
    "plt.plot(w,ts,c=\"green\")"
   ]
  },
  {
   "cell_type": "code",
   "execution_count": 346,
   "id": "898b9945",
   "metadata": {},
   "outputs": [
    {
     "name": "stdout",
     "output_type": "stream",
     "text": [
      "================= ================\n",
      "The training error(Ridge) is:  12055.24\n",
      "The testing error(Ridge) is:  13310.43 \n",
      "\n"
     ]
    }
   ],
   "source": [
    "    from sklearn.linear_model import Ridge\n",
    "    rr=Ridge(alpha=10.01)\n",
    "    model=rr.fit(xtrain,ytrain)\n",
    "\n",
    "    pred_training= model.predict(xtrain)\n",
    "    training_error= round(mean_absolute_error(ytrain,pred_training),2)\n",
    "\n",
    "    pred_testing= model.predict(xtest)\n",
    "    testing_error= round(mean_absolute_error(ytest,pred_testing),2)\n",
    "    \n",
    "    tr.append(tr_err)\n",
    "    ts.append(ts_err)\n",
    "\n",
    "    print(\"=================\",\"================\")\n",
    "    print(\"The training error(Ridge) is: \",training_error)\n",
    "    print(\"The testing error(Ridge) is: \",testing_error,\"\\n\")"
   ]
  },
  {
   "cell_type": "markdown",
   "id": "3a7d0857",
   "metadata": {},
   "source": [
    "# difference between the training and testing error = 1,255.19"
   ]
  },
  {
   "cell_type": "code",
   "execution_count": 347,
   "id": "94cf7b10",
   "metadata": {},
   "outputs": [],
   "source": [
    "tr = []\n",
    "ts = []"
   ]
  },
  {
   "cell_type": "code",
   "execution_count": 348,
   "id": "5834f364",
   "metadata": {},
   "outputs": [],
   "source": [
    "w=[]\n",
    "q=0.01\n",
    "for i in range(0,1000,1):\n",
    "    q=q+0.01\n",
    "    q=round(q,2)\n",
    "    w.append(q)"
   ]
  },
  {
   "cell_type": "code",
   "execution_count": 349,
   "id": "1933266f",
   "metadata": {},
   "outputs": [],
   "source": [
    "for i in w:\n",
    "    from sklearn.linear_model import Lasso\n",
    "    ls=Lasso(alpha=i)\n",
    "    model=ls.fit(xtrain,ytrain)\n",
    "    from sklearn.metrics import mean_absolute_error\n",
    "    \n",
    "    pred_training= model.predict(xtrain)\n",
    "    training_error= round(mean_absolute_error(ytrain,pred_training),2)\n",
    "\n",
    "    pred_testing= model.predict(xtest)\n",
    "    testing_error= round(mean_absolute_error(ytest,pred_testing),2)\n",
    "    \n",
    "    tr.append(tr_err)\n",
    "    ts.append(ts_err)\n",
    "\n",
    "#     print(\"=================\",i,\"================\")\n",
    "#     print(\"The training error(Lasso) is: \",training_error)\n",
    "#     print(\"The testing error(Lasso) is: \",testing_error,\"\\n\")"
   ]
  },
  {
   "cell_type": "code",
   "execution_count": 350,
   "id": "0fa56161",
   "metadata": {},
   "outputs": [
    {
     "data": {
      "text/plain": [
       "[<matplotlib.lines.Line2D at 0x2910e38b400>]"
      ]
     },
     "execution_count": 350,
     "metadata": {},
     "output_type": "execute_result"
    },
    {
     "data": {
      "image/png": "[encoded data removed]",
      "text/plain": [
       "<Figure size 432x288 with 1 Axes>"
      ]
     },
     "metadata": {
      "needs_background": "light"
     },
     "output_type": "display_data"
    }
   ],
   "source": [
    "import matplotlib.pyplot as plt\n",
    "plt.plot(w,tr,c=\"red\")\n",
    "plt.plot(w,ts,c=\"green\")"
   ]
  },
  {
   "cell_type": "code",
   "execution_count": 351,
   "id": "b97814ef",
   "metadata": {},
   "outputs": [
    {
     "name": "stdout",
     "output_type": "stream",
     "text": [
      "================= ================\n",
      "The training error(Lasso) is:  11345.7\n",
      "The testing error(Lasso) is:  13612.13 \n",
      "\n"
     ]
    }
   ],
   "source": [
    "    from sklearn.linear_model import Lasso\n",
    "    ls=Lasso(alpha=10.01)\n",
    "    model=ls.fit(xtrain,ytrain)\n",
    "        \n",
    "    pred_training= model.predict(xtrain)\n",
    "    training_error= round(mean_absolute_error(ytrain,pred_training),2)\n",
    "\n",
    "    pred_testing= model.predict(xtest)\n",
    "    testing_error= round(mean_absolute_error(ytest,pred_testing),2)\n",
    "\n",
    "    print(\"=================\",\"================\")\n",
    "    print(\"The training error(Lasso) is: \",training_error)\n",
    "    print(\"The testing error(Lasso) is: \",testing_error,\"\\n\")"
   ]
  },
  {
   "cell_type": "markdown",
   "id": "615adc54",
   "metadata": {},
   "source": [
    "# difference between the training and testing error = 2,266.43"
   ]
  },
  {
   "cell_type": "markdown",
   "id": "05654de6",
   "metadata": {},
   "source": [
    "# TEST SET"
   ]
  },
  {
   "cell_type": "code",
   "execution_count": 352,
   "id": "be25b8a6",
   "metadata": {},
   "outputs": [
    {
     "data": {
      "text/plain": [
       "(1459, 80)"
      ]
     },
     "execution_count": 352,
     "metadata": {},
     "output_type": "execute_result"
    }
   ],
   "source": [
    "test.shape"
   ]
  },
  {
   "cell_type": "code",
   "execution_count": 353,
   "id": "afca156b",
   "metadata": {},
   "outputs": [],
   "source": [
    "cols_to_keep = xtrain.columns"
   ]
  },
  {
   "cell_type": "code",
   "execution_count": 354,
   "id": "500a0755",
   "metadata": {},
   "outputs": [],
   "source": [
    "cat = []\n",
    "con = []\n",
    "for i in test.columns:\n",
    "    if(test[i].dtypes == \"object\"):\n",
    "        cat.append(i)\n",
    "    else:\n",
    "        con.append(i)"
   ]
  },
  {
   "cell_type": "code",
   "execution_count": 355,
   "id": "a4c792bf",
   "metadata": {},
   "outputs": [],
   "source": [
    "test1 = test[['LotFrontage', 'LotArea', 'OverallQual', 'YearBuilt', 'YearRemodAdd',\n",
    "       'MasVnrArea', 'BsmtFinSF1', 'BsmtUnfSF', 'TotalBsmtSF', '1stFlrSF',\n",
    "       '2ndFlrSF', 'GrLivArea', 'BsmtFullBath', 'FullBath', 'HalfBath',\n",
    "       'BedroomAbvGr', 'TotRmsAbvGrd', 'Fireplaces', 'GarageYrBlt',\n",
    "       'GarageCars', 'GarageArea', 'WoodDeckSF', 'OpenPorchSF', 'ScreenPorch']]"
   ]
  },
  {
   "cell_type": "code",
   "execution_count": 356,
   "id": "413c35c6",
   "metadata": {},
   "outputs": [],
   "source": [
    "Xtest1 = pd.DataFrame(ss.transform(test1),columns=test1.columns)"
   ]
  },
  {
   "cell_type": "code",
   "execution_count": 357,
   "id": "d9a3a240",
   "metadata": {},
   "outputs": [],
   "source": [
    "Xtest2 = pd.get_dummies(test[cat])"
   ]
  },
  {
   "cell_type": "code",
   "execution_count": 358,
   "id": "16e31739",
   "metadata": {},
   "outputs": [],
   "source": [
    "Xtest_new = Xtest1.join(Xtest2)"
   ]
  },
  {
   "cell_type": "code",
   "execution_count": 359,
   "id": "973a9c18",
   "metadata": {},
   "outputs": [],
   "source": [
    "final_xtest = Xtest_new[cols_to_keep]"
   ]
  },
  {
   "cell_type": "code",
   "execution_count": 360,
   "id": "32abaa3f",
   "metadata": {},
   "outputs": [],
   "source": [
    "pred = model.predict(final_xtest)"
   ]
  },
  {
   "cell_type": "code",
   "execution_count": 361,
   "id": "59835361",
   "metadata": {},
   "outputs": [],
   "source": [
    "FinalPredictionModel = test[[\"Id\"]]\n",
    "FinalPredictionModel['SalePrice']=pred"
   ]
  },
  {
   "cell_type": "code",
   "execution_count": 362,
   "id": "de1501fd",
   "metadata": {},
   "outputs": [
    {
     "data": {
      "text/html": [
       "<div>\n",
       "<style scoped>\n",
       "    .dataframe tbody tr th:only-of-type {\n",
       "        vertical-align: middle;\n",
       "    }\n",
       "\n",
       "    .dataframe tbody tr th {\n",
       "        vertical-align: top;\n",
       "    }\n",
       "\n",
       "    .dataframe thead th {\n",
       "        text-align: right;\n",
       "    }\n",
       "</style>\n",
       "<table border=\"1\" class=\"dataframe\">\n",
       "  <thead>\n",
       "    <tr style=\"text-align: right;\">\n",
       "      <th></th>\n",
       "      <th>Id</th>\n",
       "      <th>SalePrice</th>\n",
       "    </tr>\n",
       "  </thead>\n",
       "  <tbody>\n",
       "    <tr>\n",
       "      <th>0</th>\n",
       "      <td>1461</td>\n",
       "      <td>124684.494971</td>\n",
       "    </tr>\n",
       "    <tr>\n",
       "      <th>1</th>\n",
       "      <td>1462</td>\n",
       "      <td>176171.644176</td>\n",
       "    </tr>\n",
       "    <tr>\n",
       "      <th>2</th>\n",
       "      <td>1463</td>\n",
       "      <td>194466.364848</td>\n",
       "    </tr>\n",
       "  </tbody>\n",
       "</table>\n",
       "</div>"
      ],
      "text/plain": [
       "     Id      SalePrice\n",
       "0  1461  124684.494971\n",
       "1  1462  176171.644176\n",
       "2  1463  194466.364848"
      ]
     },
     "execution_count": 362,
     "metadata": {},
     "output_type": "execute_result"
    }
   ],
   "source": [
    "FinalPredictionModel.head(3)"
   ]
  },
  {
   "cell_type": "code",
   "execution_count": 363,
   "id": "0f2fa55b",
   "metadata": {},
   "outputs": [
    {
     "data": {
      "text/plain": [
       "(1459, 2)"
      ]
     },
     "execution_count": 363,
     "metadata": {},
     "output_type": "execute_result"
    }
   ],
   "source": [
    "FinalPredictionModel.shape"
   ]
  },
  {
   "cell_type": "code",
   "execution_count": 364,
   "id": "24988e26",
   "metadata": {},
   "outputs": [],
   "source": [
    "# FinalPredictionModel.to_csv(\"C:/Users/Arnav/Desktop/vb classes/PROJECTS/P1 (HOUSE PREDICTION)/submission.csv\")"
   ]
  }
 ],
 "metadata": {
  "kernelspec": {
   "display_name": "Python 3 (ipykernel)",
   "language": "python",
   "name": "python3"
  },
  "language_info": {
   "codemirror_mode": {
    "name": "ipython",
    "version": 3
   },
   "file_extension": ".py",
   "mimetype": "text/x-python",
   "name": "python",
   "nbconvert_exporter": "python",
   "pygments_lexer": "ipython3",
   "version": "3.9.7"
  }
 },
 "nbformat": 4,
 "nbformat_minor": 5
}
